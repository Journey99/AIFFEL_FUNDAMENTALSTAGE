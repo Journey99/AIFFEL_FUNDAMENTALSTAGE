{
 "cells": [
  {
   "cell_type": "markdown",
   "id": "533a67b2",
   "metadata": {},
   "source": [
    "# 9.Data 어떻게 표현하면 좋을까? 배열(array)과 표(table)"
   ]
  },
  {
   "cell_type": "markdown",
   "id": "887571c7",
   "metadata": {},
   "source": [
    "## 9.2 평균 계산하기"
   ]
  },
  {
   "cell_type": "markdown",
   "id": "d0b7b62c",
   "metadata": {},
   "source": [
    "### 평균 계산하기"
   ]
  },
  {
   "cell_type": "code",
   "execution_count": 1,
   "id": "f9c98d48",
   "metadata": {},
   "outputs": [
    {
     "name": "stdout",
     "output_type": "stream",
     "text": [
      "Enter a number :  (<Enter Key> to quit)1\n",
      "Enter a number :  (<Enter Key> to quit)4\n",
      "Enter a number :  (<Enter Key> to quit)6\n",
      "Enter a number :  (<Enter Key> to quit)\n",
      "\n",
      " average is 3.6666666666666665\n"
     ]
    }
   ],
   "source": [
    "total = 0\n",
    "count = 0\n",
    "numbers = input(\"Enter a number :  (<Enter Key> to quit)\")\n",
    "while numbers != \"\":\n",
    "    try:\n",
    "        x = float(numbers)\n",
    "        count += 1\n",
    "        total = total + x\n",
    "    except ValueError:\n",
    "        print('NOT a number! Ignored..')\n",
    "    numbers = input(\"Enter a number :  (<Enter Key> to quit)\")\n",
    "avg = total / count\n",
    "print(\"\\n average is\", avg)"
   ]
  },
  {
   "cell_type": "markdown",
   "id": "b362c9ed",
   "metadata": {},
   "source": [
    "## 9.3 배열을 활용한 평균, 표준편차, 중앙값 계산"
   ]
  },
  {
   "cell_type": "markdown",
   "id": "9a727b36",
   "metadata": {},
   "source": [
    "### 사용자가 입력한 숫자들을 배열로 만들기"
   ]
  },
  {
   "cell_type": "code",
   "execution_count": 3,
   "id": "37690d66",
   "metadata": {},
   "outputs": [
    {
     "name": "stdout",
     "output_type": "stream",
     "text": [
      "숫자를 입력하시오: (엔터키를 누르면 정지)3\n",
      "숫자를 입력하시오: (엔터키를 누르면 정지)A\n",
      ">>> not a number!\n",
      "숫자를 입력하시오: (엔터키를 누르면 정지)5\n",
      "숫자를 입력하시오: (엔터키를 누르면 정지)6\n",
      "숫자를 입력하시오: (엔터키를 누르면 정지)\n",
      "X: [3.0, 5.0, 6.0]\n"
     ]
    }
   ],
   "source": [
    "def numbers():\n",
    "    X = []\n",
    "    while True:\n",
    "        number = input(\"숫자를 입력하시오: (엔터키를 누르면 정지)\")\n",
    "        while number != \"\":\n",
    "            try:\n",
    "                x = float(number)\n",
    "                X.append(x)\n",
    "            except ValueError:\n",
    "                print('>>> not a number!')\n",
    "            number = input(\"숫자를 입력하시오: (엔터키를 누르면 정지)\")\n",
    "        if len(X) > 1:\n",
    "            return X\n",
    "X = numbers()\n",
    "\n",
    "print('X:' , X)"
   ]
  },
  {
   "cell_type": "markdown",
   "id": "427d2fde",
   "metadata": {},
   "source": [
    "- 파이썬 리스트는 동적 배열!"
   ]
  },
  {
   "cell_type": "markdown",
   "id": "d017173b",
   "metadata": {},
   "source": [
    "### list와 array이의 차이"
   ]
  },
  {
   "cell_type": "code",
   "execution_count": 4,
   "id": "50621147",
   "metadata": {},
   "outputs": [
    {
     "name": "stdout",
     "output_type": "stream",
     "text": [
      "<class 'list'>\n",
      "[1, 2, 3, '4']\n",
      "[1, 5, 2, 3, '4']\n",
      "<class 'array.array'>\n",
      "array('i', [1, 2, 3])\n",
      "array('i', [1, 5, 2, 3])\n"
     ]
    }
   ],
   "source": [
    "import array as arr\n",
    "\n",
    "mylist = [1, 2, 3]   # 이것은 파이썬 built-in list입니다. \n",
    "print(type(mylist))\n",
    "\n",
    "mylist.append('4')  # mylist의 끝에 character '4'를 추가합니다. \n",
    "print(mylist)\n",
    "\n",
    "mylist.insert(1, 5)  # mylist의 두번째 자리에 5를 끼워넣습니다.\n",
    "print(mylist)\n",
    "\n",
    "myarray = arr.array('i', [1, 2, 3])   # 이것은 array입니다. import array를 해야 쓸 수 있습니다.\n",
    "print(type(myarray))\n",
    "\n",
    "# 아래 라인의 주석을 풀고 실행하면 에러가 납니다.\n",
    "#myarray.append('4')    # myarray의 끝에 character '4'를 추가합니다. \n",
    "print(myarray)\n",
    "\n",
    "myarray.insert(1, 5)    # myarray의 두번째 자리에 5를 끼워넣습니다.\n",
    "print(myarray)"
   ]
  },
  {
   "cell_type": "markdown",
   "id": "f7003d6a",
   "metadata": {},
   "source": [
    "- list 안의 element 사이에 다른 타입의 자료형이 허용\n",
    "- array는 처음부터 element의 유형을 지정해서 생성하며, 지정되지 않은 다른 타입의 element 추가가 허용되지 않는다"
   ]
  },
  {
   "cell_type": "markdown",
   "id": "54331d2b",
   "metadata": {},
   "source": [
    "### 리스트를 활용한 시그마의 표현"
   ]
  },
  {
   "cell_type": "code",
   "execution_count": 5,
   "id": "9796c79f",
   "metadata": {},
   "outputs": [
    {
     "name": "stdout",
     "output_type": "stream",
     "text": [
      "sum of X:  14.0\n"
     ]
    }
   ],
   "source": [
    "total = 0.0\n",
    "for i in range(len(X)):\n",
    "    total = total + X[i]\n",
    "mean = total / len(X)\n",
    "\n",
    "print('sum of X: ', total)"
   ]
  },
  {
   "cell_type": "markdown",
   "id": "87a6b4dc",
   "metadata": {},
   "source": [
    "### 중앙값\n",
    "- n이 홀수이면 n/2을 반올림한 순서의 값이 중앙값\n",
    "- n이 짝수라면 n/2번째 값과 ((n/2) + 1) 번째 값의 평균"
   ]
  },
  {
   "cell_type": "code",
   "execution_count": 8,
   "id": "c35c5b94",
   "metadata": {},
   "outputs": [
    {
     "name": "stdout",
     "output_type": "stream",
     "text": [
      "X:  [3.0, 5.0, 6.0]\n"
     ]
    },
    {
     "data": {
      "text/plain": [
       "5.0"
      ]
     },
     "execution_count": 8,
     "metadata": {},
     "output_type": "execute_result"
    }
   ],
   "source": [
    "def median(nums):\n",
    "    nums.sort()\n",
    "    size = len(nums)\n",
    "    p = size // 2\n",
    "    if size % 2 == 0:\n",
    "        pr = p\n",
    "        pl = p-1\n",
    "        mid = float((nums[pl] + nums[pr]) / 2)\n",
    "    else:\n",
    "        mid = nums[p]\n",
    "    \n",
    "    return mid\n",
    "\n",
    "print('X: ',X)\n",
    "median(X)"
   ]
  },
  {
   "cell_type": "markdown",
   "id": "57946f31",
   "metadata": {},
   "source": [
    "### 표준편차와 평균"
   ]
  },
  {
   "cell_type": "code",
   "execution_count": 9,
   "id": "69280187",
   "metadata": {},
   "outputs": [
    {
     "data": {
      "text/plain": [
       "4.666666666666667"
      ]
     },
     "execution_count": 9,
     "metadata": {},
     "output_type": "execute_result"
    }
   ],
   "source": [
    "# 평균\n",
    "\n",
    "def means(nums):\n",
    "    total = 0.0\n",
    "    for i in range(len(nums)):\n",
    "        total += nums[i]\n",
    "    return total / len(nums)\n",
    "\n",
    "means(X)"
   ]
  },
  {
   "cell_type": "code",
   "execution_count": 10,
   "id": "d4c1cca9",
   "metadata": {},
   "outputs": [
    {
     "data": {
      "text/plain": [
       "1.247219128924647"
      ]
     },
     "execution_count": 10,
     "metadata": {},
     "output_type": "execute_result"
    }
   ],
   "source": [
    "# 표준편차\n",
    "\n",
    "avg = means(X)\n",
    "\n",
    "def std_dev(nums, avg):\n",
    "    texp = 0.0\n",
    "    for i in range(len(nums)):\n",
    "        texp += (nums[i] - avg) ** 2\n",
    "    return (texp / len(nums)) ** 0.5\n",
    "\n",
    "std_dev(X, avg)"
   ]
  },
  {
   "cell_type": "markdown",
   "id": "6719f89e",
   "metadata": {},
   "source": [
    "### 전체 코드 : main() 함수"
   ]
  },
  {
   "cell_type": "code",
   "execution_count": 11,
   "id": "3014ac6b",
   "metadata": {},
   "outputs": [
    {
     "name": "stdout",
     "output_type": "stream",
     "text": [
      "Enter a number (<Enter key> to quit)3\n",
      "Enter a number (<Enter key> to quit)5\n",
      "Enter a number (<Enter key> to quit)9\n",
      "Enter a number (<Enter key> to quit)21\n",
      "Enter a number (<Enter key> to quit)34\n",
      "Enter a number (<Enter key> to quit)1\n",
      "Enter a number (<Enter key> to quit)\n",
      "당신이 입력한 숫자[1.0, 3.0, 5.0, 9.0, 21.0, 34.0]의 \n",
      "중앙값은7.0, 평균은12.166666666666666, 표준편차는11.724854891307707입니다.\n"
     ]
    }
   ],
   "source": [
    "def numbers():                             # 리스트 입력받기\n",
    "    X=[]\n",
    "    while True:\n",
    "        number = input(\"Enter a number (<Enter key> to quit)\") \n",
    "        while number !=\"\":\n",
    "            try:\n",
    "                x = float(number)\n",
    "                X.append(x)\n",
    "            except ValueError:\n",
    "                print('>>> NOT a number! Ignored..')\n",
    "            number = input(\"Enter a number (<Enter key> to quit)\")\n",
    "        if len(X) > 1:\n",
    "            return X\n",
    "\n",
    "def median(nums):                           # 평균\n",
    "    nums.sort()\n",
    "    size = len(nums)\n",
    "    p = size // 2\n",
    "    if size % 2 == 0:\n",
    "        pr = p\n",
    "        pl = p-1\n",
    "        mid = float((nums[pl]+nums[pr])/2)\n",
    "    else:\n",
    "        mid = nums[p]\n",
    "    return mid\n",
    "\n",
    "def means(nums):                            # 중앙값\n",
    "    total = 0.0\n",
    "    for i in range(len(nums)):\n",
    "        total = total + nums[i]\n",
    "    return total / len(nums)\n",
    "\n",
    "def std_dev(nums, avg):                    # 표준편차\n",
    "   texp = 0.0\n",
    "   for i in range(len(nums)):\n",
    "       texp = texp + (nums[i] - avg) ** 2\n",
    "   return (texp/len(nums)) ** 0.5\n",
    "\n",
    "def main():\n",
    "    X = numbers()\n",
    "    med = median(X)\n",
    "    avg = means(X)\n",
    "    std = std_dev(X, avg)\n",
    "    print(\"당신이 입력한 숫자{}의 \".format(X))\n",
    "    print(\"중앙값은{}, 평균은{}, 표준편차는{}입니다.\".format(med, avg, std))\n",
    "\n",
    "if __name__ == '__main__':\n",
    "    main()"
   ]
  },
  {
   "cell_type": "markdown",
   "id": "c06dac26",
   "metadata": {},
   "source": [
    "## 9.4 Numpy 소개"
   ]
  },
  {
   "cell_type": "markdown",
   "id": "6712e051",
   "metadata": {},
   "source": [
    "- 과학 계산용 고성능 컴퓨팅과 데이터 분석에 필요한 파이썬 패키지\n",
    "- pip install numpy\n",
    "- 빠르고 메모리를 효율적으로 사용하여 벡터의 산술 연산과 브로드캐스팅 연산을 지원하는 다차원 배열 ndarray 데이터 타입을 지원\n",
    "- 반복문을 작성할 필요 없이 전체 데이터 배열에 대해 빠른 연산을 제공하는 다양한 표준 수학 함수를 제공\n",
    "- 배열 데이터를 디스크에 쓰거나 읽을 수 있다"
   ]
  },
  {
   "cell_type": "markdown",
   "id": "968387b4",
   "metadata": {},
   "source": [
    "## 9.5 NumPy의 주요 기능"
   ]
  },
  {
   "cell_type": "markdown",
   "id": "febcded4",
   "metadata": {},
   "source": [
    "### 1) ndarray 만들기"
   ]
  },
  {
   "cell_type": "code",
   "execution_count": 2,
   "id": "c3dbab65",
   "metadata": {},
   "outputs": [
    {
     "name": "stdout",
     "output_type": "stream",
     "text": [
      "[0 1 2 3 4]\n",
      "<class 'numpy.ndarray'>\n",
      "--------------------------\n",
      "[0 1 2 3 4]\n",
      "<class 'numpy.ndarray'>\n",
      "--------------------------\n",
      "['0' '1' '2' '3' '4']\n",
      "<class 'numpy.ndarray'>\n",
      "--------------------------\n",
      "[0 1 2 3 4]\n",
      "<class 'numpy.ndarray'>\n"
     ]
    }
   ],
   "source": [
    "import numpy as np\n",
    "\n",
    "# 아래 A와 B는 결과적으로 같은 ndarray 객체를 생성합니다. \n",
    "A = np.arange(5)\n",
    "B = np.array([0,1,2,3,4])  # 파이썬 리스트를 numpy ndarray로 변환\n",
    "\n",
    "# 하지만 C는 좀 다를 것입니다. \n",
    "C = np.array([0,1,2,3,'4'])\n",
    "\n",
    "# D도 A, B와 같은 결과를 내겠지만, B의 방법을 권합니다. \n",
    "D = np.ndarray((5,), np.int64, np.array([0,1,2,3,4]))\n",
    "\n",
    "print(A)\n",
    "print(type(A))\n",
    "print(\"--------------------------\")\n",
    "print(B)\n",
    "print(type(B))\n",
    "print(\"--------------------------\")\n",
    "print(C)\n",
    "print(type(C))\n",
    "print(\"--------------------------\")\n",
    "print(D)\n",
    "print(type(D))"
   ]
  },
  {
   "cell_type": "markdown",
   "id": "9f4ea01b",
   "metadata": {},
   "source": [
    "- numpy.ndarray도 array이므로 모든 element의 type이 동일해야 한다.\n",
    "- 숫자는 모두 문자열로 바꿔 줄 수 있어서 C가 전부 문자열로"
   ]
  },
  {
   "cell_type": "markdown",
   "id": "198852e8",
   "metadata": {},
   "source": [
    "### 2) 크기\n",
    "- ndarray.size : 행렬 내 원소의 개수\n",
    "- ndarray.shape : 행렬의 모양\n",
    "- ndarray.ndim : 행렬의 축의 개수 \n",
    "- reshape() : 행렬의 모양을 바꿔줌"
   ]
  },
  {
   "cell_type": "code",
   "execution_count": 13,
   "id": "8b3c3823",
   "metadata": {},
   "outputs": [
    {
     "name": "stdout",
     "output_type": "stream",
     "text": [
      "행렬의 모양: (2, 5)\n",
      "행렬의 축 개수: 2\n",
      "행렬 내 원소의 개수: 10\n"
     ]
    }
   ],
   "source": [
    "A = np.arange(10).reshape(2, 5)   # 길이 10의 1차원 행렬을 2X5 2차원 행렬로 바꿔봅니다.\n",
    "\n",
    "print(\"행렬의 모양:\", A.shape)\n",
    "print(\"행렬의 축 개수:\", A.ndim)\n",
    "print(\"행렬 내 원소의 개수:\", A.size)"
   ]
  },
  {
   "cell_type": "code",
   "execution_count": 15,
   "id": "dd6acf01",
   "metadata": {},
   "outputs": [
    {
     "data": {
      "text/plain": [
       "array([[0, 1, 2, 3, 4],\n",
       "       [5, 6, 7, 8, 9]])"
      ]
     },
     "execution_count": 15,
     "metadata": {},
     "output_type": "execute_result"
    }
   ],
   "source": [
    "A = np.arange(10).reshape(2, 5)\n",
    "A"
   ]
  },
  {
   "cell_type": "code",
   "execution_count": 3,
   "id": "f0857c64",
   "metadata": {},
   "outputs": [
    {
     "name": "stdout",
     "output_type": "stream",
     "text": [
      "A :  [0 1 2 3 4 5 6 7 8 9]\n",
      "B  : [[0 1 2 3 4]\n",
      " [5 6 7 8 9]]\n"
     ]
    },
    {
     "ename": "ValueError",
     "evalue": "cannot reshape array of size 10 into shape (3,3)",
     "output_type": "error",
     "traceback": [
      "\u001b[0;31m---------------------------------------------------------------------------\u001b[0m",
      "\u001b[0;31mValueError\u001b[0m                                Traceback (most recent call last)",
      "\u001b[0;32m/tmp/ipykernel_47/2617702483.py\u001b[0m in \u001b[0;36m<module>\u001b[0;34m\u001b[0m\n\u001b[1;32m      3\u001b[0m \u001b[0mB\u001b[0m \u001b[0;34m=\u001b[0m \u001b[0mnp\u001b[0m\u001b[0;34m.\u001b[0m\u001b[0marange\u001b[0m\u001b[0;34m(\u001b[0m\u001b[0;36m10\u001b[0m\u001b[0;34m)\u001b[0m\u001b[0;34m.\u001b[0m\u001b[0mreshape\u001b[0m\u001b[0;34m(\u001b[0m\u001b[0;36m2\u001b[0m\u001b[0;34m,\u001b[0m\u001b[0;36m5\u001b[0m\u001b[0;34m)\u001b[0m\u001b[0;34m\u001b[0m\u001b[0;34m\u001b[0m\u001b[0m\n\u001b[1;32m      4\u001b[0m \u001b[0mprint\u001b[0m\u001b[0;34m(\u001b[0m\u001b[0;34m\"B  :\"\u001b[0m \u001b[0;34m,\u001b[0m\u001b[0mB\u001b[0m \u001b[0;34m)\u001b[0m\u001b[0;34m\u001b[0m\u001b[0;34m\u001b[0m\u001b[0m\n\u001b[0;32m----> 5\u001b[0;31m \u001b[0mC\u001b[0m \u001b[0;34m=\u001b[0m \u001b[0mnp\u001b[0m\u001b[0;34m.\u001b[0m\u001b[0marange\u001b[0m\u001b[0;34m(\u001b[0m\u001b[0;36m10\u001b[0m\u001b[0;34m)\u001b[0m\u001b[0;34m.\u001b[0m\u001b[0mreshape\u001b[0m\u001b[0;34m(\u001b[0m\u001b[0;36m3\u001b[0m\u001b[0;34m,\u001b[0m\u001b[0;36m3\u001b[0m\u001b[0;34m)\u001b[0m \u001b[0;31m# 에러가 남\u001b[0m\u001b[0;34m\u001b[0m\u001b[0;34m\u001b[0m\u001b[0m\n\u001b[0m\u001b[1;32m      6\u001b[0m \u001b[0mprint\u001b[0m\u001b[0;34m(\u001b[0m\u001b[0;34m\"C  : \"\u001b[0m\u001b[0;34m,\u001b[0m \u001b[0mC\u001b[0m\u001b[0;34m)\u001b[0m\u001b[0;34m\u001b[0m\u001b[0;34m\u001b[0m\u001b[0m\n",
      "\u001b[0;31mValueError\u001b[0m: cannot reshape array of size 10 into shape (3,3)"
     ]
    }
   ],
   "source": [
    "A = np.arange(10)\n",
    "print(\"A : \"  ,A)\n",
    "B = np.arange(10).reshape(2,5)\n",
    "print(\"B  :\" ,B )\n",
    "C = np.arange(10).reshape(3,3) # 에러가 남\n",
    "print(\"C  : \", C)"
   ]
  },
  {
   "cell_type": "markdown",
   "id": "9bfc20e0",
   "metadata": {},
   "source": [
    "### 3) type\n",
    "- NumPy: numpy.array.dtype\n",
    "- 파이썬: type()"
   ]
  },
  {
   "cell_type": "code",
   "execution_count": 19,
   "id": "de7c8fa6",
   "metadata": {},
   "outputs": [
    {
     "name": "stdout",
     "output_type": "stream",
     "text": [
      "[[0 1 2]\n",
      " [3 4 5]]\n",
      "int64\n",
      "<class 'numpy.ndarray'>\n",
      "-------------------------\n",
      "[0 1 2 3 4 5]\n",
      "int64\n",
      "<class 'numpy.ndarray'>\n",
      "-------------------------\n",
      "['0' '1' '2' '3' '4' '5']\n",
      "<U21\n",
      "<class 'numpy.ndarray'>\n",
      "-------------------------\n",
      "[0 1 2 3 list([4, 5]) 6]\n",
      "object\n",
      "<class 'numpy.ndarray'>\n"
     ]
    },
    {
     "name": "stderr",
     "output_type": "stream",
     "text": [
      "/tmp/ipykernel_13/130055213.py:19: VisibleDeprecationWarning: Creating an ndarray from ragged nested sequences (which is a list-or-tuple of lists-or-tuples-or ndarrays with different lengths or shapes) is deprecated. If you meant to do this, you must specify 'dtype=object' when creating the ndarray.\n",
      "  D = np.array([0, 1, 2, 3, [4, 5], 6])  # 이런 ndarray도 만들어질까요?\n"
     ]
    }
   ],
   "source": [
    "A= np.arange(6).reshape(2, 3)\n",
    "print(A)\n",
    "print(A.dtype)\n",
    "print(type(A))\n",
    "print(\"-------------------------\")\n",
    "\n",
    "B = np.array([0, 1, 2, 3, 4, 5])  \n",
    "print(B)\n",
    "print(B.dtype)\n",
    "print(type(B))\n",
    "print(\"-------------------------\")\n",
    "\n",
    "C = np.array([0, 1, 2, 3, '4', 5])\n",
    "print(C)\n",
    "print(C.dtype)\n",
    "print(type(C))\n",
    "print(\"-------------------------\")\n",
    "\n",
    "D = np.array([0, 1, 2, 3, [4, 5], 6])  # 이런 ndarray도 만들어질까요?\n",
    "print(D)\n",
    "print(D.dtype)\n",
    "print(type(D))"
   ]
  },
  {
   "cell_type": "markdown",
   "id": "7a46b03b",
   "metadata": {},
   "source": [
    "- dtype은 NumPy ndarray의 \"원소\"의 데이터 타입을 반환\n",
    "- 파이썬 내장함수인 type(A)을 이용하면 행렬 A의 자료형이 반환\n",
    "- D.dtype은 object를 리턴. 파이썬의 최상위 클래스는 바로 object"
   ]
  },
  {
   "cell_type": "code",
   "execution_count": 20,
   "id": "0a74976b",
   "metadata": {},
   "outputs": [
    {
     "name": "stdout",
     "output_type": "stream",
     "text": [
      "[0 1 2 3 list([4, 5]) 6]\n",
      "object\n",
      "<class 'numpy.ndarray'>\n"
     ]
    }
   ],
   "source": [
    "D = np.array([0, 1, 2, 3, [4, 5], 6], dtype=object)  # warning 메시지를 보고 이렇게 바꿔봅니다.\n",
    "print(D)\n",
    "print(D.dtype)\n",
    "print(type(D))"
   ]
  },
  {
   "cell_type": "code",
   "execution_count": 21,
   "id": "b3182f47",
   "metadata": {},
   "outputs": [
    {
     "name": "stdout",
     "output_type": "stream",
     "text": [
      "0\n",
      "<class 'numpy.str_'>\n",
      "4\n",
      "<class 'numpy.str_'>\n",
      "------------------------------\n",
      "0\n",
      "<class 'int'>\n",
      "[4, 5]\n",
      "<class 'list'>\n"
     ]
    }
   ],
   "source": [
    "C = np.array([0,1,2,3,'4',5])\n",
    "print(C[0])\n",
    "print(type(C[0]))\n",
    "print(C[4])\n",
    "print(type(C[4]))\n",
    "print(\"------------------------------\")\n",
    "\n",
    "D = np.array([0,1,2,3,[4,5],6], dtype=object)\n",
    "print(D[0])\n",
    "print(type(D[0]))\n",
    "print(D[4])\n",
    "print(type(D[4]))"
   ]
  },
  {
   "cell_type": "markdown",
   "id": "b1d739ca",
   "metadata": {},
   "source": [
    "### 4) 특수 행렬\n",
    "- 단위행렬\n",
    "- 0 행렬\n",
    "- 1 행렬"
   ]
  },
  {
   "cell_type": "code",
   "execution_count": 22,
   "id": "6e943425",
   "metadata": {},
   "outputs": [
    {
     "data": {
      "text/plain": [
       "array([[1., 0., 0.],\n",
       "       [0., 1., 0.],\n",
       "       [0., 0., 1.]])"
      ]
     },
     "execution_count": 22,
     "metadata": {},
     "output_type": "execute_result"
    }
   ],
   "source": [
    "# 단위행렬\n",
    "np.eye(3)"
   ]
  },
  {
   "cell_type": "code",
   "execution_count": 23,
   "id": "b7a80bb9",
   "metadata": {},
   "outputs": [
    {
     "data": {
      "text/plain": [
       "array([[0., 0., 0.],\n",
       "       [0., 0., 0.]])"
      ]
     },
     "execution_count": 23,
     "metadata": {},
     "output_type": "execute_result"
    }
   ],
   "source": [
    "# 0행렬\n",
    "np.zeros([2,3])"
   ]
  },
  {
   "cell_type": "code",
   "execution_count": 24,
   "id": "3fac673c",
   "metadata": {},
   "outputs": [
    {
     "data": {
      "text/plain": [
       "array([[1., 1., 1.],\n",
       "       [1., 1., 1.],\n",
       "       [1., 1., 1.]])"
      ]
     },
     "execution_count": 24,
     "metadata": {},
     "output_type": "execute_result"
    }
   ],
   "source": [
    "# 1행렬\n",
    "np.ones([3,3])"
   ]
  },
  {
   "cell_type": "markdown",
   "id": "a06c3313",
   "metadata": {},
   "source": [
    "### 5) 브로드캐스트"
   ]
  },
  {
   "cell_type": "code",
   "execution_count": 25,
   "id": "301c4633",
   "metadata": {},
   "outputs": [
    {
     "data": {
      "text/plain": [
       "array([[0, 1, 2],\n",
       "       [3, 4, 5],\n",
       "       [6, 7, 8]])"
      ]
     },
     "execution_count": 25,
     "metadata": {},
     "output_type": "execute_result"
    }
   ],
   "source": [
    "A = np.arange(9).reshape(3,3)\n",
    "A"
   ]
  },
  {
   "cell_type": "code",
   "execution_count": 26,
   "id": "c92d7228",
   "metadata": {},
   "outputs": [
    {
     "data": {
      "text/plain": [
       "array([[ 0,  2,  4],\n",
       "       [ 6,  8, 10],\n",
       "       [12, 14, 16]])"
      ]
     },
     "execution_count": 26,
     "metadata": {},
     "output_type": "execute_result"
    }
   ],
   "source": [
    "A * 2"
   ]
  },
  {
   "cell_type": "code",
   "execution_count": 27,
   "id": "889f5b8f",
   "metadata": {},
   "outputs": [
    {
     "data": {
      "text/plain": [
       "array([[ 2,  3,  4],\n",
       "       [ 5,  6,  7],\n",
       "       [ 8,  9, 10]])"
      ]
     },
     "execution_count": 27,
     "metadata": {},
     "output_type": "execute_result"
    }
   ],
   "source": [
    "A + 2"
   ]
  },
  {
   "cell_type": "code",
   "execution_count": 29,
   "id": "3a7c72d2",
   "metadata": {},
   "outputs": [
    {
     "name": "stdout",
     "output_type": "stream",
     "text": [
      "A :  [[0 1 2]\n",
      " [3 4 5]\n",
      " [6 7 8]]\n",
      "B :  [1 2 3]\n",
      "A+B :  [[ 1  3  5]\n",
      " [ 4  6  8]\n",
      " [ 7  9 11]]\n"
     ]
    }
   ],
   "source": [
    "# 3 X 3 행렬에 1 X 3 행렬을 더했을 때\n",
    "A = np.arange(9).reshape(3,3)\n",
    "B = np.array([1,2,3])\n",
    "\n",
    "print(\"A : \", A)\n",
    "print(\"B : \", B)\n",
    "print('A+B : ', A+B)"
   ]
  },
  {
   "cell_type": "code",
   "execution_count": 31,
   "id": "07f2496c",
   "metadata": {},
   "outputs": [
    {
     "name": "stdout",
     "output_type": "stream",
     "text": [
      "A :  [[0 1 2]\n",
      " [3 4 5]\n",
      " [6 7 8]]\n",
      "C :  [[1]\n",
      " [2]\n",
      " [3]]\n",
      "A+C :  [[ 1  2  3]\n",
      " [ 5  6  7]\n",
      " [ 9 10 11]]\n"
     ]
    }
   ],
   "source": [
    "# 3 X 3 행렬에 3 X 1 행렬을 더했을 때\n",
    "A = np.arange(9).reshape(3,3)\n",
    "C = np.array([[1],[2],[3]])\n",
    "\n",
    "print(\"A : \", A)\n",
    "print(\"C : \", C)\n",
    "print('A+C : ', A+C)"
   ]
  },
  {
   "cell_type": "code",
   "execution_count": 32,
   "id": "830ea1f6",
   "metadata": {},
   "outputs": [
    {
     "ename": "ValueError",
     "evalue": "operands could not be broadcast together with shapes (3,3) (2,) ",
     "output_type": "error",
     "traceback": [
      "\u001b[0;31m---------------------------------------------------------------------------\u001b[0m",
      "\u001b[0;31mValueError\u001b[0m                                Traceback (most recent call last)",
      "\u001b[0;32m/tmp/ipykernel_13/3726922300.py\u001b[0m in \u001b[0;36m<module>\u001b[0;34m\u001b[0m\n\u001b[1;32m      2\u001b[0m \u001b[0mA\u001b[0m \u001b[0;34m=\u001b[0m \u001b[0mnp\u001b[0m\u001b[0;34m.\u001b[0m\u001b[0marange\u001b[0m\u001b[0;34m(\u001b[0m\u001b[0;36m9\u001b[0m\u001b[0;34m)\u001b[0m\u001b[0;34m.\u001b[0m\u001b[0mreshape\u001b[0m\u001b[0;34m(\u001b[0m\u001b[0;36m3\u001b[0m\u001b[0;34m,\u001b[0m\u001b[0;36m3\u001b[0m\u001b[0;34m)\u001b[0m\u001b[0;34m\u001b[0m\u001b[0;34m\u001b[0m\u001b[0m\n\u001b[1;32m      3\u001b[0m \u001b[0mD\u001b[0m \u001b[0;34m=\u001b[0m \u001b[0mnp\u001b[0m\u001b[0;34m.\u001b[0m\u001b[0marray\u001b[0m\u001b[0;34m(\u001b[0m\u001b[0;34m[\u001b[0m\u001b[0;36m1\u001b[0m\u001b[0;34m,\u001b[0m\u001b[0;36m2\u001b[0m\u001b[0;34m]\u001b[0m\u001b[0;34m)\u001b[0m\u001b[0;34m\u001b[0m\u001b[0;34m\u001b[0m\u001b[0m\n\u001b[0;32m----> 4\u001b[0;31m \u001b[0mA\u001b[0m \u001b[0;34m+\u001b[0m \u001b[0mD\u001b[0m\u001b[0;34m\u001b[0m\u001b[0;34m\u001b[0m\u001b[0m\n\u001b[0m",
      "\u001b[0;31mValueError\u001b[0m: operands could not be broadcast together with shapes (3,3) (2,) "
     ]
    }
   ],
   "source": [
    "# 3 X 3 행렬에 1 X 2 행렬을 더하는 것은 허용되지 않는다\n",
    "A = np.arange(9).reshape(3,3)\n",
    "D = np.array([1,2])\n",
    "A + D"
   ]
  },
  {
   "cell_type": "code",
   "execution_count": 33,
   "id": "6380da04",
   "metadata": {},
   "outputs": [
    {
     "name": "stdout",
     "output_type": "stream",
     "text": [
      "[1, 2, 3, 4]\n"
     ]
    },
    {
     "ename": "TypeError",
     "evalue": "can only concatenate list (not \"int\") to list",
     "output_type": "error",
     "traceback": [
      "\u001b[0;31m---------------------------------------------------------------------------\u001b[0m",
      "\u001b[0;31mTypeError\u001b[0m                                 Traceback (most recent call last)",
      "\u001b[0;32m/tmp/ipykernel_13/410015012.py\u001b[0m in \u001b[0;36m<module>\u001b[0;34m\u001b[0m\n\u001b[1;32m      1\u001b[0m \u001b[0mprint\u001b[0m\u001b[0;34m(\u001b[0m\u001b[0;34m[\u001b[0m\u001b[0;36m1\u001b[0m\u001b[0;34m,\u001b[0m\u001b[0;36m2\u001b[0m\u001b[0;34m]\u001b[0m\u001b[0;34m+\u001b[0m\u001b[0;34m[\u001b[0m\u001b[0;36m3\u001b[0m\u001b[0;34m,\u001b[0m\u001b[0;36m4\u001b[0m\u001b[0;34m]\u001b[0m\u001b[0;34m)\u001b[0m\u001b[0;34m\u001b[0m\u001b[0;34m\u001b[0m\u001b[0m\n\u001b[0;32m----> 2\u001b[0;31m \u001b[0mprint\u001b[0m\u001b[0;34m(\u001b[0m\u001b[0;34m[\u001b[0m\u001b[0;36m1\u001b[0m\u001b[0;34m,\u001b[0m\u001b[0;36m2\u001b[0m\u001b[0;34m]\u001b[0m\u001b[0;34m+\u001b[0m\u001b[0;36m3\u001b[0m\u001b[0;34m)\u001b[0m\u001b[0;34m\u001b[0m\u001b[0;34m\u001b[0m\u001b[0m\n\u001b[0m",
      "\u001b[0;31mTypeError\u001b[0m: can only concatenate list (not \"int\") to list"
     ]
    }
   ],
   "source": [
    "print([1,2]+[3,4])\n",
    "print([1,2]+3)"
   ]
  },
  {
   "cell_type": "code",
   "execution_count": 34,
   "id": "81815bd7",
   "metadata": {},
   "outputs": [
    {
     "name": "stdout",
     "output_type": "stream",
     "text": [
      "[4 6]\n",
      "[4 5]\n"
     ]
    }
   ],
   "source": [
    "print(np.array([1,2])+np.array([3,4]))\n",
    "print(np.array([1,2])+3)"
   ]
  },
  {
   "cell_type": "markdown",
   "id": "34054ad6",
   "metadata": {},
   "source": [
    "### 6) 슬라이스와 인덱싱"
   ]
  },
  {
   "cell_type": "code",
   "execution_count": 41,
   "id": "d32df3ee",
   "metadata": {},
   "outputs": [
    {
     "name": "stdout",
     "output_type": "stream",
     "text": [
      "A:  [[0 1 2]\n",
      " [3 4 5]\n",
      " [6 7 8]]\n",
      "B:  [0 1 2]\n"
     ]
    }
   ],
   "source": [
    "# 3 x 3 행렬의 첫번째 행 구하기\n",
    "A = np.arange(9).reshape(3,3)\n",
    "print(\"A: \", A)\n",
    "B = A[0]\n",
    "print(\"B: \", B)"
   ]
  },
  {
   "cell_type": "code",
   "execution_count": 43,
   "id": "4f884a69",
   "metadata": {},
   "outputs": [
    {
     "data": {
      "text/plain": [
       "array([[0, 1, 2],\n",
       "       [3, 4, 5]])"
      ]
     },
     "execution_count": 43,
     "metadata": {},
     "output_type": "execute_result"
    }
   ],
   "source": [
    "A[:-1]"
   ]
  },
  {
   "cell_type": "code",
   "execution_count": 44,
   "id": "6a4e95a4",
   "metadata": {},
   "outputs": [
    {
     "data": {
      "text/plain": [
       "array([[2],\n",
       "       [5],\n",
       "       [8]])"
      ]
     },
     "execution_count": 44,
     "metadata": {},
     "output_type": "execute_result"
    }
   ],
   "source": [
    "A[:,2:]"
   ]
  },
  {
   "cell_type": "code",
   "execution_count": 51,
   "id": "9b339a1a",
   "metadata": {},
   "outputs": [
    {
     "data": {
      "text/plain": [
       "array([[1, 2],\n",
       "       [4, 5],\n",
       "       [7, 8]])"
      ]
     },
     "execution_count": 51,
     "metadata": {},
     "output_type": "execute_result"
    }
   ],
   "source": [
    "A[:,1:]"
   ]
  },
  {
   "cell_type": "code",
   "execution_count": 52,
   "id": "78751af8",
   "metadata": {},
   "outputs": [
    {
     "data": {
      "text/plain": [
       "array([[0, 1, 2],\n",
       "       [3, 4, 5],\n",
       "       [6, 7, 8]])"
      ]
     },
     "execution_count": 52,
     "metadata": {},
     "output_type": "execute_result"
    }
   ],
   "source": [
    "A[:,:]"
   ]
  },
  {
   "cell_type": "code",
   "execution_count": 53,
   "id": "62c3047c",
   "metadata": {},
   "outputs": [
    {
     "data": {
      "text/plain": [
       "array([[2],\n",
       "       [5],\n",
       "       [8]])"
      ]
     },
     "execution_count": 53,
     "metadata": {},
     "output_type": "execute_result"
    }
   ],
   "source": [
    "A[:,-1:]"
   ]
  },
  {
   "cell_type": "code",
   "execution_count": 54,
   "id": "c55b2c7c",
   "metadata": {},
   "outputs": [
    {
     "data": {
      "text/plain": [
       "array([[1, 2],\n",
       "       [4, 5],\n",
       "       [7, 8]])"
      ]
     },
     "execution_count": 54,
     "metadata": {},
     "output_type": "execute_result"
    }
   ],
   "source": [
    "A[:,-2:]"
   ]
  },
  {
   "cell_type": "code",
   "execution_count": 55,
   "id": "b5223e35",
   "metadata": {},
   "outputs": [
    {
     "data": {
      "text/plain": [
       "array([3, 4])"
      ]
     },
     "execution_count": 55,
     "metadata": {},
     "output_type": "execute_result"
    }
   ],
   "source": [
    "A[1,:2]"
   ]
  },
  {
   "cell_type": "code",
   "execution_count": 56,
   "id": "759c5f7c",
   "metadata": {},
   "outputs": [
    {
     "data": {
      "text/plain": [
       "array([[1, 2],\n",
       "       [4, 5]])"
      ]
     },
     "execution_count": 56,
     "metadata": {},
     "output_type": "execute_result"
    }
   ],
   "source": [
    "A[:2,1:]"
   ]
  },
  {
   "cell_type": "code",
   "execution_count": 57,
   "id": "9127c6a3",
   "metadata": {},
   "outputs": [
    {
     "data": {
      "text/plain": [
       "array([2, 5, 8])"
      ]
     },
     "execution_count": 57,
     "metadata": {},
     "output_type": "execute_result"
    }
   ],
   "source": [
    "A[:,-1]"
   ]
  },
  {
   "cell_type": "markdown",
   "id": "398e582b",
   "metadata": {},
   "source": [
    "### 7) random\n",
    "- np.random.randint()\n",
    "- np.random.choice()\n",
    "- np.random.permutation()\n",
    "- np.random.normal()\n",
    "- np.random.uniform()"
   ]
  },
  {
   "cell_type": "code",
   "execution_count": 59,
   "id": "1f0b96a5",
   "metadata": {},
   "outputs": [
    {
     "data": {
      "text/plain": [
       "0.9980413261646722"
      ]
     },
     "execution_count": 59,
     "metadata": {},
     "output_type": "execute_result"
    }
   ],
   "source": [
    "# 0-1 사이의 난수 생성\n",
    "np.random.random()"
   ]
  },
  {
   "cell_type": "code",
   "execution_count": 61,
   "id": "7e426b5b",
   "metadata": {},
   "outputs": [
    {
     "data": {
      "text/plain": [
       "8"
      ]
     },
     "execution_count": 61,
     "metadata": {},
     "output_type": "execute_result"
    }
   ],
   "source": [
    "# 0과 9 사이의 정수형 난수 생성\n",
    "np.random.randint(0,10)"
   ]
  },
  {
   "cell_type": "code",
   "execution_count": 62,
   "id": "b1ccf52d",
   "metadata": {},
   "outputs": [
    {
     "data": {
      "text/plain": [
       "1"
      ]
     },
     "execution_count": 62,
     "metadata": {},
     "output_type": "execute_result"
    }
   ],
   "source": [
    "# 리스트에 주어진 값 중 하나를 랜덤으로 \n",
    "np.random.choice([0,1,2,3,4,5,6,7,8])"
   ]
  },
  {
   "cell_type": "code",
   "execution_count": 63,
   "id": "8b3f37b0",
   "metadata": {},
   "outputs": [
    {
     "name": "stdout",
     "output_type": "stream",
     "text": [
      "[8 7 0 2 4 3 1 6 9 5]\n",
      "[4 1 5 9 7 6 8 3 0 2]\n"
     ]
    }
   ],
   "source": [
    "# 무작위로 섞인 배열을 만들어 줍니다. \n",
    "# 아래 2가지는 기능면에서 동일합니다. \n",
    "\n",
    "print(np.random.permutation(10))   \n",
    "print(np.random.permutation([0,1,2,3,4,5,6,7,8,9]))"
   ]
  },
  {
   "cell_type": "code",
   "execution_count": 64,
   "id": "aea3353f",
   "metadata": {},
   "outputs": [
    {
     "name": "stdout",
     "output_type": "stream",
     "text": [
      "[-0.2205125   1.28976024 -0.17143924 -0.05459393  0.8055235 ]\n",
      "[ 0.9968567  -0.97317289 -0.1746778  -0.1542494   0.59608959]\n"
     ]
    }
   ],
   "source": [
    "# 아래 기능들은 어떤 분포를 따르는 변수를 임의로 표본추출해 줍니다. \n",
    "\n",
    "# 이것은 정규분포를 따릅니다.\n",
    "print(np.random.normal(loc=0, scale=1, size=5))    # 평균(loc), 표준편차(scale), 추출개수(size)를 조절해 보세요.\n",
    "\n",
    "# 이것은 균등분포를 따릅니다. \n",
    "print(np.random.uniform(low=-1, high=1, size=5))  # 최소(low), 최대(high), 추출개수(size)를 조절해 보세요."
   ]
  },
  {
   "cell_type": "markdown",
   "id": "0c242254",
   "metadata": {},
   "source": [
    "### 8) 전치행렬\n",
    "- arr.T: 행렬의 행과 열 맞바꾸기\n",
    "- np.transpose: 축을 기준으로 행렬의 행과 열 바꾸기"
   ]
  },
  {
   "cell_type": "code",
   "execution_count": 66,
   "id": "73ce4199",
   "metadata": {},
   "outputs": [
    {
     "data": {
      "text/plain": [
       "array([[[ 0,  1,  2,  3],\n",
       "        [ 4,  5,  6,  7],\n",
       "        [ 8,  9, 10, 11]],\n",
       "\n",
       "       [[12, 13, 14, 15],\n",
       "        [16, 17, 18, 19],\n",
       "        [20, 21, 22, 23]]])"
      ]
     },
     "execution_count": 66,
     "metadata": {},
     "output_type": "execute_result"
    }
   ],
   "source": [
    "A = np.arange(24).reshape(2,3,4)\n",
    "A"
   ]
  },
  {
   "cell_type": "code",
   "execution_count": 67,
   "id": "af062ba7",
   "metadata": {},
   "outputs": [
    {
     "data": {
      "text/plain": [
       "array([[[ 0, 12],\n",
       "        [ 4, 16],\n",
       "        [ 8, 20]],\n",
       "\n",
       "       [[ 1, 13],\n",
       "        [ 5, 17],\n",
       "        [ 9, 21]],\n",
       "\n",
       "       [[ 2, 14],\n",
       "        [ 6, 18],\n",
       "        [10, 22]],\n",
       "\n",
       "       [[ 3, 15],\n",
       "        [ 7, 19],\n",
       "        [11, 23]]])"
      ]
     },
     "execution_count": 67,
     "metadata": {},
     "output_type": "execute_result"
    }
   ],
   "source": [
    "A.T"
   ]
  },
  {
   "cell_type": "code",
   "execution_count": 68,
   "id": "7870b81f",
   "metadata": {},
   "outputs": [
    {
     "data": {
      "text/plain": [
       "(4, 3, 2)"
      ]
     },
     "execution_count": 68,
     "metadata": {},
     "output_type": "execute_result"
    }
   ],
   "source": [
    "A.T.shape"
   ]
  },
  {
   "cell_type": "code",
   "execution_count": 69,
   "id": "8617e10a",
   "metadata": {},
   "outputs": [],
   "source": [
    "# np.transpose는 행렬의 축을 어떻게 변환해 줄지 임의로 지정해 줄 수 있는 일반적인 행렬 전치 함수"
   ]
  },
  {
   "cell_type": "code",
   "execution_count": 70,
   "id": "f1659da3",
   "metadata": {},
   "outputs": [],
   "source": [
    "B = np.transpose(A, (2,0,1))"
   ]
  },
  {
   "cell_type": "code",
   "execution_count": 71,
   "id": "27274f1c",
   "metadata": {},
   "outputs": [
    {
     "data": {
      "text/plain": [
       "array([[[ 0,  4,  8],\n",
       "        [12, 16, 20]],\n",
       "\n",
       "       [[ 1,  5,  9],\n",
       "        [13, 17, 21]],\n",
       "\n",
       "       [[ 2,  6, 10],\n",
       "        [14, 18, 22]],\n",
       "\n",
       "       [[ 3,  7, 11],\n",
       "        [15, 19, 23]]])"
      ]
     },
     "execution_count": 71,
     "metadata": {},
     "output_type": "execute_result"
    }
   ],
   "source": [
    "B"
   ]
  },
  {
   "cell_type": "code",
   "execution_count": 72,
   "id": "90789e7f",
   "metadata": {},
   "outputs": [
    {
     "data": {
      "text/plain": [
       "array([[1, 2, 3],\n",
       "       [4, 5, 6]])"
      ]
     },
     "execution_count": 72,
     "metadata": {},
     "output_type": "execute_result"
    }
   ],
   "source": [
    "A = np.array([[1,2,3], [4,5,6]])\n",
    "A"
   ]
  },
  {
   "cell_type": "code",
   "execution_count": 73,
   "id": "8a4296de",
   "metadata": {},
   "outputs": [
    {
     "data": {
      "text/plain": [
       "array([[1, 4],\n",
       "       [2, 5],\n",
       "       [3, 6]])"
      ]
     },
     "execution_count": 73,
     "metadata": {},
     "output_type": "execute_result"
    }
   ],
   "source": [
    "A.T"
   ]
  },
  {
   "cell_type": "markdown",
   "id": "63dd1773",
   "metadata": {},
   "source": [
    "## 9.6 NumPy로 기본 통계 데이터 계산해 보기"
   ]
  },
  {
   "cell_type": "code",
   "execution_count": 74,
   "id": "d05e38d4",
   "metadata": {},
   "outputs": [
    {
     "name": "stdout",
     "output_type": "stream",
     "text": [
      "Enter a number (<Enter key> to quit)2\n",
      "Enter a number (<Enter key> to quit)4\n",
      "Enter a number (<Enter key> to quit)6\n",
      "Enter a number (<Enter key> to quit)1\n",
      "Enter a number (<Enter key> to quit)23\n",
      "Enter a number (<Enter key> to quit)\n",
      "합 36.0\n",
      "평균값 7.2\n",
      "표준편차 8.084553172563094\n",
      "중앙값 4.0\n"
     ]
    }
   ],
   "source": [
    "import numpy as np\n",
    "\n",
    "def numbers():\n",
    "    X = []\n",
    "    number = input(\"Enter a number (<Enter key> to quit)\") \n",
    "    # 하지만 2개 이상의 숫자를 받아야 한다는 제약조건을 제외하였습니다.\n",
    "    while number != \"\":\n",
    "        try:\n",
    "            x = float(number)\n",
    "            X.append(x)\n",
    "        except ValueError:\n",
    "            print('>>> NOT a number! Ignored..')\n",
    "        number = input(\"Enter a number (<Enter key> to quit)\")\n",
    "    return X\n",
    "\n",
    "def main():\n",
    "    nums = numbers()       # 이것은 파이썬 리스트입니다. \n",
    "    num = np.array(nums)   # 리스트를 Numpy ndarray로 변환합니다.\n",
    "    print(\"합\", num.sum())\n",
    "    print(\"평균값\",num.mean())\n",
    "    print(\"표준편차\",num.std())\n",
    "    print(\"중앙값\",np.median(num))   # num.median() 이 아님에 유의해 주세요.\n",
    "\n",
    "main()"
   ]
  },
  {
   "cell_type": "code",
   "execution_count": 75,
   "id": "14df993c",
   "metadata": {},
   "outputs": [],
   "source": [
    "A = np.array([1,2,3,4,5])"
   ]
  },
  {
   "cell_type": "code",
   "execution_count": 76,
   "id": "60685a6f",
   "metadata": {},
   "outputs": [
    {
     "data": {
      "text/plain": [
       "15"
      ]
     },
     "execution_count": 76,
     "metadata": {},
     "output_type": "execute_result"
    }
   ],
   "source": [
    "A.sum()"
   ]
  },
  {
   "cell_type": "code",
   "execution_count": 77,
   "id": "f21fb77b",
   "metadata": {},
   "outputs": [
    {
     "data": {
      "text/plain": [
       "3.0"
      ]
     },
     "execution_count": 77,
     "metadata": {},
     "output_type": "execute_result"
    }
   ],
   "source": [
    "A.mean()"
   ]
  },
  {
   "cell_type": "code",
   "execution_count": 78,
   "id": "635650b4",
   "metadata": {},
   "outputs": [
    {
     "data": {
      "text/plain": [
       "1.4142135623730951"
      ]
     },
     "execution_count": 78,
     "metadata": {},
     "output_type": "execute_result"
    }
   ],
   "source": [
    "A.std()"
   ]
  },
  {
   "cell_type": "code",
   "execution_count": null,
   "id": "6467693f",
   "metadata": {},
   "outputs": [],
   "source": []
  }
 ],
 "metadata": {
  "kernelspec": {
   "display_name": "Python 3 (ipykernel)",
   "language": "python",
   "name": "python3"
  },
  "language_info": {
   "codemirror_mode": {
    "name": "ipython",
    "version": 3
   },
   "file_extension": ".py",
   "mimetype": "text/x-python",
   "name": "python",
   "nbconvert_exporter": "python",
   "pygments_lexer": "ipython3",
   "version": "3.9.7"
  }
 },
 "nbformat": 4,
 "nbformat_minor": 5
}
