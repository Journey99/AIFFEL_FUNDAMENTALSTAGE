{
 "cells": [
  {
   "cell_type": "markdown",
   "id": "20dd2f3d",
   "metadata": {},
   "source": [
    "# < 17. 딥러닝과 신경망의 본질 >"
   ]
  },
  {
   "cell_type": "markdown",
   "id": "d8bedaad",
   "metadata": {},
   "source": [
    "## 학습목표\n",
    "- 딥러닝과 머신러닝의 차이를 설명할 수 있다.\n",
    "- 딥러닝은 특히 데이터를 '표현'하는 것을 목표로 하며, '표현 학습'이라고 이야기할 수 있는 본질을 이해한다.\n",
    "- 연결주의를 계승하여 채택한 신경망 모델의 본질을 함수 차원에서 이해한다.\n",
    "- 선형성이 무엇인지 설명할 수 있다."
   ]
  },
  {
   "cell_type": "markdown",
   "id": "c6ad4265",
   "metadata": {},
   "source": [
    "---"
   ]
  },
  {
   "cell_type": "markdown",
   "id": "e1c649b9",
   "metadata": {},
   "source": [
    "## 17.2 Deep Learning == Representation Learning ? (1) Deep Learning"
   ]
  },
  {
   "cell_type": "markdown",
   "id": "20090fc3",
   "metadata": {},
   "source": [
    "![](https://d3s0tskafalll9.cloudfront.net/media/images/F-10-1.max-800x600.jpg)"
   ]
  },
  {
   "cell_type": "markdown",
   "id": "5bd3a47c",
   "metadata": {},
   "source": [
    "### 인공지능, 머신러닝, 딥러닝\n",
    "- 인공지능은 사람이 직접 프로그래밍 한 내용이 아니라 기계가 자체 규칙 시스템을 구축하는 과학을 말한다.\n",
    "- 그 중에서도 머신러닝은 데이터를 통해 스스로 학습하는 방법론을 말한다. 데이터를 분석하고, 데이터 안에 있는 패턴을 학습하며, 학습한 내용을 토대로 판단이나 예측을 한다.\n",
    "- 머신러닝의 하위 집합인 딥러닝은 학습하는 모델의 형태가 신경망인 방법론을 말한다."
   ]
  },
  {
   "cell_type": "markdown",
   "id": "026499c0",
   "metadata": {},
   "source": [
    "### 딥러닝\n",
    "- 표현(Representation) 은 딥러닝에서 굉장히 중요하게 여겨지는 개념\n",
    "- 데이터의 '좋은 표현'을 찾아낼 수 있는 machine을 만드는 것이 딥러닝의 궁극적인 목표"
   ]
  },
  {
   "cell_type": "markdown",
   "id": "838238d4",
   "metadata": {},
   "source": [
    "## 17.3 Deep Learning == Representation Learning ? (2) Representation Learning"
   ]
  },
  {
   "cell_type": "markdown",
   "id": "bfb80784",
   "metadata": {},
   "source": [
    "![](https://d3s0tskafalll9.cloudfront.net/media/images/F-10-6.max-800x600.jpg)"
   ]
  },
  {
   "cell_type": "markdown",
   "id": "a279de59",
   "metadata": {},
   "source": [
    "- 위에 있는 분자 형태와 이미지의 표현은 Raw한 Sensory한 표현\n",
    "- 표와 카테고리의 아래쪽 표현들은 Abstract하고 Internal한 표현들. 사람의 개입이 강하게 들어가고, 그렇기 때문에 더 추상적이고 함축적인 내재적 표현을 할 수 있게 된다"
   ]
  },
  {
   "cell_type": "markdown",
   "id": "6e0b16ec",
   "metadata": {},
   "source": [
    "#### 딥러닝의 목표\n",
    "- 학습된 함수를 사용하여 유용한 internal representations, 즉 내재적 표현을 뽑아내는 것\n",
    "- 위에서 본 '표'나 '카테고리'와 같은 추상적이고 내재적인 표현들을 사람의 개입 없이 딥러닝만으로 나타낼 수 있는 모델을 학습시키는 것이 궁극적인 목표\n",
    "- 'Representation Learning'이라고 칭하기도 한다. 데이터의 표현을 학습한다는 것, 특히 사람이 가공하지 않은, 이미지나 자연어 같은 '날 것의' 데이터를 입력하면 알아서 그 안에 내재된 표현을 추출한다는 것, 이것이 바로 딥러닝이 추구하는 목표의 본질"
   ]
  },
  {
   "cell_type": "markdown",
   "id": "3ec97be5",
   "metadata": {},
   "source": [
    "## 17.4  딥러닝을 관통하는 철학 (1) 행동주의\n",
    "- 행동주의: 학습된 행동은 자극의 반복으로 만들어진다\n",
    "    - 행동주의는 심리학을 과학적으로 접근하고자 하는 시도를 가진 분야로, 철저하게 경험적이고 실증적으로 인간의 내면을 접근하고자 하였다\n",
    "- 이 중 생명체가 자신에게 유리한 결과를 가져다주는 행동을 알게 된다면 그 행동의 빈도를 높인다는 '강화이론'은, 머신러닝의 방법론 중 '강화학습(Reinforcement Learning)'의 근간이 되는 이론\n",
    "    - 강화학습은 실제로 특정 행위자를 학습시키기 위해 행위자가 하는 행동이 얼마나 좋았는지에 대한 척도인 '보상'을 부여하고, 행위자는 그 보상을 높이기 위해 자신의 행동을 교정하면서 학습해나간다"
   ]
  },
  {
   "cell_type": "markdown",
   "id": "c6436013",
   "metadata": {},
   "source": [
    "## 17.5 딥러닝을 관통하는 철학 (2) 인지주의\n",
    "- 인지주의: 인간은 비둘기와는 다르다! 정보를 처리하는 '의식'이 있다\n",
    "    - 인지주의는 '자극 → 행동'의 관계만 설명하던 행동주의에 대해 반발하며 '자극 → (정보처리) → 행동' 의 관점을 제시하였다\n",
    "    - 인간의 행동이 단순히 자극으로부터 만들어진다는 주장으로 인간의 '의식'을 부정했던 행동주의와 달리, 인지주의는 인간이 자극을 받은 후 내면에서 정보를 처리하고 가공하는 의식이 존재함을 주장하였다.\n",
    "    "
   ]
  },
  {
   "cell_type": "markdown",
   "id": "703e4188",
   "metadata": {},
   "source": [
    "## 17.6 딥러닝을 관통하는 철학 (3) 연결주의\n",
    "- 연결주의: 정보처리는 뇌에 있는 수많은 뉴런의 연결고리를 통해 이루어진다\n",
    "    - 연결주의는 몇 백억 개의 뉴런이 연결되어 있는 뇌의 형태처럼, 수많은 신호들이 연결된 일련의 과정에 따라 정보가 처리된다고 본다\n",
    "    - 이에 따라 연결주의의 지능체는 처음에는 '백지' 상태이며, 다수의 사례를 주고 '경험'함으로써 스스로 천천히 '학습'해 간다.\n",
    "    - 즉, 학습된 내용은 연결된 뉴런 자체에 저장되어 있으며, 외부에서 자극을 받음에 따라 그 연결 형태가 바뀌면서 학습된 내용이 바뀌어간다.\n",
    "- 딥러닝은 바로 이 연결주의를 따른다!"
   ]
  },
  {
   "cell_type": "markdown",
   "id": "c28e047f",
   "metadata": {},
   "source": [
    "## 17.9 신경망의 본질 (3) 함수의 역할 - 상"
   ]
  },
  {
   "cell_type": "markdown",
   "id": "7ef1e1c3",
   "metadata": {},
   "source": [
    "### ⅰ. 함수의 역할 첫 번째, Relation: x와 y의 관계를 나타낼 수 있는 도구\n",
    "- y는 x의 변화에 종속적이다. 즉 x가 변하면 그 변화하는 정도에 따라 y가 변하게 된다.\n",
    "\n",
    "### ⅱ. 함수의 역할 두 번째, Transformation: x를 변환해 주는 도구"
   ]
  },
  {
   "cell_type": "markdown",
   "id": "a5bf9405",
   "metadata": {},
   "source": [
    "## 17.10 신경망의 본질 (4) 함수의 역할 - 하"
   ]
  },
  {
   "cell_type": "markdown",
   "id": "e7d6a684",
   "metadata": {},
   "source": [
    "### ⅲ. 함수의 역할 세 번째, Mapping: x의 공간에서 y의 공간으로 매핑해주는 도구\n",
    "- One-to-One\n",
    "    - 입력값 xx와 출력값 yy가 모두 스칼라인 경우\n",
    "- Many-to-One\n",
    "    - 여러 가지의 정보를 입력받아 하나의 값을 출력하는 경우\n",
    "-  회귀 문제란 입력 데이터가 몇 개인지는 상관없이, 단 하나의 연속된 실수 스칼라값을 맞추는 문제를 일컫습니다. 그러니까 위에서 이야기했던 One-to-One 문제도 회귀 문제라고 할 수 있죠. 정확히는 One-to-One의 경우 입력되는 변수가 단 하나이기 때문에 단변량 회귀(Univariate Regression), 그리고 Many-to-One의 경우에는 입력 변수가 여러 개이므로 다변량 회귀(Multivariate Regression)라고 한다\n",
    "- Many-to-Many\n",
    "    - 입력값도 벡터, 출력값도 벡터인 경우\n",
    "    - Many-to-Many가 주로 쓰이는 문제는 바로 '분류'"
   ]
  },
  {
   "cell_type": "markdown",
   "id": "aa13a743",
   "metadata": {},
   "source": [
    "## 17.11 신경망의 본질 (5) 함수와 모델"
   ]
  },
  {
   "cell_type": "markdown",
   "id": "2a7934a3",
   "metadata": {},
   "source": [
    "### 함수와 모델의 차이점\n",
    "- 우리가 머신러닝, 혹은 딥러닝에서 다루어야 하는 함수는 정확히 단 하나로 정해져있는 함수도 아닐뿐더러, 그 함수가 이차 함수인지, 삼차 함수인지, 혹은 신경망 형태로 나타날지조차 알지 못합니다. 우리에게 주어진 것이라곤 단 하나! 데이터 뿐\n",
    "- 머신러닝과 딥러닝은 '완벽한 함수'를 찾는 수학 문제를 푸는 것이 아니라, '그나마 가장 잘 근사할 수 있는 함수'에 조금씩 가까워지도록 시도하는 것에 가깝"
   ]
  },
  {
   "cell_type": "markdown",
   "id": "8edce517",
   "metadata": {},
   "source": [
    "### 그나마 나은 함수를 찾기 위해\n",
    "- 만약 간단한 선형 함수만으로 데이터를 잘 표현할 수 있다고 판단된다면 선형함수를 사용해도 되지만, 이미지나 자연어같이 형태가 고정되지 않은 '비정형 데이터'같은 경우 최근에는 거의 필연적으로 신경망을 사용합니다. 신경망의 구조는 여러 계층이 쌓인 형태이며 이렇게 'Hierarchial(계층적인)' 구조가 비정형 데이터의 표현을 단계별로 잘 추출해낼 수 있다는 것이 실험적으로 보여졌기 때문\n",
    "- 이렇게 어떤 데이터에 대한 문제를 풀기 위해 '이러한 형태의 함수가 유리할 것'이라고 판단하고 함수 공간을 정하는 것을 Inductive Bias, 혹은 Prior를 가정한다고 합니다.\n",
    "    - Inductive Bias란 데이터를 설명할 수 있는 최적의 함수가 특정한 함수 공간에 존재할 것이라는 가설\n",
    "- 모델이 학습하는 과정에서 보지 못한 데이터에 대해서도 예측을 잘 하려면(즉, 일반화(Generalization)가 잘 되려면), 일반적인 패턴을 잘 반영할 수 있는 형태의 모델이어야 합니다. 그렇기에 어떤 문제를 풀고자 할 때 알맞은 함수 형태로 모델을 선택하는 것은 그 데이터에 대한 도메인 지식을 가지고 있는 사람의 몫이며, 더 좋은 모델을 찾기 위해서는 그 데이터에 알맞은 함수 공간, 즉 Inductive Bias를 잘 설정하는 것이 중요합니다."
   ]
  },
  {
   "cell_type": "markdown",
   "id": "a1a30661",
   "metadata": {},
   "source": [
    "## 17.12 AI의 현재와 미래 (1) 머신러닝과 딥러닝"
   ]
  },
  {
   "cell_type": "markdown",
   "id": "96ddd677",
   "metadata": {},
   "source": [
    "![](https://d3s0tskafalll9.cloudfront.net/media/images/F-10-24.max-800x600.jpg)"
   ]
  },
  {
   "cell_type": "markdown",
   "id": "b1914f5b",
   "metadata": {},
   "source": [
    "- 기존의 머신러닝은 데이터를 입력하기 위해 사람이 직접 피처를 가공해 주어야 했다. 머신러닝 모델을 학습시킬 때에는 데이터를 전처리하고 모델에 들어가도록 이쁘게 가공하는 작업이 필수적이다. 또한, 주어진 데이터를 이리저리 조합해서 더욱 좋은 피처를 만들어내는 것도 성능을 높이기 위한 굉장히 중요한 과정이다. 이러한 과정을 통틀어 피처 엔지니어링이라고 한다.\n",
    "- 딥러닝은 모델의 복잡성을 늘려 사람이 개입하는 피처엔지니어링을 최소화하고자 한다. 이미지라면 픽셀 형태로 된 2차원 배열을 그대로 신경망에 입력하면, 알아서 그 안에 있는 특징이나 표현을 학습하도록 한다. 딥러닝은 뚜렷한 형태가 없는(비정형) 데이터로부터 표현을 추출해 내는 것에 매우 강하다. \n",
    "    - 딥러닝에서는 이렇게 데이터를 모델에 입력해서 바로 원하는 출력값을 얻어내는 End-to-End Learning을 추구하는 경우가 많다.\n",
    "- 머신러닝이란 ? https://www.stechstar.com/user/zbxe/index.php?mid=study_SQL&page=14&document_srl=63467\n",
    "- 딥러닝이란 ? \n",
    "    - https://www.stechstar.com/user/zbxe/index.php?mid=study_SQL&page=13&document_srl=63482\n",
    "    - https://www.stechstar.com/user/zbxe/index.php?mid=study_SQL&page=13&document_srl=63499"
   ]
  },
  {
   "cell_type": "markdown",
   "id": "b6713da7",
   "metadata": {},
   "source": [
    "## 17.13"
   ]
  },
  {
   "cell_type": "markdown",
   "id": "c1934edc",
   "metadata": {},
   "source": [
    "### 설명 가능한 인공지능이란?\n",
    "- https://realblack0.github.io/2020/04/27/explainable-ai.html"
   ]
  },
  {
   "cell_type": "markdown",
   "id": "334a6373",
   "metadata": {},
   "source": [
    "### LIME 라이브러리\n",
    "- LIME의 핵심 아이디어는 '입력값을 조금 바꿨을 때 모델의 예측값이 크게 바뀌면, 그 변수는 중요한 변수이다.'라는 것이다.\n",
    "- 즉, 이미지의 경우 이미지를 잘게 쪼개어 각 부분을 지운 상태로 넣었을 때 출력값이 크게 바뀌는지 아닌지를 확인하여 어떤 부분이 모델이 예측을 만들어 내는 데에 중요하게 작용했는지를 찾아낸다."
   ]
  }
 ],
 "metadata": {
  "kernelspec": {
   "display_name": "Python 3 (ipykernel)",
   "language": "python",
   "name": "python3"
  },
  "language_info": {
   "codemirror_mode": {
    "name": "ipython",
    "version": 3
   },
   "file_extension": ".py",
   "mimetype": "text/x-python",
   "name": "python",
   "nbconvert_exporter": "python",
   "pygments_lexer": "ipython3",
   "version": "3.9.7"
  }
 },
 "nbformat": 4,
 "nbformat_minor": 5
}
