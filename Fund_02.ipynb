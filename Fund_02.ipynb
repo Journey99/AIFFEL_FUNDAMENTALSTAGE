{
 "cells": [
  {
   "cell_type": "markdown",
   "id": "0ee233b7",
   "metadata": {},
   "source": [
    "# 7. 텍스트의 다양한 변신(문자열, 파일 다루기)"
   ]
  },
  {
   "cell_type": "markdown",
   "id": "76030541",
   "metadata": {},
   "source": [
    "## 7.2 인코딩과 디코딩"
   ]
  },
  {
   "cell_type": "markdown",
   "id": "e0c0b964",
   "metadata": {},
   "source": [
    "- ord() : 해당 문자에 대응하는 유니코드 숫자를 반환\n",
    "- chr() : 해당 유니코드 숫자에 대응하는 문자를 반환"
   ]
  },
  {
   "cell_type": "code",
   "execution_count": 1,
   "id": "91424632",
   "metadata": {},
   "outputs": [
    {
     "data": {
      "text/plain": [
       "44032"
      ]
     },
     "execution_count": 1,
     "metadata": {},
     "output_type": "execute_result"
    }
   ],
   "source": [
    "ord('가')"
   ]
  },
  {
   "cell_type": "code",
   "execution_count": 2,
   "id": "e978edef",
   "metadata": {},
   "outputs": [
    {
     "data": {
      "text/plain": [
       "'가'"
      ]
     },
     "execution_count": 2,
     "metadata": {},
     "output_type": "execute_result"
    }
   ],
   "source": [
    "chr(44032)"
   ]
  },
  {
   "cell_type": "markdown",
   "id": "7cd7a602",
   "metadata": {},
   "source": [
    "## 7.3 문자열 다루기"
   ]
  },
  {
   "cell_type": "markdown",
   "id": "f81c771b",
   "metadata": {},
   "source": [
    "- \\형태로 직접 입력할 수 없는 일부 문자를 문자열에 포함시킬 수 있다"
   ]
  },
  {
   "cell_type": "markdown",
   "id": "1963df20",
   "metadata": {},
   "source": [
    "- \\' : 홑따옴표\n",
    "- \\\" : 겹따옴표\n",
    "- \\t : 탭\n",
    "- \\n : 줄바꿈\n",
    "- \\\\ : 백슬래시 \\"
   ]
  },
  {
   "cell_type": "code",
   "execution_count": 3,
   "id": "de74ae8c",
   "metadata": {},
   "outputs": [
    {
     "name": "stdout",
     "output_type": "stream",
     "text": [
      "사회적\n",
      "거리두기\n"
     ]
    }
   ],
   "source": [
    "print(\"사회적\\n거리두기\")"
   ]
  },
  {
   "cell_type": "code",
   "execution_count": 4,
   "id": "96d08e75",
   "metadata": {},
   "outputs": [
    {
     "name": "stdout",
     "output_type": "stream",
     "text": [
      "하이\n",
      "헬로우\n"
     ]
    }
   ],
   "source": [
    "print(\"하이\\n헬로우\")"
   ]
  },
  {
   "cell_type": "code",
   "execution_count": 5,
   "id": "227fd88d",
   "metadata": {},
   "outputs": [
    {
     "name": "stdout",
     "output_type": "stream",
     "text": [
      "사회적\t거리두기\n"
     ]
    }
   ],
   "source": [
    "print(\"사회적\\t거리두기\")"
   ]
  },
  {
   "cell_type": "code",
   "execution_count": 6,
   "id": "7cc5c4de",
   "metadata": {},
   "outputs": [
    {
     "name": "stdout",
     "output_type": "stream",
     "text": [
      "오늘부터 '사회적거리두기'\n"
     ]
    }
   ],
   "source": [
    "print('오늘부터 \\'사회적거리두기\\'')"
   ]
  },
  {
   "cell_type": "markdown",
   "id": "a78a0c95",
   "metadata": {},
   "source": [
    "### 원시 문자열(raw string)\n",
    "- 이스케이프 문자를 무시하고 싶을 때\n",
    "- 문자열을 시작하는 따옴표 앞에 r을 붙이면 이스케이프 문자가 적용되지 않는 그대로의 원시 문자열 나타낼 수 있다"
   ]
  },
  {
   "cell_type": "code",
   "execution_count": 7,
   "id": "da779e16",
   "metadata": {},
   "outputs": [
    {
     "name": "stdout",
     "output_type": "stream",
     "text": [
      "Please don't touch it\n",
      "Please don\\'t touch it\n"
     ]
    }
   ],
   "source": [
    "print('Please don\\'t touch it')\n",
    "print(r'Please don\\'t touch it')"
   ]
  },
  {
   "cell_type": "markdown",
   "id": "556b1187",
   "metadata": {},
   "source": [
    "### startswith, endswith"
   ]
  },
  {
   "cell_type": "code",
   "execution_count": 8,
   "id": "91c7494a",
   "metadata": {},
   "outputs": [
    {
     "data": {
      "text/plain": [
       "['OB94382', 'OB32308', 'OB83461', 'OB74830', 'OB82345']"
      ]
     },
     "execution_count": 8,
     "metadata": {},
     "output_type": "execute_result"
    }
   ],
   "source": [
    "EmployeeID = ['OB94382', 'OW34723', 'OB32308', 'OB83461', \n",
    "                                  'OB74830', 'OW37402', 'OW11235', 'OB82345'] \n",
    "Production_Employee = [P for P in EmployeeID if P.startswith('OB')]   # 'OB'로 시작하는 직원 ID를 다 찾아봅니다\n",
    "Production_Employee"
   ]
  },
  {
   "cell_type": "code",
   "execution_count": 9,
   "id": "4e11529f",
   "metadata": {},
   "outputs": [
    {
     "name": "stdout",
     "output_type": "stream",
     "text": [
      "['image5.png', 'image2.png', 'image12.png', 'image3.png', 'image8.png', 'image13.png', 'image6.png', 'image4.png', 'image14.png', 'image9.png', 'image10.png', 'image7.png', 'image11.png', 'image1.png']\n"
     ]
    }
   ],
   "source": [
    "import os\n",
    "image_dir_path = os.getenv(\"HOME\") + \"/data/pictures\"   \n",
    "# 각자의 사진이 보관된 디렉토리를 골라 주세요. \n",
    "# 클라우드의 경우에는 사진이 이미 있으므로 코드를 실행시켜주세요. \n",
    "photo = os.listdir(image_dir_path )\n",
    "png = [png for png in photo if png.endswith('.png')]\n",
    "print(png)"
   ]
  },
  {
   "cell_type": "code",
   "execution_count": 10,
   "id": "1b327aee",
   "metadata": {},
   "outputs": [
    {
     "data": {
      "text/plain": [
       "['dog', 'drug']"
      ]
     },
     "execution_count": 10,
     "metadata": {},
     "output_type": "execute_result"
    }
   ],
   "source": [
    "words = ['dog', 'banana', 'apple','drug', 'wine','bear', 'soju','savage']\n",
    "d_words = [d for d in words if d.startswith('d')]\n",
    "d_words"
   ]
  },
  {
   "cell_type": "code",
   "execution_count": 11,
   "id": "14e7de50",
   "metadata": {},
   "outputs": [],
   "source": [
    "e_words = [e for e in words if e.endswith('e')]"
   ]
  },
  {
   "cell_type": "code",
   "execution_count": 12,
   "id": "4f387041",
   "metadata": {},
   "outputs": [
    {
     "data": {
      "text/plain": [
       "['apple', 'wine', 'savage']"
      ]
     },
     "execution_count": 12,
     "metadata": {},
     "output_type": "execute_result"
    }
   ],
   "source": [
    "e_words"
   ]
  },
  {
   "cell_type": "markdown",
   "id": "a12d158b",
   "metadata": {},
   "source": [
    "### 여러 가지 공백 문자\n",
    "- 스페이스(space) : 한 칸 띄어쓰기\n",
    "- 탭(tab) \\t : 네 칸 띄어쓰기. 때에 따라 두 칸 띄어쓰기로 표기되기도 합니다.\n",
    "- 줄 바꿈(new line) : 줄 바꿈\n",
    "- 라인 피드 (line feed, 개행) \\n : 줄 바꿈을 엄밀히 말하면 라인 피드라고 합니다.\n",
    "- 캐리지 리턴 (carriage return, 복귀) \\r : 커서를 맨 앞으로 이동시키는 것, 즉 커서를 원위치로 복귀(return)한다는 뜻입니다. 커서를 맨 앞으로 보내고,\\r 뒤에 문자가 있으면 그 문자를 출력합니다."
   ]
  },
  {
   "cell_type": "code",
   "execution_count": 13,
   "id": "970208fb",
   "metadata": {},
   "outputs": [
    {
     "name": "stdout",
     "output_type": "stream",
     "text": [
      "사회적 거리두기\n",
      "--------------------------\n",
      "사회적\t거리두기\n",
      "--------------------------\n",
      "사회적\n",
      "거리두기\n",
      "--------------------------\n",
      "사회적\r",
      "거리두기\n"
     ]
    }
   ],
   "source": [
    "print(\"사회적 거리두기\")\n",
    "print('--------------------------')\n",
    "print(\"사회적\\t거리두기\")\n",
    "print('--------------------------')\n",
    "print(\"사회적\\n거리두기\")\n",
    "print('--------------------------')\n",
    "print(\"사회적\\r거리두기\")"
   ]
  },
  {
   "cell_type": "code",
   "execution_count": 14,
   "id": "47006062",
   "metadata": {},
   "outputs": [
    {
     "name": "stdout",
     "output_type": "stream",
     "text": [
      "hi\r",
      "hello\n"
     ]
    }
   ],
   "source": [
    "print(\"hi\\rhello\")"
   ]
  },
  {
   "cell_type": "markdown",
   "id": "275a969c",
   "metadata": {},
   "source": [
    "### 공백 문자 제거하기(trimming)\n",
    "- strip() 메서드를 사용해 공백 문자를 처리한다"
   ]
  },
  {
   "cell_type": "code",
   "execution_count": 15,
   "id": "0322ce0b",
   "metadata": {},
   "outputs": [
    {
     "name": "stdout",
     "output_type": "stream",
     "text": [
      "[      Strip white spaces.      ]\n",
      "--------------------------\n",
      "[Strip white spaces.]\n",
      "--------------------------\n",
      "[Strip white spaces.      ]\n",
      "--------------------------\n",
      "[      Strip white spaces.]\n"
     ]
    }
   ],
   "source": [
    "txt = \"      Strip white spaces.      \"\n",
    "print('[{}]'.format(txt))\n",
    "print('--------------------------')\n",
    "\n",
    "#- 양쪽 공백 제거 : strip()\n",
    "print('[{}]'.format(txt.strip()))\n",
    "print('--------------------------')\n",
    "\n",
    "#- 왼쪽 공백 제거 : lstrip()\n",
    "print('[{}]'.format(txt.lstrip()))\n",
    "print('--------------------------')\n",
    "\n",
    "#- 오른쪽 공백 제거 : rstrip()\n",
    "print('[{}]'.format(txt.rstrip()))"
   ]
  },
  {
   "cell_type": "code",
   "execution_count": 16,
   "id": "5575ec10",
   "metadata": {},
   "outputs": [
    {
     "data": {
      "text/plain": [
       "'i like you'"
      ]
     },
     "execution_count": 16,
     "metadata": {},
     "output_type": "execute_result"
    }
   ],
   "source": [
    "sen = \"    i like you  \"\n",
    "sen.strip()"
   ]
  },
  {
   "cell_type": "code",
   "execution_count": 18,
   "id": "14727e15",
   "metadata": {},
   "outputs": [
    {
     "data": {
      "text/plain": [
       "'i like you  '"
      ]
     },
     "execution_count": 18,
     "metadata": {},
     "output_type": "execute_result"
    }
   ],
   "source": [
    "sen.lstrip()"
   ]
  },
  {
   "cell_type": "code",
   "execution_count": 19,
   "id": "68d782be",
   "metadata": {},
   "outputs": [
    {
     "data": {
      "text/plain": [
       "'    i like you'"
      ]
     },
     "execution_count": 19,
     "metadata": {},
     "output_type": "execute_result"
    }
   ],
   "source": [
    "sen.rstrip()"
   ]
  },
  {
   "cell_type": "markdown",
   "id": "bca60ec4",
   "metadata": {},
   "source": [
    "### 대소문자 관련\n",
    "- upper() : 모든 문자를 대문자로 변환합니다.\n",
    "- lower() : 모든 문자를 소문자로 변환합니다.\n",
    "- capitalize() : 첫 글자만 대문자로 변환합니다."
   ]
  },
  {
   "cell_type": "code",
   "execution_count": 21,
   "id": "2ae84b14",
   "metadata": {},
   "outputs": [
    {
     "data": {
      "text/plain": [
       "'I FELL INTO AIFFEL'"
      ]
     },
     "execution_count": 21,
     "metadata": {},
     "output_type": "execute_result"
    }
   ],
   "source": [
    "txt = 'i fell into AIFFEL'\n",
    "txt.upper()"
   ]
  },
  {
   "cell_type": "code",
   "execution_count": 22,
   "id": "4080608b",
   "metadata": {},
   "outputs": [
    {
     "data": {
      "text/plain": [
       "'i fell into aiffel'"
      ]
     },
     "execution_count": 22,
     "metadata": {},
     "output_type": "execute_result"
    }
   ],
   "source": [
    "txt.lower()"
   ]
  },
  {
   "cell_type": "code",
   "execution_count": 23,
   "id": "50be9824",
   "metadata": {},
   "outputs": [
    {
     "data": {
      "text/plain": [
       "'I fell into aiffel'"
      ]
     },
     "execution_count": 23,
     "metadata": {},
     "output_type": "execute_result"
    }
   ],
   "source": [
    "txt.capitalize()"
   ]
  },
  {
   "cell_type": "markdown",
   "id": "858df4bc",
   "metadata": {},
   "source": [
    "### isX\n",
    "- 문자열의 구성에 따라 불린(boolean)의 값을 반환(return)해줍니다.\n",
    "    - isupper() : 문자열이 모두 대문자로만 되어 있으면 True, 그렇지 않으면 False를 반환\n",
    "    - islower() : 문자열이 모두 소문자로만 되어 있으면 True, 그렇지 않으면 False를 반환\n",
    "    - istitle(): 문자열의 첫 글자만 대문자로 되어 있으면 True, 그렇지 않으면 False를 반환\n",
    "    - isalpha(): 문자열이 모두 알파벳 문자로만 되어 있으면 True, 그렇지 않으면 False를 반환\n",
    "    - isalnum(): 문자열이 모두 알파벳 문자와 숫자로만 되어 있으면 True, 그렇지 않으면 False를 반환\n",
    "    - isdecimal(): 문자열이 모두 숫자로만 되어 있으면 True, 그렇지 않으면 False를 반환"
   ]
  },
  {
   "cell_type": "code",
   "execution_count": 24,
   "id": "800eca3e",
   "metadata": {},
   "outputs": [
    {
     "data": {
      "text/plain": [
       "False"
      ]
     },
     "execution_count": 24,
     "metadata": {},
     "output_type": "execute_result"
    }
   ],
   "source": [
    "\"aiffel\".isupper()"
   ]
  },
  {
   "cell_type": "code",
   "execution_count": 25,
   "id": "f968fd25",
   "metadata": {},
   "outputs": [
    {
     "data": {
      "text/plain": [
       "True"
      ]
     },
     "execution_count": 25,
     "metadata": {},
     "output_type": "execute_result"
    }
   ],
   "source": [
    "\"aiffel\".islower()"
   ]
  },
  {
   "cell_type": "code",
   "execution_count": 26,
   "id": "eb691cba",
   "metadata": {},
   "outputs": [
    {
     "data": {
      "text/plain": [
       "True"
      ]
     },
     "execution_count": 26,
     "metadata": {},
     "output_type": "execute_result"
    }
   ],
   "source": [
    "\"Python\".istitle()"
   ]
  },
  {
   "cell_type": "code",
   "execution_count": 27,
   "id": "216cbc60",
   "metadata": {},
   "outputs": [
    {
     "name": "stdout",
     "output_type": "stream",
     "text": [
      "False\n",
      "True\n",
      "True\n"
     ]
    }
   ],
   "source": [
    "print(\"python101\".isalpha())\n",
    "print(\"python101\".isalnum())\n",
    "print(\"101\".isdecimal())"
   ]
  },
  {
   "cell_type": "markdown",
   "id": "39ff2eb3",
   "metadata": {},
   "source": [
    "### join()과 split()\n",
    "- join()은 인자로 tuple, list, string등 반복 가능한(iterable)객체를 받는 메서드\n",
    "    - 각각의 원소를 모아 하나의 문자열로 합쳐 준다"
   ]
  },
  {
   "cell_type": "code",
   "execution_count": 28,
   "id": "b529a29d",
   "metadata": {},
   "outputs": [
    {
     "data": {
      "text/plain": [
       "'fund,explor,goiingd'"
      ]
     },
     "execution_count": 28,
     "metadata": {},
     "output_type": "execute_result"
    }
   ],
   "source": [
    "stages = ['fund', 'explor', 'goiingd']\n",
    "\",\".join(stages)"
   ]
  },
  {
   "cell_type": "code",
   "execution_count": 29,
   "id": "184db28e",
   "metadata": {},
   "outputs": [
    {
     "data": {
      "text/plain": [
       "'fund.explor.goiingd'"
      ]
     },
     "execution_count": 29,
     "metadata": {},
     "output_type": "execute_result"
    }
   ],
   "source": [
    "\".\".join(stages)"
   ]
  },
  {
   "cell_type": "code",
   "execution_count": 31,
   "id": "90722d5c",
   "metadata": {},
   "outputs": [
    {
     "data": {
      "text/plain": [
       "'fund_explor_goiingd'"
      ]
     },
     "execution_count": 31,
     "metadata": {},
     "output_type": "execute_result"
    }
   ],
   "source": [
    "\"_\".join(stages)"
   ]
  },
  {
   "cell_type": "markdown",
   "id": "8dd315d5",
   "metadata": {},
   "source": [
    "- split()은 반대로 하나의 문자열을 구분자를 기준으로 나누어 준다.\n",
    "    - 명시적으로 구분자를 지정하지 않으면 쉼표(,)를 기준으로 나누어 준다"
   ]
  },
  {
   "cell_type": "code",
   "execution_count": 32,
   "id": "d4e64e3f",
   "metadata": {},
   "outputs": [
    {
     "data": {
      "text/plain": [
       "['fundamentals', ' exploration', ' goingdeeper']"
      ]
     },
     "execution_count": 32,
     "metadata": {},
     "output_type": "execute_result"
    }
   ],
   "source": [
    "'fundamentals, exploration, goingdeeper'.split(',')"
   ]
  },
  {
   "cell_type": "code",
   "execution_count": 35,
   "id": "ad174fca",
   "metadata": {},
   "outputs": [
    {
     "name": "stdout",
     "output_type": "stream",
     "text": [
      "10 20\n"
     ]
    },
    {
     "data": {
      "text/plain": [
       "('10', '20')"
      ]
     },
     "execution_count": 35,
     "metadata": {},
     "output_type": "execute_result"
    }
   ],
   "source": [
    "a, b = input().split()\n",
    "a, b"
   ]
  },
  {
   "cell_type": "markdown",
   "id": "30d79215",
   "metadata": {},
   "source": [
    "* split()은 리스트를 반환하고 join()은 문자열을 반환!"
   ]
  },
  {
   "cell_type": "markdown",
   "id": "8235f97d",
   "metadata": {},
   "source": [
    "### replace()\n",
    "- replace(s1, s2) 형태로 문자열 내 문자열 s1을 s2로 바꿉니다."
   ]
  },
  {
   "cell_type": "code",
   "execution_count": 36,
   "id": "4e15bb34",
   "metadata": {},
   "outputs": [
    {
     "data": {
      "text/plain": [
       "'You can do it!'"
      ]
     },
     "execution_count": 36,
     "metadata": {},
     "output_type": "execute_result"
    }
   ],
   "source": [
    "sent = 'I can do it!'\n",
    "sent.replace('I', 'You')"
   ]
  },
  {
   "cell_type": "code",
   "execution_count": 37,
   "id": "bf9f168e",
   "metadata": {},
   "outputs": [
    {
     "data": {
      "text/plain": [
       "'l hate you'"
      ]
     },
     "execution_count": 37,
     "metadata": {},
     "output_type": "execute_result"
    }
   ],
   "source": [
    "sen = \"l love you\"\n",
    "sen.replace(\"love\", \"hate\")"
   ]
  },
  {
   "cell_type": "markdown",
   "id": "d85f3256",
   "metadata": {},
   "source": [
    "### 불변(immutable) 문자열\n",
    "- 가변 객체(mutable object)\n",
    "     - 객체를 생성한 후 객체의 값을 수정할 수 있습니다.\n",
    "     - 변수는 값이 수정된 같은 객체를 가리키게 됩니다.\n",
    "      - e.g. list, set, dict\n",
    "- 불변 객체(immutable object)\n",
    "    - 객체를 생성한 후 객체의 값을 수정할 수 없습니다.\n",
    "    - 변수는 해당 값을 가진 다른 객체를 가리키게 됩니다.\n",
    "    - e.g. int, float, complex, bool, string, tuple, frozen set"
   ]
  },
  {
   "cell_type": "markdown",
   "id": "e89b5db0",
   "metadata": {},
   "source": [
    "### 객체란?\n",
    "- 파이썬에서 모든 것은 객체이다\n",
    "- 객체가 생성된 후 id는 변경되지 않으며 해당 객체가 프로그램 실행 중에 유일한 객체라는 것을 보장\n",
    "\n",
    "- id(object)\n",
    "    - id 함수는 아규먼트로 제공된 객체를 위한 고유한 상수를 리턴\n",
    "    - 두 객체의 id함수 리턴값이 같다면 두 객체는 동일한 객체\n",
    "- a is b\n",
    "    - is 연산자는 a,b가 같은 객체라면 True를 리턴\n",
    "    - is 연산자는 같은 객체인지 확인하거나 객체가 파이썬 상수와 같은지 확인할 때에만 사용\n",
    "    \n",
    "- 가변 객체와 불변 객체를 쉽게 구별하는 방법은 변수에 대입한 값을 수정했을 때 전후의 id함수 리턴값이 같으면 가변, 다르면 불변 객체"
   ]
  },
  {
   "cell_type": "code",
   "execution_count": 38,
   "id": "0f3ce9b1",
   "metadata": {},
   "outputs": [
    {
     "data": {
      "text/plain": [
       "True"
      ]
     },
     "execution_count": 38,
     "metadata": {},
     "output_type": "execute_result"
    }
   ],
   "source": [
    "a = 1\n",
    "b = a\n",
    "a is b"
   ]
  },
  {
   "cell_type": "code",
   "execution_count": 39,
   "id": "1c0e5bc0",
   "metadata": {},
   "outputs": [
    {
     "data": {
      "text/plain": [
       "False"
      ]
     },
     "execution_count": 39,
     "metadata": {},
     "output_type": "execute_result"
    }
   ],
   "source": [
    "a = 2\n",
    "a is b"
   ]
  },
  {
   "cell_type": "code",
   "execution_count": 40,
   "id": "3701a2e1",
   "metadata": {},
   "outputs": [
    {
     "data": {
      "text/plain": [
       "True"
      ]
     },
     "execution_count": 40,
     "metadata": {},
     "output_type": "execute_result"
    }
   ],
   "source": [
    "a = [1,2,3]\n",
    "b = a\n",
    "a is b"
   ]
  },
  {
   "cell_type": "code",
   "execution_count": 41,
   "id": "04626e69",
   "metadata": {},
   "outputs": [
    {
     "data": {
      "text/plain": [
       "True"
      ]
     },
     "execution_count": 41,
     "metadata": {},
     "output_type": "execute_result"
    }
   ],
   "source": [
    "a.append(4)\n",
    "a is b"
   ]
  },
  {
   "cell_type": "code",
   "execution_count": 42,
   "id": "f17f5d61",
   "metadata": {},
   "outputs": [
    {
     "data": {
      "text/plain": [
       "([1, 2, 3], [1, 2, 3], [1, 2, 3], [1, 2, 3])"
      ]
     },
     "execution_count": 42,
     "metadata": {},
     "output_type": "execute_result"
    }
   ],
   "source": [
    "# 얕은 복사와 깊은 복사\n",
    "import copy\n",
    "\n",
    "a = [1,2,3]\n",
    "b = a  # 대입\n",
    "c = copy.copy(a)  # 얕은 복사\n",
    "d = copy.deepcopy(a)   # 깊은 복사\n",
    "\n",
    "a, b, c, d"
   ]
  },
  {
   "cell_type": "code",
   "execution_count": 43,
   "id": "df8e5e12",
   "metadata": {},
   "outputs": [
    {
     "data": {
      "text/plain": [
       "(140404082758912, 140404082758912, 140404083394496, 140404083396992)"
      ]
     },
     "execution_count": 43,
     "metadata": {},
     "output_type": "execute_result"
    }
   ],
   "source": [
    "id(a), id(b), id(c), id(d)"
   ]
  },
  {
   "cell_type": "code",
   "execution_count": 44,
   "id": "f1ef43fa",
   "metadata": {},
   "outputs": [
    {
     "data": {
      "text/plain": [
       "140404083403504"
      ]
     },
     "execution_count": 44,
     "metadata": {},
     "output_type": "execute_result"
    }
   ],
   "source": [
    "# 정수형\n",
    "id(257)"
   ]
  },
  {
   "cell_type": "code",
   "execution_count": 45,
   "id": "215528ac",
   "metadata": {},
   "outputs": [
    {
     "data": {
      "text/plain": [
       "140404083402832"
      ]
     },
     "execution_count": 45,
     "metadata": {},
     "output_type": "execute_result"
    }
   ],
   "source": [
    "a = 257\n",
    "id(a)"
   ]
  },
  {
   "cell_type": "code",
   "execution_count": 46,
   "id": "462c02be",
   "metadata": {},
   "outputs": [
    {
     "data": {
      "text/plain": [
       "140404083403312"
      ]
     },
     "execution_count": 46,
     "metadata": {},
     "output_type": "execute_result"
    }
   ],
   "source": [
    "b = 257\n",
    "id(b)"
   ]
  },
  {
   "cell_type": "code",
   "execution_count": 47,
   "id": "ab943764",
   "metadata": {},
   "outputs": [
    {
     "data": {
      "text/plain": [
       "True"
      ]
     },
     "execution_count": 47,
     "metadata": {},
     "output_type": "execute_result"
    }
   ],
   "source": [
    "a == b"
   ]
  },
  {
   "cell_type": "code",
   "execution_count": 48,
   "id": "05cbec94",
   "metadata": {},
   "outputs": [
    {
     "data": {
      "text/plain": [
       "False"
      ]
     },
     "execution_count": 48,
     "metadata": {},
     "output_type": "execute_result"
    }
   ],
   "source": [
    "a is b   # 객체는 같지 않다"
   ]
  },
  {
   "cell_type": "markdown",
   "id": "d90d1b97",
   "metadata": {},
   "source": [
    "## 7.4 정규 표현식"
   ]
  },
  {
   "cell_type": "code",
   "execution_count": 49,
   "id": "e1075ee2",
   "metadata": {},
   "outputs": [
    {
     "data": {
      "text/plain": [
       "'You can do it!'"
      ]
     },
     "execution_count": 49,
     "metadata": {},
     "output_type": "execute_result"
    }
   ],
   "source": [
    "import re\n",
    "sent = 'I can do it!'\n",
    "pattern = re.sub(\"I\", \"You\", sent)\n",
    "pattern"
   ]
  },
  {
   "cell_type": "markdown",
   "id": "f496a70d",
   "metadata": {},
   "source": [
    "- re 모듈을 import해서 정규 표현식 사용 가능"
   ]
  },
  {
   "cell_type": "markdown",
   "id": "cc8ac762",
   "metadata": {},
   "source": [
    "### Complie()\n",
    "- 정규 표현식의 사용법\n",
    "    - 찾고자 하는 문자열 패턴을 정의한다\n",
    "    - 정의된 패턴과 매칭되는 경우를 찾아 다양한 처리를 하는\n",
    "- 1단계에 해당하는 과정을 컴파일 이라고 한다"
   ]
  },
  {
   "cell_type": "code",
   "execution_count": 50,
   "id": "658f21c9",
   "metadata": {},
   "outputs": [
    {
     "data": {
      "text/plain": [
       "['the', 'the', 'the']"
      ]
     },
     "execution_count": 50,
     "metadata": {},
     "output_type": "execute_result"
    }
   ],
   "source": [
    "#1단계 :  \"the\"라는 패턴을 컴파일한 후 패턴 객체를 리턴합니다. \n",
    "pattern = re.compile(\"the\")    \n",
    "\n",
    "# 2단계 : 컴파일된 패턴 객체를 활용하여 다른 텍스트에서 검색을 수행합니다.\n",
    "pattern.findall('of the people, for the people, by the people')"
   ]
  },
  {
   "cell_type": "code",
   "execution_count": 51,
   "id": "ed97607d",
   "metadata": {},
   "outputs": [
    {
     "data": {
      "text/plain": [
       "['the', 'the', 'the']"
      ]
     },
     "execution_count": 51,
     "metadata": {},
     "output_type": "execute_result"
    }
   ],
   "source": [
    "re.findall('the', 'of the people, for the people, by the people')"
   ]
  },
  {
   "cell_type": "code",
   "execution_count": 52,
   "id": "f2a088ef",
   "metadata": {},
   "outputs": [
    {
     "data": {
      "text/plain": [
       "['you', 'you']"
      ]
     },
     "execution_count": 52,
     "metadata": {},
     "output_type": "execute_result"
    }
   ],
   "source": [
    "re.findall('you', 'i like you and i hate  you')"
   ]
  },
  {
   "cell_type": "markdown",
   "id": "9e63708d",
   "metadata": {},
   "source": [
    "### 메서드\n",
    "- 호출 가능한 메서드와 속성\n",
    "    - search() : 일치하는 패턴 찾기 (일치 패턴이 있으면 MatchObject를 반환합니다)\n",
    "    - match() : search()와 비슷하지만, 처음부터 패턴이 검색 대상과 일치해야 합니다.\n",
    "    - findall() : 일치하는 모든 패턴 찾기 (모든 일치 패턴을 리스트에 담아서 반환합니다)\n",
    "    - split() : 패턴으로 나누기\n",
    "    - sub() : 일치하는 패턴으로 대체하기"
   ]
  },
  {
   "cell_type": "markdown",
   "id": "43af561d",
   "metadata": {},
   "source": [
    "### 패턴 : 특수문자, 메타 문자\n",
    "- 특수문자 혹은 메타 문자라 불리는 []. -. . ? * + {} / 등을 이용해 특수한 패턴을 만들 수 있다"
   ]
  },
  {
   "cell_type": "markdown",
   "id": "6a6f3341",
   "metadata": {},
   "source": [
    "- [ ] : 문자\n",
    "- - : 범위\n",
    "- . : 하나의 문자\n",
    "- ? : 0회 또는 1회 반복\n",
    "- * : 0회 이상 반복\n",
    "- + : 1회 이상 반복\n",
    "- {m, n} : m ~ n\n",
    "- \\d : 숫자, [0-9]와 동일\n",
    "- \\D : 비 숫자, [^0-9]와 동일\n",
    "- \\w : 알파벳 문자 + 숫자 + _, [a-zA-Z0-9_]와 동일\n",
    "- \\W : 비 알파벳 문자 + 비숫자, [^a-zA-Z0-9_]와 동일\n",
    "- \\s : 공백 문자, [ \\t\\n\\r\\f\\v]와 동일\n",
    "- \\S : 비 공백 문자, [^ \\t\\n\\r\\f\\v]와 동일\n",
    "- \\b : 단어 경계\n",
    "- \\B : 비 단어 경계\n",
    "- \\t : 가로 탭(tab)\n",
    "- \\v : 세로 탭(vertical tab)\n",
    "- \\f : 폼 피드\n",
    "- \\n : 라인 피드(개행문자)\n",
    "- \\r : 캐리지 리턴(원시 문자열)"
   ]
  },
  {
   "cell_type": "code",
   "execution_count": 53,
   "id": "b7858ae3",
   "metadata": {},
   "outputs": [
    {
     "data": {
      "text/plain": [
       "['1993', '1995', '2019', '2000', '2002', '2013', '2015', '2017']"
      ]
     },
     "execution_count": 53,
     "metadata": {},
     "output_type": "execute_result"
    }
   ],
   "source": [
    "#- 연도(숫자)\n",
    "text = \"\"\"\n",
    "The first season of America Premiere League  was played in 1993. \n",
    "The second season was played in 1995 in South Africa. \n",
    "Last season was played in 2019 and won by Chennai Super Kings (CSK).\n",
    "CSK won the title in 2000 and 2002 as well.\n",
    "Mumbai Indians (MI) has also won the title 3 times in 2013, 2015 and 2017.\n",
    "\"\"\"\n",
    "pattern = re.compile(\"[1-2]\\d\\d\\d\")\n",
    "pattern.findall(text)"
   ]
  },
  {
   "cell_type": "code",
   "execution_count": 54,
   "id": "48d576cd",
   "metadata": {},
   "outputs": [
    {
     "name": "stdout",
     "output_type": "stream",
     "text": [
      "010-111-1111\n",
      "------\n"
     ]
    }
   ],
   "source": [
    "#- 전화번호(숫자, 기호)\n",
    "phonenumber = re.compile(r'\\d\\d\\d-\\d\\d\\d-\\d\\d\\d\\d')\n",
    "phone = phonenumber.search('This is my phone number 010-111-1111')\n",
    "if phone:\n",
    "  print(phone.group())\n",
    "print('------')\n",
    "phone = phonenumber.match ('This is my phone number 010-111-1111')\n",
    "if phone:\n",
    "  print(phone.group())"
   ]
  },
  {
   "cell_type": "markdown",
   "id": "15222778",
   "metadata": {},
   "source": [
    "- match()를 사용한 경우, 패턴ㄴ과 검색 대상이 처음부터 일치하지 않으므로 아무것도 출력되지 않는다"
   ]
  },
  {
   "cell_type": "code",
   "execution_count": 55,
   "id": "5c46034b",
   "metadata": {},
   "outputs": [
    {
     "name": "stdout",
     "output_type": "stream",
     "text": [
      "010-111-1111\n",
      "------\n"
     ]
    }
   ],
   "source": [
    "#- 전화번호(숫자, 기호)\n",
    "phonenumber = re.compile(r'\\d{3}-\\d{3}-\\d{4}')\n",
    "phone = phonenumber.search('This is my phone number 010-111-1111')\n",
    "if phone:\n",
    "  print(phone.group())\n",
    "print('------')\n",
    "phone = phonenumber.match ('This is my phone number 010-111-1111')\n",
    "if phone:\n",
    "  print(phone.group())"
   ]
  },
  {
   "cell_type": "code",
   "execution_count": 56,
   "id": "b73f3244",
   "metadata": {},
   "outputs": [
    {
     "name": "stdout",
     "output_type": "stream",
     "text": [
      "010-111-1111\n",
      "------\n"
     ]
    }
   ],
   "source": [
    "#- 전화번호(숫자, 기호)\n",
    "phonenumber = re.compile(r'(\\d{3}-){2}\\d{4}')\n",
    "phone = phonenumber.search('This is my phone number 010-111-1111')\n",
    "if phone:\n",
    "  print(phone.group())\n",
    "print('------')\n",
    "phone = phonenumber.match ('This is my phone number 010-111-1111')\n",
    "if phone:\n",
    "  print(phone.group())"
   ]
  },
  {
   "cell_type": "code",
   "execution_count": 57,
   "id": "ed2e3c3b",
   "metadata": {},
   "outputs": [
    {
     "data": {
      "text/plain": [
       "['doingharu@aiffel.com', 'tomorrow@aiffel.com']"
      ]
     },
     "execution_count": 57,
     "metadata": {},
     "output_type": "execute_result"
    }
   ],
   "source": [
    "#- 이메일(알파벳, 숫자, 기호)\n",
    "text = \"My e-mail adress is doingharu@aiffel.com, and tomorrow@aiffel.com\"\n",
    "pattern = re.compile(\"[0-9a-zA-Z]+@[0-9a-z]+\\.[0-9a-z]+\")\n",
    "pattern.findall(text)"
   ]
  },
  {
   "cell_type": "markdown",
   "id": "38d5ac37",
   "metadata": {},
   "source": [
    "### 구현 순서\n",
    "- import re 를 통해 정규식 모듈을 가져옵니다.\n",
    "- re.compile() 함수로 Regex 객체를 만듭니다.\n",
    "- 검색할 문자열을 Regex 객체의 search() , findall() 메소드로 전달합니다."
   ]
  },
  {
   "cell_type": "markdown",
   "id": "0a1fd8f7",
   "metadata": {},
   "source": [
    "## 7.5 파일"
   ]
  },
  {
   "cell_type": "markdown",
   "id": "ac9e5721",
   "metadata": {},
   "source": [
    "### write"
   ]
  },
  {
   "cell_type": "code",
   "execution_count": 58,
   "id": "72a96719",
   "metadata": {},
   "outputs": [
    {
     "name": "stdout",
     "output_type": "stream",
     "text": [
      "완료!\n"
     ]
    }
   ],
   "source": [
    "f = open(\"hello.txt\",\"w\") \n",
    "#- open(파일명, 파일모드)\n",
    "#- 파일을 열고 파일 객체를 반환합니다. \n",
    "for i in range(10):\n",
    "    f.write(\"안녕\")\n",
    "    #- write() 메서드로 '안녕'을 10번 씁니다.\n",
    "f.close()\n",
    "#- 작업이 끝나면 close() 메서드로 닫아줍니다. *필수!\n",
    "\n",
    "print(\"완료!\")"
   ]
  },
  {
   "cell_type": "markdown",
   "id": "a7d9458c",
   "metadata": {},
   "source": [
    "### read"
   ]
  },
  {
   "cell_type": "code",
   "execution_count": 59,
   "id": "9fb12447",
   "metadata": {},
   "outputs": [
    {
     "name": "stdout",
     "output_type": "stream",
     "text": [
      "안녕안녕안녕안녕안녕안녕안녕안녕안녕안녕\n"
     ]
    }
   ],
   "source": [
    "with open(\"hello.txt\", \"r\") as f:\n",
    "  print(f.read())"
   ]
  },
  {
   "cell_type": "markdown",
   "id": "03a74b0a",
   "metadata": {},
   "source": [
    "### 파일 관련 메소드\n",
    "- f.read() : 파일을 읽는다.\n",
    "- f.readline() : 파일을 한 줄씩 읽는다.\n",
    "- f.readlines() : 파일 안의 모든 줄을 읽어 그 값을 리스트로 반환한다.\n",
    "- f.write(str) : 파일에 쓴다. 문자열 타입을 인자로 받는다.\n",
    "- f.writelines(str) : 파일에 인자를 한 줄씩 쓴다.\n",
    "- f.close() : 파일을 닫는다.\n",
    "- f.seek(offset) : 해당 파일의 위치(offset)를 찾아 파일의 커서를 옮긴다. 파일의 처음 위치는 0이다.\n",
    "- f.tell(): 현재 커서의 위치를 반환한다."
   ]
  },
  {
   "cell_type": "code",
   "execution_count": 60,
   "id": "21d4f6b9",
   "metadata": {},
   "outputs": [],
   "source": [
    "quotes = [\"\\n안녕하세요.\\n\", \"반갑습니다.\\n\", \"오랫만입니다.\\n\"]\n",
    "\n",
    "with open(\"hello.txt\", \"a\") as f:              # 위에서 만든 파일에 이어서 씁니다. \n",
    "    f.writelines(quotes)"
   ]
  },
  {
   "cell_type": "code",
   "execution_count": 62,
   "id": "13653c31",
   "metadata": {},
   "outputs": [
    {
     "name": "stdout",
     "output_type": "stream",
     "text": [
      "안녕안녕안녕안녕안녕안녕안녕안녕안녕안녕\n",
      "안녕하세요.\n",
      "반갑습니다.\n",
      "오랫만입니다.\n",
      "\n"
     ]
    }
   ],
   "source": [
    "with open(\"hello.txt\", \"r\") as f:\n",
    "  print(f.read())"
   ]
  },
  {
   "cell_type": "code",
   "execution_count": 63,
   "id": "40df0054",
   "metadata": {},
   "outputs": [
    {
     "name": "stdout",
     "output_type": "stream",
     "text": [
      "위치 : 115\n",
      "['안녕안녕안녕안녕안녕안녕안녕안녕안녕안녕\\n', '안녕하세요.\\n', '반갑습니다.\\n', '오랫만입니다.\\n']\n",
      "----------------------------------------------------\n",
      "위치 : 10\n"
     ]
    }
   ],
   "source": [
    "with open('hello.txt', 'r') as f:\n",
    "    hello = f.readlines()\n",
    "    print(f'위치 : {f.tell()}')\n",
    "    print(hello)\n",
    "    print(\"----------------------------------------------------\")\n",
    "    f.seek(10)\n",
    "    print(f'위치 : {f.tell()}')"
   ]
  },
  {
   "cell_type": "markdown",
   "id": "26b724e4",
   "metadata": {},
   "source": [
    "## 7.7 모듈과 패키지"
   ]
  },
  {
   "cell_type": "markdown",
   "id": "02845dfb",
   "metadata": {},
   "source": [
    "### 파이썬에서 지원하는 디렉토리 관련 표준 라이브러리\n",
    "- sys\n",
    "- os\n",
    "- glob\n",
    "- 이 모듈들을 import해서 디렉토리 관련 작업을 한다"
   ]
  },
  {
   "cell_type": "code",
   "execution_count": 64,
   "id": "761eda7f",
   "metadata": {},
   "outputs": [
    {
     "data": {
      "text/plain": [
       "'/opt/conda/bin/python'"
      ]
     },
     "execution_count": 64,
     "metadata": {},
     "output_type": "execute_result"
    }
   ],
   "source": [
    "#- 현재 실행되고 있는 파이썬 실행 파일의 디렉터리를 반환합니다.\n",
    "import sys\n",
    "sys.executable"
   ]
  },
  {
   "cell_type": "code",
   "execution_count": 65,
   "id": "010db87a",
   "metadata": {},
   "outputs": [
    {
     "data": {
      "text/plain": [
       "['/aiffel/aiffel/FundamentalStage',\n",
       " '/aiffel/storage/package',\n",
       " '/opt/conda/lib/python39.zip',\n",
       " '/opt/conda/lib/python3.9',\n",
       " '/opt/conda/lib/python3.9/lib-dynload',\n",
       " '',\n",
       " '/opt/conda/lib/python3.9/site-packages',\n",
       " '/opt/conda/lib/python3.9/site-packages/IPython/extensions',\n",
       " '/aiffel/.ipython']"
      ]
     },
     "execution_count": 65,
     "metadata": {},
     "output_type": "execute_result"
    }
   ],
   "source": [
    "#- 임포트할 때 불러 오는 모듈들이 위치한 경로입니다.\n",
    "sys.path"
   ]
  },
  {
   "cell_type": "markdown",
   "id": "d00997a9",
   "metadata": {},
   "source": [
    "### 개념\n",
    "- 모듈(module) : 파이썬으로 만든 코드가 들어간 파일 .py\n",
    "\n",
    "- 패키지(package) : 기능적으로 동일하거나 동일한 결과를 만드는 모듈들의 집합 또는 폴더. 종종 라이브러리라고도 불림\n",
    "\n",
    "- 라이브러리(library) : 모듈과 패키지의 집합. 패키지보다 포괄적인 개념이나 패키지와 혼용되어 사용되기도 함.\n",
    "\n",
    "- PIP(Package Installer for Python) : 패키지 관리자로 파이썬을 설치하면 기본으로 설치됨\n",
    "\n",
    "- PyPA(Python Packaging Authority) : 파이선 패키지를 관리하고 유지하는 그룹\n",
    "\n",
    "- PyPI(The Python Package Index) : 파이썬 패키지들의 저장소"
   ]
  },
  {
   "cell_type": "markdown",
   "id": "8ce81bc8",
   "metadata": {},
   "source": [
    "### 함수\n",
    "- sys.path : 현재 폴더와 파이썬 모듈들이 저장되는 위치를 리스트 형태로 반환\n",
    "- sys.path.append() : 자신이 만든 모듈의 경로를 append 함수를 이용해서 추가함. 그 후 추가한 디렉터리에 있는 파이썬 모듈을 불러와 사용할 수 있다.\n",
    "- os.chdir() : 디렉터리 위치 변경\n",
    "- os.getcwd() : 현재 자신의 디렉터리 위치를 반환\n",
    "- os.mkdir() : 디렉터리 생성\n",
    "- os.rmdir() : 디렉터리 삭제 (단, 디렉터리가 비어 있을 경우)\n",
    "- glob.glob() : 해당 경로 안의 디렉터리나 파일들을 리스트 형태로 반환\n",
    "- os.path.join() : 경로(path)를 병합하여 새 경로 생성\n",
    "- os.listdir() : 디렉터리 안의 파일 및 서브 디렉터리를 리스트 형태로 반환\n",
    "- os.path.exists() : 파일 혹은 디렉터리의 경로 존재 여부 확인\n",
    "- os.path.isfile() : 파일 경로의 존재 여부 확인\n",
    "- os.path.isdir() : 디렉터리 경로의 존재 여부 확인\n",
    "- os.path.getsize() : 파일의 크기 확인"
   ]
  },
  {
   "cell_type": "markdown",
   "id": "8f720b23",
   "metadata": {},
   "source": [
    "## 7.8 CSV파일"
   ]
  },
  {
   "cell_type": "markdown",
   "id": "d596b26f",
   "metadata": {},
   "source": [
    "### CSV\n",
    "- CSV는 Comma Seperated Value의 약자로, 쉼표로 구분된 파일"
   ]
  },
  {
   "cell_type": "code",
   "execution_count": 66,
   "id": "52c13c96",
   "metadata": {},
   "outputs": [
    {
     "name": "stdout",
     "output_type": "stream",
     "text": [
      "슝~\n"
     ]
    }
   ],
   "source": [
    "billboardchart = {\n",
    "  \t\t\t\t 1 : [\"Tho Box\",\"Roddy Ricch\",\"2019-12-19\"],\n",
    "                 2 : [\"Don't Start Now\", \"Dua Lipa\", \"2019-11-01\"],\n",
    "                 3 : [\"Life Is Good\", \"Future Featuring Drake\", \"2020-02-10\"],\n",
    "                 4 : [\"Blinding\", \"The Weeknd\", \"2019-11-29\"],\n",
    "                 5 : [\"Circles\", \"Post Malone\",\"2019-08-30\"]}\n",
    "\n",
    "with open(\"billboardchart.csv\",\"w\") as f:\n",
    "    for i in billboardchart.values():\n",
    "        data = \",\".join(i)\n",
    "        f.write(data+\"\\n\")\n",
    "\n",
    "print(\"슝~\")"
   ]
  },
  {
   "cell_type": "code",
   "execution_count": 67,
   "id": "ae9cd66b",
   "metadata": {},
   "outputs": [
    {
     "name": "stdout",
     "output_type": "stream",
     "text": [
      "슝~\n"
     ]
    }
   ],
   "source": [
    "#- 1. 데이터를 준비합니다.\n",
    "fields = [\"title\", \"singer\", \"released date\"]\n",
    "rows = [ [\"Tho Box\",\"Roddy Ricch\",\"2019-12-19\"],\n",
    "               [\"Don't Start Now\", \"Dua Lipa\", \"2019-11-01\"],\n",
    "               [\"Life Is Good\", \"Future Featuring Drake\", \"2020-02-10\"],\n",
    "               [\"Blinding\", \"The Weeknd\", \"2019-11-29\"],\n",
    "               [\"Circles\", \"Post Malone\",\"2019-08-30\"]]\n",
    "\n",
    "print(\"슝~\")"
   ]
  },
  {
   "cell_type": "markdown",
   "id": "dc0cd5e4",
   "metadata": {},
   "source": [
    "### CSV파일과 Pandas\n",
    "- 판다스의 DataFrame은 to_csv 메서드를 지원한다"
   ]
  },
  {
   "cell_type": "code",
   "execution_count": 68,
   "id": "262addaf",
   "metadata": {},
   "outputs": [
    {
     "name": "stdout",
     "output_type": "stream",
     "text": [
      "슝~\n"
     ]
    }
   ],
   "source": [
    "#- 1. 데이터를 준비합니다.\n",
    "fields = [\"title\", \"singer\", \"released date\"]\n",
    "rows = [ [\"Tho Box\",\"Roddy Ricch\",\"2019-12-19\"],\n",
    "               [\"Don't Start Now\", \"Dua Lipa\", \"2019-11-01\"],\n",
    "               [\"Life Is Good\", \"Future Featuring Drake\", \"2020-02-10\"],\n",
    "               [\"Blinding\", \"The Weeknd\", \"2019-11-29\"],\n",
    "               [\"Circles\", \"Post Malone\",\"2019-08-30\"]]\n",
    "\n",
    "print(\"슝~\")"
   ]
  },
  {
   "cell_type": "code",
   "execution_count": 69,
   "id": "c3001967",
   "metadata": {},
   "outputs": [
    {
     "name": "stdout",
     "output_type": "stream",
     "text": [
      "슝~\n"
     ]
    }
   ],
   "source": [
    "#- 2. 판다스를 이용해 데이터를 csv 파일로 저장합니다.\n",
    "import pandas as pd\n",
    "\n",
    "df=pd.DataFrame(rows, columns=fields)\n",
    "df.to_csv('pandas.csv',index=False)\n",
    "\n",
    "print(\"슝~\")"
   ]
  },
  {
   "cell_type": "code",
   "execution_count": 70,
   "id": "6336877a",
   "metadata": {},
   "outputs": [
    {
     "name": "stdout",
     "output_type": "stream",
     "text": [
      "완료\n"
     ]
    }
   ],
   "source": [
    "#- 3. 동일한 내용을 csv.writer를 이용해 수행해 봅니다.\n",
    "import csv \n",
    "\n",
    "filename = \"test.csv\"\n",
    "with open(filename, 'w+', newline='\\n') as csv_file: \n",
    "    csv_writer = csv.writer(csv_file) \n",
    "    csv_writer.writerow(fields) \n",
    "    csv_writer.writerows(rows)\n",
    "\n",
    "print(\"완료\")\n",
    "\n",
    "#- test.csv 파일을 직접 열어서 눈으로 살펴 보세요. -#"
   ]
  },
  {
   "cell_type": "code",
   "execution_count": 71,
   "id": "789d9f21",
   "metadata": {},
   "outputs": [
    {
     "data": {
      "text/html": [
       "<div>\n",
       "<style scoped>\n",
       "    .dataframe tbody tr th:only-of-type {\n",
       "        vertical-align: middle;\n",
       "    }\n",
       "\n",
       "    .dataframe tbody tr th {\n",
       "        vertical-align: top;\n",
       "    }\n",
       "\n",
       "    .dataframe thead th {\n",
       "        text-align: right;\n",
       "    }\n",
       "</style>\n",
       "<table border=\"1\" class=\"dataframe\">\n",
       "  <thead>\n",
       "    <tr style=\"text-align: right;\">\n",
       "      <th></th>\n",
       "      <th>title</th>\n",
       "      <th>singer</th>\n",
       "      <th>released date</th>\n",
       "    </tr>\n",
       "  </thead>\n",
       "  <tbody>\n",
       "    <tr>\n",
       "      <th>0</th>\n",
       "      <td>Tho Box</td>\n",
       "      <td>Roddy Ricch</td>\n",
       "      <td>2019-12-19</td>\n",
       "    </tr>\n",
       "    <tr>\n",
       "      <th>1</th>\n",
       "      <td>Don't Start Now</td>\n",
       "      <td>Dua Lipa</td>\n",
       "      <td>2019-11-01</td>\n",
       "    </tr>\n",
       "    <tr>\n",
       "      <th>2</th>\n",
       "      <td>Life Is Good</td>\n",
       "      <td>Future Featuring Drake</td>\n",
       "      <td>2020-02-10</td>\n",
       "    </tr>\n",
       "    <tr>\n",
       "      <th>3</th>\n",
       "      <td>Blinding</td>\n",
       "      <td>The Weeknd</td>\n",
       "      <td>2019-11-29</td>\n",
       "    </tr>\n",
       "    <tr>\n",
       "      <th>4</th>\n",
       "      <td>Circles</td>\n",
       "      <td>Post Malone</td>\n",
       "      <td>2019-08-30</td>\n",
       "    </tr>\n",
       "  </tbody>\n",
       "</table>\n",
       "</div>"
      ],
      "text/plain": [
       "             title                  singer released date\n",
       "0          Tho Box             Roddy Ricch    2019-12-19\n",
       "1  Don't Start Now                Dua Lipa    2019-11-01\n",
       "2     Life Is Good  Future Featuring Drake    2020-02-10\n",
       "3         Blinding              The Weeknd    2019-11-29\n",
       "4          Circles             Post Malone    2019-08-30"
      ]
     },
     "execution_count": 71,
     "metadata": {},
     "output_type": "execute_result"
    }
   ],
   "source": [
    "df = pd.read_csv('pandas.csv')\n",
    "df.head()"
   ]
  },
  {
   "cell_type": "markdown",
   "id": "8ad59ca3",
   "metadata": {},
   "source": [
    "## 7.9 XML파일"
   ]
  },
  {
   "cell_type": "markdown",
   "id": "817a18fe",
   "metadata": {},
   "source": [
    "### XML\n",
    "- Extensible Markup Language의 약자로, 다목적 마크업 언어\n",
    "- 마크업 언어는 태그(tag)로 이루어진 언어를 말하며, 상위(부모) 태그 - 하위(자식) 태그의 계층적 구조로 되어 있다.\n",
    "- XML은 요소(element)들로 이루어져 있다.\n",
    "- 요소는 <열린 태그> 내용 </닫힌 태그>가 기본적인 구조이며, 속성(attribute) 값을 가질 수도 있다."
   ]
  },
  {
   "cell_type": "markdown",
   "id": "520ce731",
   "metadata": {},
   "source": [
    "### XML 파일 만들기"
   ]
  },
  {
   "cell_type": "markdown",
   "id": "93a31a5f",
   "metadata": {},
   "source": [
    "#### ElementTree\n",
    "- 표준 라이브러리 \n",
    "    - Element() : 태그 생성\n",
    "    - SubElement() : 자식 태그 생성\n",
    "    - tag : 태그 이름\n",
    "    - text : 텍스트 내용 생성\n",
    "    - attrib : 속성 생성"
   ]
  },
  {
   "cell_type": "markdown",
   "id": "6e9b8ac2",
   "metadata": {},
   "source": [
    "#### dump()\n",
    "- 생성된 XML 요소 구조를 시스템(sys.stdout)에 사용합니다. 출력 형식은 일반 XML 파일로 기록됩니다.\n",
    "    - write() : XML 파일로 저장\n",
    "    - 리스트(list)와 유사한 메서드를 제공\n",
    "        - append(), insert(), remove(), pop()"
   ]
  },
  {
   "cell_type": "code",
   "execution_count": 1,
   "id": "e40396d1",
   "metadata": {},
   "outputs": [
    {
     "name": "stdout",
     "output_type": "stream",
     "text": [
      "<Person><name>이펠</name><age>28</age><place>강남</place></Person>\n"
     ]
    }
   ],
   "source": [
    "import xml.etree.ElementTree as ET\n",
    "\n",
    "person = ET.Element(\"Person\")\n",
    "name = ET.Element(\"name\")\n",
    "name.text = \"이펠\"\n",
    "person.append(name)\n",
    "\n",
    "age = ET.Element(\"age\")\n",
    "age.text = \"28\"\n",
    "person.append(age)\n",
    "\n",
    "ET.SubElement(person, 'place').text = '강남'\n",
    "\n",
    "ET.dump(person)"
   ]
  },
  {
   "cell_type": "code",
   "execution_count": 2,
   "id": "445981ef",
   "metadata": {},
   "outputs": [
    {
     "name": "stdout",
     "output_type": "stream",
     "text": [
      "<Person id=\"0x0001\"><firstname>이펠</firstname><age>28</age><place>강남</place></Person>\n"
     ]
    }
   ],
   "source": [
    "person.attrib[\"id\"] = \"0x0001\"\n",
    "name.tag = \"firstname\"\n",
    "ET.dump(person)"
   ]
  },
  {
   "cell_type": "code",
   "execution_count": 3,
   "id": "dbd6b481",
   "metadata": {},
   "outputs": [
    {
     "name": "stdout",
     "output_type": "stream",
     "text": [
      "<Person id=\"0x0001\"><firstname>이펠</firstname><lastname date=\"2020-03-20\">아</lastname><age>28</age><place>강남</place></Person>\n"
     ]
    }
   ],
   "source": [
    "lastname = ET.Element('lastname', date='2020-03-20')\n",
    "lastname.text = '아'\n",
    "person.insert(1,lastname)\n",
    "ET.dump(person)"
   ]
  },
  {
   "cell_type": "code",
   "execution_count": 4,
   "id": "9e13f39f",
   "metadata": {},
   "outputs": [],
   "source": [
    "person.remove(age)"
   ]
  },
  {
   "cell_type": "code",
   "execution_count": 5,
   "id": "faf575a1",
   "metadata": {},
   "outputs": [],
   "source": [
    "ET.ElementTree(person).write('person.xml')"
   ]
  },
  {
   "cell_type": "code",
   "execution_count": 6,
   "id": "b6388661",
   "metadata": {},
   "outputs": [
    {
     "name": "stdout",
     "output_type": "stream",
     "text": [
      "billboardchart.csv  funda_01   pandas.csv  test.csv\r\n",
      "fund_02.ipynb\t    hello.txt  person.xml\r\n"
     ]
    }
   ],
   "source": [
    "!ls"
   ]
  },
  {
   "cell_type": "markdown",
   "id": "2e015090",
   "metadata": {},
   "source": [
    "### XML 파싱하기"
   ]
  },
  {
   "cell_type": "code",
   "execution_count": 1,
   "id": "700afe8c",
   "metadata": {},
   "outputs": [],
   "source": [
    "# $ pip list | grep beautifulsoup4\n",
    "# $ pip list | grep lxml"
   ]
  },
  {
   "cell_type": "code",
   "execution_count": 8,
   "id": "74ba7a9c",
   "metadata": {},
   "outputs": [
    {
     "name": "stdout",
     "output_type": "stream",
     "text": [
      "XML Developer's Guide\n",
      "Midnight Rain\n",
      "Maeve Ascendant\n",
      "Oberon's Legacy\n",
      "The Sundered Grail\n",
      "Lover Birds\n",
      "Splish Splash\n",
      "Creepy Crawlies\n",
      "Paradox Lost\n",
      "Microsoft .NET: The Programming Bible\n",
      "MSXML3: A Comprehensive Guide\n",
      "Visual Studio 7: A Comprehensive Guide\n"
     ]
    }
   ],
   "source": [
    "from bs4 import BeautifulSoup\n",
    "import os\n",
    "\n",
    "path = os.getenv(\"HOME\") + \"/data/books.xml\"  # 로컬을 사용하시려면 경로는 수정해 주세요. \n",
    "with open(path, \"r\", encoding='utf8') as f:\n",
    "    booksxml = f.read() \n",
    "    #- 파일을 문자열로 읽기\n",
    " \n",
    "soup = BeautifulSoup(booksxml,'lxml') \n",
    "#- BeautifulSoup 객체 생성 : lxml parser를 이용해 데이터 분석\n",
    "\n",
    "for title in soup.find_all('title'): \n",
    "#-  태그를 찾는 find_all 함수 이용\n",
    "    print(title.get_text())"
   ]
  },
  {
   "cell_type": "markdown",
   "id": "d9c85c08",
   "metadata": {},
   "source": [
    "## 7.3 JSON 파일"
   ]
  },
  {
   "cell_type": "markdown",
   "id": "c22a14b6",
   "metadata": {},
   "source": [
    "### JSON\n",
    "- JavaScript Object Notation의 약자로, 웹 언어인 javascript의 데이터 객체 표현 방식\n",
    "- 웹 브라우저와 다른 애플리케이션 사이에서 HTTP 요청으로 데이터를 보낼 때 널리 사용하는 표준 파일 포맷 중 하나로, XML과 더불어 웹 API나 config 데이터를 전송할 때 많이 쓰입니다."
   ]
  },
  {
   "cell_type": "markdown",
   "id": "ab693e92",
   "metadata": {},
   "source": [
    "### JSON 파싱"
   ]
  },
  {
   "cell_type": "markdown",
   "id": "057277f8",
   "metadata": {},
   "source": [
    "#### (1) JSON 파일 저장"
   ]
  },
  {
   "cell_type": "code",
   "execution_count": 9,
   "id": "7b48669f",
   "metadata": {},
   "outputs": [
    {
     "name": "stdout",
     "output_type": "stream",
     "text": [
      "슝~\n"
     ]
    }
   ],
   "source": [
    "import json\n",
    "\n",
    "person = {\n",
    "      \"first name\" : \"Yuna\",\n",
    "      \"last name\" : \"Jung\",\n",
    "      \"age\" : 33,\n",
    "      \"nationality\" : \"South Korea\",\n",
    "      \"education\" : [{\"degree\":\"B.S degree\", \"university\":\"Daehan university\", \"major\": \"mechanical engineering\", \"graduated year\":2010}]\n",
    "       } \n",
    "\n",
    "with open(\"person.json\", \"w\") as f:\n",
    "    json.dump(person , f)\n",
    "\n",
    "print(\"슝~\")"
   ]
  },
  {
   "cell_type": "markdown",
   "id": "8413fa18",
   "metadata": {},
   "source": [
    "#### (2) JSON 파일 읽기"
   ]
  },
  {
   "cell_type": "code",
   "execution_count": 10,
   "id": "44ce277c",
   "metadata": {},
   "outputs": [
    {
     "name": "stdout",
     "output_type": "stream",
     "text": [
      "Yuna\n",
      "[{'degree': 'B.S degree', 'university': 'Daehan university', 'major': 'mechanical engineering', 'graduated year': 2010}]\n"
     ]
    }
   ],
   "source": [
    "import json\n",
    "\n",
    "with open(\"person.json\", \"r\", encoding=\"utf-8\") as f:\n",
    "    contents = json.load(f)\n",
    "    print(contents[\"first name\"])\n",
    "    print(contents[\"education\"])"
   ]
  }
 ],
 "metadata": {
  "kernelspec": {
   "display_name": "Python 3 (ipykernel)",
   "language": "python",
   "name": "python3"
  },
  "language_info": {
   "codemirror_mode": {
    "name": "ipython",
    "version": 3
   },
   "file_extension": ".py",
   "mimetype": "text/x-python",
   "name": "python",
   "nbconvert_exporter": "python",
   "pygments_lexer": "ipython3",
   "version": "3.9.7"
  }
 },
 "nbformat": 4,
 "nbformat_minor": 5
}
