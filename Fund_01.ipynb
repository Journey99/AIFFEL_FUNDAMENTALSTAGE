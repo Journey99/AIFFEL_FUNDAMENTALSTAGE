{
 "cells": [
  {
   "cell_type": "markdown",
   "id": "549c03fa",
   "metadata": {},
   "source": [
    "## 제어문\n",
    "\n",
    "### (1)"
   ]
  },
  {
   "cell_type": "code",
   "execution_count": 1,
   "id": "267a1e0f",
   "metadata": {},
   "outputs": [
    {
     "name": "stdout",
     "output_type": "stream",
     "text": [
      "1\n"
     ]
    }
   ],
   "source": [
    "def print_if_positive(number):\n",
    "    if number >= 0:\n",
    "        print(number)\n",
    "\n",
    "print_if_positive(1)\n",
    "print_if_positive(-1)"
   ]
  },
  {
   "cell_type": "code",
   "execution_count": 2,
   "id": "10abb717",
   "metadata": {},
   "outputs": [
    {
     "name": "stdout",
     "output_type": "stream",
     "text": [
      "+\n",
      "-\n"
     ]
    }
   ],
   "source": [
    "def print_if_positive(number):\n",
    "    if number >= 0:\n",
    "        print(\"+\")\n",
    "    else:\n",
    "        print(\"-\")\n",
    "\n",
    "print_if_positive(1)\n",
    "print_if_positive(-1)"
   ]
  },
  {
   "cell_type": "code",
   "execution_count": 3,
   "id": "5a869e6f",
   "metadata": {},
   "outputs": [
    {
     "name": "stdout",
     "output_type": "stream",
     "text": [
      "+\n",
      "-\n",
      "0\n"
     ]
    }
   ],
   "source": [
    "def print_if_positive(number):\n",
    "    if number > 0:\n",
    "        print(\"+\")\n",
    "    elif number == 0:\n",
    "        print(\"0\")\n",
    "    else:\n",
    "        print(\"-\")\n",
    "\n",
    "print_if_positive(1)\n",
    "print_if_positive(-1)\n",
    "print_if_positive(0)"
   ]
  },
  {
   "cell_type": "code",
   "execution_count": 4,
   "id": "25c736cd",
   "metadata": {},
   "outputs": [
    {
     "name": "stdout",
     "output_type": "stream",
     "text": [
      "4\n"
     ]
    }
   ],
   "source": [
    "def print_if_positive_and_even(number):\n",
    "    if(number > 0 and number % 2 == 0):\n",
    "        print(number)\n",
    "    \n",
    "print_if_positive_and_even(3)\n",
    "print_if_positive_and_even(4)\n",
    "    "
   ]
  },
  {
   "cell_type": "markdown",
   "id": "a5ba005b",
   "metadata": {},
   "source": [
    "### (2)"
   ]
  },
  {
   "cell_type": "code",
   "execution_count": 5,
   "id": "aa1d1934",
   "metadata": {},
   "outputs": [
    {
     "name": "stdout",
     "output_type": "stream",
     "text": [
      "1\n",
      "1\n",
      "2\n",
      "3\n",
      "5\n",
      "8\n",
      "13\n",
      "21\n",
      "34\n",
      "55\n",
      "89\n",
      "144\n",
      "233\n",
      "377\n",
      "610\n",
      "987\n",
      "1597\n",
      "2584\n",
      "4181\n",
      "6765\n",
      "끝\n"
     ]
    }
   ],
   "source": [
    "# 피보나치\n",
    "\n",
    "def fibonacci(n):\n",
    "    if n <= 2:\n",
    "        return 1\n",
    "    else:\n",
    "        return fibonacci(n-2) + fibonacci(n-1)\n",
    "\n",
    "n = 1\n",
    "while n <= 20:\n",
    "    print(fibonacci(n))\n",
    "    n = n + 1\n",
    "\n",
    "print(\"끝\")"
   ]
  },
  {
   "cell_type": "markdown",
   "id": "915ae546",
   "metadata": {},
   "source": [
    "### (3)"
   ]
  },
  {
   "cell_type": "code",
   "execution_count": 6,
   "id": "cce67097",
   "metadata": {},
   "outputs": [
    {
     "name": "stdout",
     "output_type": "stream",
     "text": [
      "h\n",
      "e\n",
      "l\n",
      "l\n",
      "o\n"
     ]
    }
   ],
   "source": [
    "for cha in \"hello\":\n",
    "    print(cha)"
   ]
  },
  {
   "cell_type": "code",
   "execution_count": 7,
   "id": "57b4bb33",
   "metadata": {},
   "outputs": [
    {
     "name": "stdout",
     "output_type": "stream",
     "text": [
      "1\n",
      "2\n",
      "3\n",
      "4\n"
     ]
    }
   ],
   "source": [
    "ls = [1,2,3,4]\n",
    "\n",
    "for i in ls:\n",
    "    print(i)"
   ]
  },
  {
   "cell_type": "markdown",
   "id": "9acd448d",
   "metadata": {},
   "source": [
    "## 자료형"
   ]
  },
  {
   "cell_type": "markdown",
   "id": "01cde1e3",
   "metadata": {},
   "source": [
    "### (5)"
   ]
  },
  {
   "cell_type": "code",
   "execution_count": 9,
   "id": "ae331df0",
   "metadata": {},
   "outputs": [
    {
     "name": "stdout",
     "output_type": "stream",
     "text": [
      "he said, 'spam',\n"
     ]
    }
   ],
   "source": [
    "print(\"he said, 'spam',\")"
   ]
  },
  {
   "cell_type": "code",
   "execution_count": 10,
   "id": "d70112c7",
   "metadata": {},
   "outputs": [
    {
     "name": "stdout",
     "output_type": "stream",
     "text": [
      "quote(') and double quote(\")\n"
     ]
    }
   ],
   "source": [
    "print('quote(\\') and double quote(\\\")')"
   ]
  },
  {
   "cell_type": "markdown",
   "id": "b33c51bf",
   "metadata": {},
   "source": [
    "#### - \\ 이용해서 문자 그대로 해석하라고 표시"
   ]
  },
  {
   "cell_type": "code",
   "execution_count": 11,
   "id": "f93ffbd3",
   "metadata": {},
   "outputs": [
    {
     "name": "stdout",
     "output_type": "stream",
     "text": [
      "hello june\n"
     ]
    }
   ],
   "source": [
    "print('hello' ' june')"
   ]
  },
  {
   "cell_type": "code",
   "execution_count": 12,
   "id": "8429f4d9",
   "metadata": {},
   "outputs": [
    {
     "name": "stdout",
     "output_type": "stream",
     "text": [
      "lien 1\n",
      "\n",
      "lien 2\n"
     ]
    }
   ],
   "source": [
    "print(\"\"\"lien 1\n",
    "\n",
    "lien 2\"\"\")"
   ]
  },
  {
   "cell_type": "code",
   "execution_count": 13,
   "id": "04cfb70a",
   "metadata": {},
   "outputs": [
    {
     "name": "stdout",
     "output_type": "stream",
     "text": [
      "h\n",
      "e\n",
      "l\n",
      "l\n",
      "o\n"
     ]
    }
   ],
   "source": [
    "for cha in \"hello\":\n",
    "    print(cha)"
   ]
  },
  {
   "cell_type": "markdown",
   "id": "7b97a33e",
   "metadata": {},
   "source": [
    "#### \n",
    "- 유한한 길이를 갖는 자료형들을 컨테이너 자료형이라고 한다\n",
    "- 컨테이너 자료형들은 뒤에 [숫자]를 붙여서 해당 순서 인덱스에 해당하는 값만 뽑아올 수 있다"
   ]
  },
  {
   "cell_type": "code",
   "execution_count": 14,
   "id": "9d7f8d64",
   "metadata": {},
   "outputs": [
    {
     "name": "stdout",
     "output_type": "stream",
     "text": [
      "e\n"
     ]
    }
   ],
   "source": [
    "mes = \"hello\"\n",
    "print(mes[1])"
   ]
  },
  {
   "cell_type": "code",
   "execution_count": 15,
   "id": "198c1343",
   "metadata": {},
   "outputs": [
    {
     "name": "stdout",
     "output_type": "stream",
     "text": [
      "o\n"
     ]
    }
   ],
   "source": [
    "print(mes[-1])"
   ]
  },
  {
   "cell_type": "markdown",
   "id": "0fcf1ed4",
   "metadata": {},
   "source": [
    "#### 슬라이싱"
   ]
  },
  {
   "cell_type": "code",
   "execution_count": 16,
   "id": "58ceb1c6",
   "metadata": {},
   "outputs": [
    {
     "name": "stdout",
     "output_type": "stream",
     "text": [
      "hell\n"
     ]
    }
   ],
   "source": [
    "print(mes[0:4])"
   ]
  },
  {
   "cell_type": "code",
   "execution_count": 17,
   "id": "60e9ce06",
   "metadata": {},
   "outputs": [
    {
     "name": "stdout",
     "output_type": "stream",
     "text": [
      "llo\n"
     ]
    }
   ],
   "source": [
    "print(mes[2:])"
   ]
  },
  {
   "cell_type": "code",
   "execution_count": 19,
   "id": "4eea7142",
   "metadata": {},
   "outputs": [
    {
     "name": "stdout",
     "output_type": "stream",
     "text": [
      "hello world\n",
      "hello worl\n"
     ]
    }
   ],
   "source": [
    "sen = \"hello world\"\n",
    "print(sen[::1])\n",
    "print(sen[:-1:1])"
   ]
  },
  {
   "cell_type": "code",
   "execution_count": 20,
   "id": "f8f5b3d8",
   "metadata": {},
   "outputs": [
    {
     "name": "stdout",
     "output_type": "stream",
     "text": [
      "hlowrd\n"
     ]
    }
   ],
   "source": [
    "print(sen[::2])"
   ]
  },
  {
   "cell_type": "code",
   "execution_count": 22,
   "id": "90e02550",
   "metadata": {},
   "outputs": [
    {
     "name": "stdout",
     "output_type": "stream",
     "text": [
      "dlrow olleh\n"
     ]
    }
   ],
   "source": [
    "print(sen[::-1])"
   ]
  },
  {
   "cell_type": "markdown",
   "id": "2a06c9b4",
   "metadata": {},
   "source": [
    "### (6)"
   ]
  },
  {
   "cell_type": "code",
   "execution_count": 23,
   "id": "453785ac",
   "metadata": {},
   "outputs": [],
   "source": [
    "# 튜플"
   ]
  },
  {
   "cell_type": "code",
   "execution_count": 24,
   "id": "8e70f59d",
   "metadata": {},
   "outputs": [
    {
     "name": "stdout",
     "output_type": "stream",
     "text": [
      "1\n",
      "2\n",
      "3\n"
     ]
    }
   ],
   "source": [
    "num = (1, 2, 3)\n",
    "for i in num:\n",
    "    print(i)"
   ]
  },
  {
   "cell_type": "code",
   "execution_count": 25,
   "id": "a12c54ea",
   "metadata": {},
   "outputs": [
    {
     "name": "stdout",
     "output_type": "stream",
     "text": [
      "hello\n"
     ]
    }
   ],
   "source": [
    "tup = ('hello', 0, True)\n",
    "print(tup[0])"
   ]
  },
  {
   "cell_type": "code",
   "execution_count": 26,
   "id": "5fef6f1e",
   "metadata": {},
   "outputs": [],
   "source": [
    "# 튜플은 immutable"
   ]
  },
  {
   "cell_type": "code",
   "execution_count": 27,
   "id": "9f8ea9db",
   "metadata": {},
   "outputs": [
    {
     "name": "stdout",
     "output_type": "stream",
     "text": [
      "3\n"
     ]
    }
   ],
   "source": [
    "# 튜플 안에 튜플\n",
    "nested_tup = ((1,2), (3,4))\n",
    "print(nested_tup[1][0])"
   ]
  },
  {
   "cell_type": "code",
   "execution_count": 28,
   "id": "60d9849f",
   "metadata": {},
   "outputs": [
    {
     "name": "stdout",
     "output_type": "stream",
     "text": [
      "(1, 2, 3, 4)\n"
     ]
    }
   ],
   "source": [
    "tup_a = (1,2)\n",
    "tup_b = (3,4)\n",
    "print(tup_a + tup_b)"
   ]
  },
  {
   "cell_type": "code",
   "execution_count": 29,
   "id": "4991cca5",
   "metadata": {},
   "outputs": [
    {
     "name": "stdout",
     "output_type": "stream",
     "text": [
      "True\n"
     ]
    }
   ],
   "source": [
    "tup_abc = ('a', 'b', 'c')\n",
    "print('a' in tup_abc)"
   ]
  },
  {
   "cell_type": "code",
   "execution_count": 30,
   "id": "5134982d",
   "metadata": {},
   "outputs": [],
   "source": [
    "# 리스트"
   ]
  },
  {
   "cell_type": "code",
   "execution_count": 32,
   "id": "054807f8",
   "metadata": {},
   "outputs": [
    {
     "name": "stdout",
     "output_type": "stream",
     "text": [
      "[1, 2] [2, 3]\n"
     ]
    }
   ],
   "source": [
    "list = [1,2]\n",
    "list_b = [2,3]\n",
    "print(list, list_b)"
   ]
  },
  {
   "cell_type": "code",
   "execution_count": 34,
   "id": "0c58071e",
   "metadata": {},
   "outputs": [
    {
     "name": "stdout",
     "output_type": "stream",
     "text": [
      "[1, 3]\n"
     ]
    }
   ],
   "source": [
    "list[1] = 3\n",
    "print(list)"
   ]
  },
  {
   "cell_type": "code",
   "execution_count": 35,
   "id": "5ffe4227",
   "metadata": {},
   "outputs": [],
   "source": [
    "# append"
   ]
  },
  {
   "cell_type": "code",
   "execution_count": 36,
   "id": "aedc2d6c",
   "metadata": {},
   "outputs": [
    {
     "data": {
      "text/plain": [
       "[1, 3, 3]"
      ]
     },
     "execution_count": 36,
     "metadata": {},
     "output_type": "execute_result"
    }
   ],
   "source": [
    "list.append(3)\n",
    "list"
   ]
  },
  {
   "cell_type": "code",
   "execution_count": 37,
   "id": "bfe0f288",
   "metadata": {},
   "outputs": [],
   "source": [
    "# remove"
   ]
  },
  {
   "cell_type": "code",
   "execution_count": 40,
   "id": "e19d7972",
   "metadata": {},
   "outputs": [
    {
     "data": {
      "text/plain": [
       "[1, 3]"
      ]
     },
     "execution_count": 40,
     "metadata": {},
     "output_type": "execute_result"
    }
   ],
   "source": [
    "list.remove(3)\n",
    "list"
   ]
  },
  {
   "cell_type": "code",
   "execution_count": 41,
   "id": "c4e767ea",
   "metadata": {},
   "outputs": [
    {
     "data": {
      "text/plain": [
       "[1]"
      ]
     },
     "execution_count": 41,
     "metadata": {},
     "output_type": "execute_result"
    }
   ],
   "source": [
    "list.pop(1)\n",
    "list"
   ]
  },
  {
   "cell_type": "markdown",
   "id": "235682cf",
   "metadata": {},
   "source": [
    "#### remove는 특정 값을 빼거나, pop을 통해 특정 순서의 값을 뺀다"
   ]
  },
  {
   "cell_type": "markdown",
   "id": "9fc76d84",
   "metadata": {},
   "source": [
    "### (7)"
   ]
  },
  {
   "cell_type": "code",
   "execution_count": 42,
   "id": "d724efcc",
   "metadata": {},
   "outputs": [],
   "source": [
    "#  딕셔너리"
   ]
  },
  {
   "cell_type": "code",
   "execution_count": 52,
   "id": "463ba4a7",
   "metadata": {},
   "outputs": [
    {
     "name": "stdout",
     "output_type": "stream",
     "text": [
      "단테\n"
     ]
    }
   ],
   "source": [
    "conductor = {'first_name' : '단테', 'last_name' : '주'}\n",
    "print(conductor['first_name'])"
   ]
  },
  {
   "cell_type": "code",
   "execution_count": 53,
   "id": "5114d460",
   "metadata": {},
   "outputs": [],
   "source": [
    "#추가"
   ]
  },
  {
   "cell_type": "code",
   "execution_count": 54,
   "id": "cf3f5152",
   "metadata": {},
   "outputs": [
    {
     "name": "stdout",
     "output_type": "stream",
     "text": [
      "{'first_name': '단테', 'last_name': '주', 'gender': 'male'}\n"
     ]
    }
   ],
   "source": [
    "conductor['gender'] = 'male'\n",
    "print(conductor)"
   ]
  },
  {
   "cell_type": "code",
   "execution_count": 55,
   "id": "dd3e6e59",
   "metadata": {},
   "outputs": [],
   "source": [
    "# 제거 : pop()"
   ]
  },
  {
   "cell_type": "code",
   "execution_count": 56,
   "id": "54f0146c",
   "metadata": {},
   "outputs": [
    {
     "data": {
      "text/plain": [
       "{'first_name': '단테', 'gender': 'male'}"
      ]
     },
     "execution_count": 56,
     "metadata": {},
     "output_type": "execute_result"
    }
   ],
   "source": [
    "conductor.pop('last_name')\n",
    "conductor"
   ]
  },
  {
   "cell_type": "markdown",
   "id": "8dd7ea5d",
   "metadata": {},
   "source": [
    "#### 딕셔너리에 for루프문을 사용하면 기본적으로 키값만 돌려준다"
   ]
  },
  {
   "cell_type": "code",
   "execution_count": 57,
   "id": "fd8838fa",
   "metadata": {},
   "outputs": [
    {
     "name": "stdout",
     "output_type": "stream",
     "text": [
      "first_name\n",
      "last_name\n"
     ]
    }
   ],
   "source": [
    "conductor = {'first_name': '단테', 'last_name': '안'}\n",
    "for key in conductor:\n",
    "    print(key)"
   ]
  },
  {
   "cell_type": "markdown",
   "id": "96a2c735",
   "metadata": {},
   "source": [
    "#### .items()를 사용해서 키와 값을 둘다 뽑을 수 있다"
   ]
  },
  {
   "cell_type": "code",
   "execution_count": 58,
   "id": "72983eed",
   "metadata": {},
   "outputs": [
    {
     "name": "stdout",
     "output_type": "stream",
     "text": [
      "first_name : 단테\n",
      "last_name : 안\n"
     ]
    }
   ],
   "source": [
    "conductor = {'first_name': '단테', 'last_name': '안'}\n",
    "for key, value in conductor.items():\n",
    "    print(key + ' : ' + value)"
   ]
  },
  {
   "cell_type": "code",
   "execution_count": 61,
   "id": "6abd224d",
   "metadata": {},
   "outputs": [],
   "source": [
    "def FibonaChicken(n):\n",
    "    if n <= 2:\n",
    "        number = 1\n",
    "    else:\n",
    "        number = FibonaChicken(n-1) + FibonaChicken(n-2)\n",
    "    return number"
   ]
  },
  {
   "cell_type": "code",
   "execution_count": 62,
   "id": "5ead9eff",
   "metadata": {},
   "outputs": [
    {
     "name": "stdout",
     "output_type": "stream",
     "text": [
      "3\n"
     ]
    }
   ],
   "source": [
    "print(FibonaChicken(4))"
   ]
  },
  {
   "cell_type": "code",
   "execution_count": 63,
   "id": "283aab77",
   "metadata": {},
   "outputs": [],
   "source": [
    "# 효율적인 피보나치 수열"
   ]
  },
  {
   "cell_type": "code",
   "execution_count": 64,
   "id": "7dc6c110",
   "metadata": {},
   "outputs": [],
   "source": [
    "memory = {1: 1, 2: 1}"
   ]
  },
  {
   "cell_type": "code",
   "execution_count": 65,
   "id": "05d6a8d5",
   "metadata": {},
   "outputs": [],
   "source": [
    "def fib(n):\n",
    "    if n in memory:\n",
    "        number = memory[n]\n",
    "    else:\n",
    "        number = fib(n-1) + fib(n-2)\n",
    "        memory[n] = number\n",
    "    return number\n"
   ]
  },
  {
   "cell_type": "code",
   "execution_count": 66,
   "id": "bd6129ff",
   "metadata": {},
   "outputs": [
    {
     "data": {
      "text/plain": [
       "354224848179261915075"
      ]
     },
     "execution_count": 66,
     "metadata": {},
     "output_type": "execute_result"
    }
   ],
   "source": [
    "fib(100)"
   ]
  },
  {
   "cell_type": "code",
   "execution_count": 69,
   "id": "a958ec65",
   "metadata": {},
   "outputs": [
    {
     "name": "stdout",
     "output_type": "stream",
     "text": [
      "100\n",
      "cash30000\n"
     ]
    },
    {
     "data": {
      "text/plain": [
       "30000"
      ]
     },
     "execution_count": 69,
     "metadata": {},
     "output_type": "execute_result"
    }
   ],
   "source": [
    "price = int(input())\n",
    "cupon = input()\n",
    "\n",
    "disc = int(cupon[4:])\n",
    "disc"
   ]
  },
  {
   "cell_type": "code",
   "execution_count": 71,
   "id": "28a34d05",
   "metadata": {},
   "outputs": [
    {
     "name": "stdout",
     "output_type": "stream",
     "text": [
      "270000\n",
      "cash3000\n",
      "267000\n"
     ]
    }
   ],
   "source": [
    "price = int(input())\n",
    "cupon = input()\n",
    "\n",
    "disc = int(cupon[4:])\n",
    "\n",
    "if price >= disc:\n",
    "    print(price-disc)\n",
    "\n",
    "\n"
   ]
  },
  {
   "cell_type": "code",
   "execution_count": 72,
   "id": "d8a87d85",
   "metadata": {},
   "outputs": [
    {
     "name": "stdout",
     "output_type": "stream",
     "text": [
      "True\n"
     ]
    }
   ],
   "source": [
    "if not '':\n",
    "    print(True)\n",
    "else:\n",
    "    print(False)"
   ]
  },
  {
   "cell_type": "code",
   "execution_count": null,
   "id": "6d48173c",
   "metadata": {},
   "outputs": [],
   "source": []
  }
 ],
 "metadata": {
  "kernelspec": {
   "display_name": "Python 3 (ipykernel)",
   "language": "python",
   "name": "python3"
  },
  "language_info": {
   "codemirror_mode": {
    "name": "ipython",
    "version": 3
   },
   "file_extension": ".py",
   "mimetype": "text/x-python",
   "name": "python",
   "nbconvert_exporter": "python",
   "pygments_lexer": "ipython3",
   "version": "3.9.7"
  }
 },
 "nbformat": 4,
 "nbformat_minor": 5
}
