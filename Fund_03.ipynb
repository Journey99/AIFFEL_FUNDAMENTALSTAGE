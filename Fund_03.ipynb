{
 "cells": [
  {
   "cell_type": "markdown",
   "id": "636ead30",
   "metadata": {},
   "source": [
    "# 8. 파이썬 잘하는 척 해보자"
   ]
  },
  {
   "cell_type": "markdown",
   "id": "038defb0",
   "metadata": {},
   "source": [
    "## 8-3 for문 잘 사용하기"
   ]
  },
  {
   "cell_type": "markdown",
   "id": "c94eb129",
   "metadata": {},
   "source": [
    "### enumerate()와 이중 for문\n",
    "- enumerate() : 순서와 리스트의 값을 함께 반환"
   ]
  },
  {
   "cell_type": "code",
   "execution_count": 1,
   "id": "2500acfc",
   "metadata": {},
   "outputs": [
    {
     "name": "stdout",
     "output_type": "stream",
     "text": [
      "순번 :  0  , 값 :  a\n",
      "순번 :  1  , 값 :  b\n",
      "순번 :  2  , 값 :  c\n",
      "순번 :  3  , 값 :  d\n"
     ]
    }
   ],
   "source": [
    "my_list = ['a','b','c','d']\n",
    "\n",
    "for i, value in enumerate(my_list):\n",
    "    print(\"순번 : \", i, \" , 값 : \", value)"
   ]
  },
  {
   "cell_type": "code",
   "execution_count": 2,
   "id": "6921c15f",
   "metadata": {},
   "outputs": [
    {
     "name": "stdout",
     "output_type": "stream",
     "text": [
      "순번 :  1  , 값 :  a\n",
      "순번 :  2  , 값 :  b\n",
      "순번 :  3  , 값 :  c\n",
      "순번 :  4  , 값 :  d\n"
     ]
    }
   ],
   "source": [
    "my_list = ['a','b','c','d']\n",
    "\n",
    "for i, value in enumerate(my_list, start=1):\n",
    "    print(\"순번 : \", i, \" , 값 : \", value)"
   ]
  },
  {
   "cell_type": "code",
   "execution_count": 3,
   "id": "3094b8e0",
   "metadata": {},
   "outputs": [
    {
     "name": "stdout",
     "output_type": "stream",
     "text": [
      "[(0, 'a'), (0, 'b'), (0, 'c'), (0, 'd'), (1, 'a'), (1, 'b'), (1, 'c'), (1, 'd')]\n"
     ]
    }
   ],
   "source": [
    "my_list = ['a','b','c','d']\n",
    "result_list = []\n",
    "\n",
    "for i in range(2):\n",
    "    for j in my_list:\n",
    "        result_list.append((i, j))\n",
    "        \n",
    "print(result_list)"
   ]
  },
  {
   "cell_type": "markdown",
   "id": "d432325d",
   "metadata": {},
   "source": [
    "### 리스트 컴프리헨션\n",
    "- 리스트 등 순회형 컨테이너 객체로부터 이를 가공한 새로운 리스트를 생성하는 아주 간결하고 편리한 방법\n",
    "-  비단 리스트뿐 아니라 셋(Set), 딕셔너리(Dict)에 대해서도 적용 가능"
   ]
  },
  {
   "cell_type": "code",
   "execution_count": 4,
   "id": "0fbe6bdf",
   "metadata": {},
   "outputs": [
    {
     "name": "stdout",
     "output_type": "stream",
     "text": [
      "[(0, 'a'), (0, 'b'), (0, 'c'), (0, 'd'), (1, 'a'), (1, 'b'), (1, 'c'), (1, 'd')]\n"
     ]
    }
   ],
   "source": [
    "my_list = ['a','b','c','d']\n",
    "\n",
    "result_list = [(i, j) for i in range(2) for j in my_list]\n",
    "\n",
    "print(result_list)"
   ]
  },
  {
   "cell_type": "code",
   "execution_count": 6,
   "id": "91097fb2",
   "metadata": {},
   "outputs": [
    {
     "data": {
      "text/plain": [
       "[(0, 0), (1, 0), (2, 0), (0, 1), (1, 1), (2, 1)]"
      ]
     },
     "execution_count": 6,
     "metadata": {},
     "output_type": "execute_result"
    }
   ],
   "source": [
    "ls = [(i,j) for j in range(2) for i in range(3)]\n",
    "ls"
   ]
  },
  {
   "cell_type": "markdown",
   "id": "fa55570c",
   "metadata": {},
   "source": [
    "### 제너레이터(Generator)"
   ]
  },
  {
   "cell_type": "code",
   "execution_count": 7,
   "id": "806f0e38",
   "metadata": {},
   "outputs": [
    {
     "name": "stdout",
     "output_type": "stream",
     "text": [
      "0 a\n",
      ">>  1 data loaded..\n",
      "0 b\n",
      ">>  1 data loaded..\n",
      "0 c\n",
      ">>  1 data loaded..\n",
      "0 d\n",
      ">>  1 data loaded..\n",
      "1 a\n",
      ">>  1 data loaded..\n",
      "1 b\n",
      ">>  1 data loaded..\n",
      "1 c\n",
      ">>  1 data loaded..\n",
      "1 d\n",
      ">>  1 data loaded..\n"
     ]
    }
   ],
   "source": [
    "my_list = ['a','b','c','d']\n",
    "\n",
    "# 인자로 받은 리스트로부터 데이터를 하나씩 가져오는 제너레이터를 리턴하는 함수\n",
    "def get_dataset_generator(my_list):\n",
    "    result_list = []\n",
    "    for i in range(2):\n",
    "        for j in my_list:\n",
    "            yield (i, j)   # 이 줄이 이전의 append 코드를 대체했습니다\n",
    "            print('>>  1 data loaded..')\n",
    "\n",
    "dataset_generator = get_dataset_generator(my_list)\n",
    "for X, y in dataset_generator:\n",
    "    print(X, y)"
   ]
  },
  {
   "cell_type": "markdown",
   "id": "b33c7c70",
   "metadata": {},
   "source": [
    "- yield는 코드 실행의 순서를 밖으로 \"양보\"한다. 즉, dataset_generator = get_dataset_generator(my_list) 을 실행해도 \"generator object\" 만 반환할 뿐, 원하는 값을 바로 반환하고 있지 않는다. \n",
    "- 실질적으로 데이터를 반환하는 건 for 문에서 값을 하나씩 불러올 때이다."
   ]
  },
  {
   "cell_type": "markdown",
   "id": "e1aaebe3",
   "metadata": {},
   "source": [
    "## 8-4. Try-Except 예외 처리하기\n",
    "- 예외 처리를 위한 방법\n",
    "- 여기서 예외(exception)란 코드를 실행하는 중에 발생한 에러"
   ]
  },
  {
   "cell_type": "code",
   "execution_count": 8,
   "id": "8f71bd9e",
   "metadata": {},
   "outputs": [
    {
     "name": "stdout",
     "output_type": "stream",
     "text": [
      "에러가 발생했습니다.\n"
     ]
    }
   ],
   "source": [
    "a = 10\n",
    "b = 0\n",
    "try:\n",
    "    #실행 코드\n",
    "    print(a/b)\n",
    "\t\t\n",
    "except:\n",
    "    #에러가 발생했을 때 처리하는 코드\n",
    "    print('에러가 발생했습니다.')"
   ]
  },
  {
   "cell_type": "code",
   "execution_count": 9,
   "id": "1a073c47",
   "metadata": {},
   "outputs": [
    {
     "name": "stdout",
     "output_type": "stream",
     "text": [
      "10.0\n"
     ]
    }
   ],
   "source": [
    "a = 10\n",
    "b = 1\n",
    "\n",
    "try:\n",
    "    #실행 코드\n",
    "    print(a/b)\n",
    "\t\t\n",
    "except:\n",
    "    #에러가 발생했을 때 처리하는 코드\n",
    "    print('에러가 발생했습니다.')"
   ]
  },
  {
   "cell_type": "code",
   "execution_count": 10,
   "id": "b99154f6",
   "metadata": {},
   "outputs": [
    {
     "name": "stdout",
     "output_type": "stream",
     "text": [
      "에러가 발생했습니다.\n",
      "값 수정 :  10.0\n"
     ]
    }
   ],
   "source": [
    "a = 10\n",
    "b = 0 \n",
    "\n",
    "try:\n",
    "    #실행 코드\n",
    "    print(a/b)\n",
    "\t\t\n",
    "except:\n",
    "    print('에러가 발생했습니다.')\n",
    "    #에러가 발생했을 때 처리하는 코드\n",
    "    b = b+1\n",
    "    print(\"값 수정 : \", a/b)"
   ]
  },
  {
   "cell_type": "markdown",
   "id": "b78c1c69",
   "metadata": {},
   "source": [
    "## 8-5 Multiprocessing"
   ]
  },
  {
   "cell_type": "markdown",
   "id": "949efddd",
   "metadata": {},
   "source": [
    "### 실행 시간 측정"
   ]
  },
  {
   "cell_type": "code",
   "execution_count": 11,
   "id": "4afe21ba",
   "metadata": {},
   "outputs": [
    {
     "name": "stdout",
     "output_type": "stream",
     "text": [
      "time : 7.677078247070312e-05\n"
     ]
    }
   ],
   "source": [
    "import time\n",
    "start = time.time()  # 시작 시간 저장\n",
    "\n",
    "a = 1\n",
    "for i in range(100):\n",
    "\ta += 1\n",
    " \n",
    "# 작업 코드\n",
    "print(\"time :\", time.time() - start) # 결과는 '초' 단위 입니다."
   ]
  },
  {
   "cell_type": "markdown",
   "id": "5a07d5df",
   "metadata": {},
   "source": [
    "### Multiprocessing\n",
    "- 컴퓨터가 작업을 처리한느 속도를 높여주는 방법 중 하나\n",
    "- parallel processing(병렬 처리) : 동시에 처리\n",
    "-  serial processing(순차 처리) : 하나씩 차례대로 처리"
   ]
  },
  {
   "cell_type": "code",
   "execution_count": 12,
   "id": "be198d15",
   "metadata": {},
   "outputs": [
    {
     "name": "stdout",
     "output_type": "stream",
     "text": [
      "finish:p1\n",
      "\n",
      "finish:p2\n",
      "\n",
      "finish:p3\n",
      "\n",
      "finish:p4\n",
      "\n",
      "time : 9.21339726448059\n"
     ]
    }
   ],
   "source": [
    "# 순차처리\n",
    "import time\n",
    "\n",
    "num_list = ['p1','p2', 'p3', 'p4']\n",
    "start = time.time()\n",
    "\n",
    "def count(name):\n",
    "    for i in range(0, 100000000):\n",
    "        a = 1 + 2\n",
    "        \n",
    "    print(\"finish:\"+name+\"\\n\")\n",
    "\n",
    "for num in num_list:\n",
    "    count(num)\n",
    "\n",
    "print(\"time :\", time.time() - start)"
   ]
  },
  {
   "cell_type": "code",
   "execution_count": 13,
   "id": "ed12e627",
   "metadata": {},
   "outputs": [
    {
     "name": "stdout",
     "output_type": "stream",
     "text": [
      "finish:p1\n",
      "\n",
      "finish:p3\n",
      "\n",
      "finish:p4\n",
      "\n",
      "finish:p2\n",
      "\n",
      "time : 7.105965852737427\n"
     ]
    }
   ],
   "source": [
    "# 병렬처리\n",
    "import multiprocessing\n",
    "import time\n",
    "\n",
    "num_list = ['p1','p2', 'p3', 'p4']\n",
    "start = time.time()\n",
    "\n",
    "def count(name):\n",
    "    for i in range(0, 100000000):\n",
    "        a = 1+2\n",
    "    print(\"finish:\"+name+\"\\n\")\n",
    "    \n",
    "\n",
    "if __name__ == '__main__':\n",
    "    pool = multiprocessing.Pool(processes = 4)\n",
    "    pool.map(count, num_list)\n",
    "    pool.close()\n",
    "    pool.join()\n",
    "\n",
    "print(\"time :\", time.time() - start)"
   ]
  },
  {
   "cell_type": "code",
   "execution_count": 15,
   "id": "1fd0edbf",
   "metadata": {},
   "outputs": [],
   "source": [
    "# 병렬처리는 끝나는 순서가 다를 수 있다"
   ]
  },
  {
   "cell_type": "code",
   "execution_count": 16,
   "id": "ba9ea3cc",
   "metadata": {},
   "outputs": [],
   "source": [
    "import multiprocessing\n",
    "\n",
    "def count(name):\n",
    "    for i in range(0, 100000000):\n",
    "        a = 1 + 2\n",
    "    print(\"finish:\"+name+\"\\n\")"
   ]
  },
  {
   "cell_type": "code",
   "execution_count": 17,
   "id": "7da9985e",
   "metadata": {},
   "outputs": [
    {
     "name": "stdout",
     "output_type": "stream",
     "text": [
      "finish:p3\n",
      "\n",
      "finish:p4\n",
      "\n",
      "finish:p1\n",
      "\n",
      "finish:p2\n",
      "\n"
     ]
    }
   ],
   "source": [
    "num_list = ['p1','p2', 'p3', 'p4']\n",
    "\n",
    "if __name__ == '__main__':\n",
    "    pool = multiprocessing.Pool(processes = 4)  # 병렬 처리 시, 4개의 프로세스를 사용\n",
    "    pool.map(count, num_list)  # 병렬화를 시키는 함수, num_list의 원소들을 하나씩 count에\n",
    "    pool.close()    # 병렬화 끝날 때\n",
    "    pool.join()   # 프로세스가 종료될 때까지 대기하도록 지시하는 구문"
   ]
  },
  {
   "cell_type": "markdown",
   "id": "a7df4e2d",
   "metadata": {},
   "source": [
    "## 8-6 함수 사용하기"
   ]
  },
  {
   "cell_type": "code",
   "execution_count": 19,
   "id": "7bdd2547",
   "metadata": {},
   "outputs": [],
   "source": [
    "def function_f(input_x):\n",
    "    output_x = input_x*input_x\n",
    "    return output_x"
   ]
  },
  {
   "cell_type": "code",
   "execution_count": 20,
   "id": "d9dc9e14",
   "metadata": {},
   "outputs": [
    {
     "name": "stdout",
     "output_type": "stream",
     "text": [
      "최댓값은  40\n",
      "최댓값은  50\n"
     ]
    }
   ],
   "source": [
    "list_data = [10, 20, 30, 40]\n",
    "list_data2 = [20, 30, 40, 50]\n",
    "\n",
    "length = len(list_data)\n",
    "max_result = list_data[0]\n",
    "for i in range(length):\n",
    "    if max_result < list_data[i]:\n",
    "        max_result = list_data[i]\n",
    "        \n",
    "print(\"최댓값은 \", max_result)\n",
    "\n",
    "length = len(list_data2)\n",
    "max_result = list_data2[0]\n",
    "for i in range(length):\n",
    "    if max_result < list_data2[i]:\n",
    "        max_result = list_data2[i]\n",
    "        \n",
    "print(\"최댓값은 \", max_result)"
   ]
  },
  {
   "cell_type": "code",
   "execution_count": 21,
   "id": "860fc19d",
   "metadata": {},
   "outputs": [
    {
     "name": "stdout",
     "output_type": "stream",
     "text": [
      "최댓값은  40\n",
      "최댓값은  50\n"
     ]
    }
   ],
   "source": [
    "list_data = [10, 20, 30, 40]\n",
    "list_data2 = [20, 30, 40, 50]\n",
    "\n",
    "def max_function(x):\n",
    "    length = len(x)\n",
    "    max_result = x[0]\n",
    "    for i in range(length):\n",
    "        if max_result < x[i]:\n",
    "            max_result = x[i]\n",
    "    return max_result\n",
    "\n",
    "print(\"최댓값은 \", max_function(list_data))\n",
    "print(\"최댓값은 \", max_function(list_data2))"
   ]
  },
  {
   "cell_type": "code",
   "execution_count": 22,
   "id": "4740c0bc",
   "metadata": {},
   "outputs": [],
   "source": [
    "def min_functino(x):\n",
    "    length = len(x)\n",
    "    min_result = x[0]\n",
    "    for i in range(lenth):\n",
    "        if x[i] < min_result:\n",
    "            min_result = x[i]\n",
    "    return min_result"
   ]
  },
  {
   "cell_type": "markdown",
   "id": "1d160509",
   "metadata": {},
   "source": [
    "- 함수는 코드의 효율성을 높여준다\n",
    "- 코드의 재사용성을 높여준다\n",
    "- 코드의 가독성이 좋아진다"
   ]
  },
  {
   "cell_type": "markdown",
   "id": "49cb2ff9",
   "metadata": {},
   "source": [
    "## 8-7 함수 사용 팁"
   ]
  },
  {
   "cell_type": "markdown",
   "id": "fa615274",
   "metadata": {},
   "source": [
    "### pass\n",
    "- 함수를 만들기 전에 함수 이름과 입력 정도만 먼저 만들어 놓는 경우"
   ]
  },
  {
   "cell_type": "code",
   "execution_count": 23,
   "id": "5b591fcb",
   "metadata": {},
   "outputs": [],
   "source": [
    "def empty_function():\n",
    "    pass"
   ]
  },
  {
   "cell_type": "markdown",
   "id": "e06cdabe",
   "metadata": {},
   "source": [
    "### 함수에 함수 사용"
   ]
  },
  {
   "cell_type": "code",
   "execution_count": 24,
   "id": "1c5a3272",
   "metadata": {},
   "outputs": [
    {
     "name": "stdout",
     "output_type": "stream",
     "text": [
      "안녕!\n",
      "안녕!\n"
     ]
    }
   ],
   "source": [
    "def say_something(txt):\n",
    "    return txt\n",
    "\n",
    "def send(function, count):\n",
    "    for i in range(count):  \n",
    "        print(function)\n",
    "    \n",
    "send(say_something(\"안녕!\"), 2)"
   ]
  },
  {
   "cell_type": "markdown",
   "id": "d1a74040",
   "metadata": {},
   "source": [
    "### 함수 안의 함수 & 2개 이상의 return\n",
    "- return값을 여러 개 받고 싶을 때"
   ]
  },
  {
   "cell_type": "markdown",
   "id": "1dbf1329",
   "metadata": {},
   "source": [
    "1. 리스트로 반환하기"
   ]
  },
  {
   "cell_type": "code",
   "execution_count": 25,
   "id": "35e1ac27",
   "metadata": {},
   "outputs": [
    {
     "name": "stdout",
     "output_type": "stream",
     "text": [
      "최솟값, 최댓값은 :  [20, 40]\n",
      "최솟값은 :  20\n",
      "최댓값은 :  40\n"
     ]
    }
   ],
   "source": [
    "list_data = [30, 20, 30, 40]\n",
    "\n",
    "def minmax_function(x_list):\n",
    "        \n",
    "    def inner_min_function(x):\n",
    "        length = len(x)\n",
    "        min_result = x[0]\n",
    "        for i in range(length):\n",
    "            if min_result > x[i]:\n",
    "                min_result = x[i]\n",
    "        return min_result\n",
    "    \n",
    "    def inner_max_function(x):\n",
    "        length = len(x)\n",
    "        max_result = x[0]\n",
    "        for i in range(length):\n",
    "            if max_result < x[i]:\n",
    "                max_result = x[i]\n",
    "        return max_result\n",
    "        \n",
    "    x_min = inner_min_function(x_list)\n",
    "    x_max = inner_max_function(x_list)\n",
    "    \n",
    "    minmax_list = [x_min, x_max]\n",
    "\n",
    "    return minmax_list\n",
    "\n",
    "print(\"최솟값, 최댓값은 : \", minmax_function(list_data))\n",
    "print(\"최솟값은 : \", minmax_function(list_data)[0])\n",
    "print(\"최댓값은 : \", minmax_function(list_data)[1])"
   ]
  },
  {
   "cell_type": "code",
   "execution_count": null,
   "id": "b6f238cb",
   "metadata": {},
   "outputs": [],
   "source": [
    "print(\"최솟값, 최댓값은 : \", inner_min_function(list_data)) # 변경\n",
    "print(\"최솟값은 : \", minmax_function(list_data)[0])\n",
    "print(\"최댓값은 : \", minmax_function(list_data)[1])\n",
    "# 에러가 나는데 안에 있는 함수는 밖에 함수 안에서만 쓸수있다!"
   ]
  },
  {
   "cell_type": "markdown",
   "id": "6b57d890",
   "metadata": {},
   "source": [
    "2. 여러 변수로 반환하기 "
   ]
  },
  {
   "cell_type": "code",
   "execution_count": 26,
   "id": "bb3906e7",
   "metadata": {},
   "outputs": [
    {
     "name": "stdout",
     "output_type": "stream",
     "text": [
      "최솟값은 :  20\n",
      "최댓값은 :  40\n"
     ]
    }
   ],
   "source": [
    "list_data = [30, 20, 30, 40]\n",
    "\n",
    "def minmax_function(x_list):\n",
    "        \n",
    "    def inner_min_function(x):\n",
    "        length = len(x)\n",
    "        min_result = x[0]\n",
    "        for i in range(length):\n",
    "            if min_result > x[i]:\n",
    "                min_result = x[i]\n",
    "        return min_result\n",
    "    \n",
    "    def inner_max_function(x):\n",
    "        length = len(x)\n",
    "        max_result = x[0]\n",
    "        for i in range(length):\n",
    "            if max_result < x[i]:\n",
    "                max_result = x[i]\n",
    "        return max_result\n",
    "        \n",
    "    x_min = inner_min_function(x_list)\n",
    "    x_max = inner_max_function(x_list)\n",
    "    \n",
    "    return x_min, x_max\n",
    "\n",
    "min_value, max_value = minmax_function(list_data)\n",
    "\n",
    "print(\"최솟값은 : \", min_value)\n",
    "print(\"최댓값은 : \", max_value)"
   ]
  },
  {
   "cell_type": "code",
   "execution_count": 28,
   "id": "ac5a3199",
   "metadata": {},
   "outputs": [
    {
     "data": {
      "text/plain": [
       "(5, 50)"
      ]
     },
     "execution_count": 28,
     "metadata": {},
     "output_type": "execute_result"
    }
   ],
   "source": [
    "ls = [10, 20, 44, 50, 5, 40]\n",
    "\n",
    "def fuc(x):\n",
    "    x.sort()\n",
    "    x_min = x[0]\n",
    "    x_max = x[-1]\n",
    "    \n",
    "    return x_min, x_max\n",
    "\n",
    "min_v, max_v = fuc(ls)\n",
    "\n",
    "min_v, max_v"
   ]
  },
  {
   "cell_type": "markdown",
   "id": "b325dafe",
   "metadata": {},
   "source": [
    "## 8-8 람다 표현식\n",
    "- 람다는 런타임에 생성해서 사용할 수 있는 익명 함수\n",
    "- 함수 이름이 없는 함수"
   ]
  },
  {
   "cell_type": "code",
   "execution_count": 29,
   "id": "cded72b0",
   "metadata": {},
   "outputs": [],
   "source": [
    "def add(x,y):\n",
    "    return x + y"
   ]
  },
  {
   "cell_type": "code",
   "execution_count": 30,
   "id": "60e0a0f3",
   "metadata": {},
   "outputs": [],
   "source": [
    "def add(x, y): return x + y"
   ]
  },
  {
   "cell_type": "code",
   "execution_count": 31,
   "id": "c2ad3f24",
   "metadata": {},
   "outputs": [
    {
     "name": "stdout",
     "output_type": "stream",
     "text": [
      "30\n"
     ]
    }
   ],
   "source": [
    "print( (lambda x,y: x + y)(10, 20) )"
   ]
  },
  {
   "cell_type": "code",
   "execution_count": 32,
   "id": "a87e70af",
   "metadata": {},
   "outputs": [],
   "source": [
    "# x, y 는 입력값\n",
    "# x + y는 return 부분으로 ':' 이후에 반환값으로 나오게 된다"
   ]
  },
  {
   "cell_type": "code",
   "execution_count": 33,
   "id": "f77e4919",
   "metadata": {},
   "outputs": [
    {
     "data": {
      "text/plain": [
       "[2, 4, 6]"
      ]
     },
     "execution_count": 33,
     "metadata": {},
     "output_type": "execute_result"
    }
   ],
   "source": [
    "def list_mul(x):\n",
    "    return x * 2\n",
    "\n",
    "result = list(map(list_mul, [1,2,3]))\n",
    "result"
   ]
  },
  {
   "cell_type": "markdown",
   "id": "f00e7be4",
   "metadata": {},
   "source": [
    "- map(f, iterable) 는 입력으로 함수 f 와 반복 가능한 iterable 객체(리스트, 튜플 등)를 받는다. \n",
    "- iterable : member를 차례대로 하나씩 반환 가능한 object \n",
    "    - ex) list, str, tuple"
   ]
  },
  {
   "cell_type": "code",
   "execution_count": 34,
   "id": "3a340cb5",
   "metadata": {},
   "outputs": [
    {
     "data": {
      "text/plain": [
       "[2, 4, 6]"
      ]
     },
     "execution_count": 34,
     "metadata": {},
     "output_type": "execute_result"
    }
   ],
   "source": [
    "result = list(map(lambda i: i*2, [1,2,3]))\n",
    "result"
   ]
  },
  {
   "cell_type": "code",
   "execution_count": 38,
   "id": "f808bb8f",
   "metadata": {},
   "outputs": [
    {
     "data": {
      "text/plain": [
       "[4, 6]"
      ]
     },
     "execution_count": 38,
     "metadata": {},
     "output_type": "execute_result"
    }
   ],
   "source": [
    "test = list(map(lambda i, j : i + j, [1,2],[3,4]))\n",
    "test"
   ]
  },
  {
   "cell_type": "markdown",
   "id": "1774594d",
   "metadata": {},
   "source": [
    "## 8-9 클래스, 모듈, 패키지"
   ]
  },
  {
   "cell_type": "markdown",
   "id": "0c95c3ee",
   "metadata": {},
   "source": [
    "### 클래스\n",
    "- 비슷한 역할을 하는 함수들의 집합"
   ]
  },
  {
   "cell_type": "markdown",
   "id": "1c4498ba",
   "metadata": {},
   "source": [
    "### 모듈\n",
    "- 함수, 변수, 클래스를 모아 놓은 파일\n",
    "- 코드의 저장소"
   ]
  },
  {
   "cell_type": "code",
   "execution_count": 39,
   "id": "11c69b71",
   "metadata": {},
   "outputs": [],
   "source": [
    "# mycalculator.py\n",
    "\n",
    "test = \"you can use this module.\"\n",
    "\n",
    "def add(a, b):\n",
    "    return a + b\n",
    " \n",
    "def mul(a, b):\n",
    "    return a * b\n",
    "\n",
    "def sub(a, b):\n",
    "    return a - b\n",
    "\n",
    "def div(a, b):\n",
    "    return a / b\n",
    "\n",
    "\n",
    "class all_calc():\n",
    "\n",
    "    def __init__(self, a, b):\n",
    "        self.a = a\n",
    "        self.b = b\n",
    "\n",
    "    def add(self):\n",
    "        return self.a + self.b\n",
    " \n",
    "    def mul(self):\n",
    "        return self.a * self.b\n",
    "\n",
    "    def sub(self):\n",
    "        return self.a - self.b\n",
    "\n",
    "    def div(self):\n",
    "        return self.a / self.b"
   ]
  },
  {
   "cell_type": "code",
   "execution_count": 40,
   "id": "cb14a60e",
   "metadata": {},
   "outputs": [],
   "source": [
    "code = '# mycalculator.py\\ntest = \"you can use this module.\"\\n\\ndef add(a, b):\\n    return a + b\\n \\ndef mul(a, b):\\n    return a * b\\n\\ndef sub(a, b):\\n    return a - b\\n\\ndef div(a, b):\\n    return a / b\\n\\n\\nclass all_calc():\\n\\n    def __init__(self, a, b):\\n        self.a = a\\n        self.b = b\\n\\n    def add(self):\\n        return self.a + self.b\\n \\n    def mul(self):\\n        return self.a * self.b\\n\\n    def sub(self):\\n        return self.a - self.b\\n\\n    def div(self):\\n        return self.a / self.b'\n",
    "\n",
    "f = open(\"mycalculator.py\", \"w\")\n",
    "f.write(code)\n",
    "f.close()"
   ]
  },
  {
   "cell_type": "code",
   "execution_count": 41,
   "id": "1f10de83",
   "metadata": {},
   "outputs": [],
   "source": [
    "import mycalculator"
   ]
  },
  {
   "cell_type": "code",
   "execution_count": 42,
   "id": "fd7b2901",
   "metadata": {},
   "outputs": [
    {
     "data": {
      "text/plain": [
       "6"
      ]
     },
     "execution_count": 42,
     "metadata": {},
     "output_type": "execute_result"
    }
   ],
   "source": [
    "mycalculator.add(4,2)"
   ]
  },
  {
   "cell_type": "code",
   "execution_count": 43,
   "id": "4c9dc85d",
   "metadata": {},
   "outputs": [
    {
     "data": {
      "text/plain": [
       "9"
      ]
     },
     "execution_count": 43,
     "metadata": {},
     "output_type": "execute_result"
    }
   ],
   "source": [
    "import mycalculator as mc\n",
    "mc.add(4,5)"
   ]
  },
  {
   "cell_type": "code",
   "execution_count": 47,
   "id": "a492c507",
   "metadata": {},
   "outputs": [
    {
     "data": {
      "text/plain": [
       "6"
      ]
     },
     "execution_count": 47,
     "metadata": {},
     "output_type": "execute_result"
    }
   ],
   "source": [
    "a = mc.all_calc(2,3)\n",
    "a.mul()"
   ]
  },
  {
   "cell_type": "markdown",
   "id": "23f8a343",
   "metadata": {},
   "source": [
    "### 패키지\n",
    "- 패키지(라이브러리)는 전 세계의 파이썬 사용자들이 만든 유용한 프로그램을 모아 놓은 보물 주머니\n",
    "- 함수가 여러 개 모여서 모듈을 만들고, 모듈이 여러 개 모여 패키지를 이룬다\n",
    "- 패키지 설치 방법 : pip 명령어"
   ]
  },
  {
   "cell_type": "markdown",
   "id": "efa18e4d",
   "metadata": {},
   "source": [
    "## 8-10 프로그래밍 패러다임과 함수형 프로그래밍"
   ]
  },
  {
   "cell_type": "markdown",
   "id": "d14e5c74",
   "metadata": {},
   "source": [
    "### 절차 지향 프로그래밍과 객체 지향 프로그래밍\n",
    "- 절차 지향 프로그래밍\n",
    "    - 일이 진행되는 순서대로 프로그래밍하는 방법\n",
    "    - 장점 : 순차적 작성으로 순서대로 읽기만하면 이해가 가능\n",
    "    - 단점 : 위에서 하나가 잘못되면 아래도 연쇄적으로 문제가 생겨서 유지보수가 어렵\n",
    "- 객체 지향 프로그래밍\n",
    "    - 개발자가 프로그램을 상호작용하는 객체들의 집합으로 볼 수 있게 한다\n",
    "    - 장점 : 코드를 재사용하기 쉽다\n",
    "    - 단점 : 객체 간의 상호작용이 있기 때문에 설계에서 많은 시간이 소요된다"
   ]
  },
  {
   "cell_type": "markdown",
   "id": "1ada9120",
   "metadata": {},
   "source": [
    "### 함수형 프로그래밍\n",
    "- 함수형 프로그래밍은 효율성, 버그 없는 코드, 병렬 프로그래밍과 같은 장점을 제공\n",
    "- 함수형 프로그래밍은 함수로 문제를 분해\n",
    "- 특징\n",
    "    1. 순수성\n",
    "    2. 모듈성\n",
    "    3. 디버깅과 테스트 용이성"
   ]
  },
  {
   "cell_type": "markdown",
   "id": "d4545f32",
   "metadata": {},
   "source": [
    "## 8-11 파이써닉하게 코드를 짜보자"
   ]
  },
  {
   "cell_type": "markdown",
   "id": "1a884d93",
   "metadata": {},
   "source": [
    "### whitespace\n",
    "- 함수와 클래스는 다른 코드와 빈줄 두개로 구분\n",
    "- 클래스에서 함수는 빈 줄 하나로 구분\n",
    "- 레스트 인덱스, 함수 호출에는 스페이스 사용하지 않는다"
   ]
  },
  {
   "cell_type": "markdown",
   "id": "34b2d33c",
   "metadata": {},
   "source": [
    "### 이름\n",
    "- 변수명 앞에 _(밑줄)이 붙으면 함수 등의 내부에서만 사용되는 변수\n",
    "- 변수명 뒤에 _(밑줄)이 붙으면 라이브러리 혹은 파이썬 기본 키워드와의 충돌을 피하고 싶을 때 사용\n",
    "- 소문자 L, 대문자 O, 대문자 I를 가능하면 사용하지 않는다\n",
    "- 클래스 명은 파스칼 케이스 / 함수명은 소문자로"
   ]
  },
  {
   "cell_type": "markdown",
   "id": "c5e06bbd",
   "metadata": {},
   "source": [
    "### 네이밍 컨벤션(Naming conventino)\n",
    "- snake_case\n",
    "     - 모든 공백을 \"_\"로 바꾸고 모든 단어는 소문자\n",
    "     - 함수, 변수 등을 명명할때\n",
    "     - ex) this_snake_case\n",
    "- PascalCase\n",
    "    - 모든 단어가 대문자로 시작\n",
    "    - 클래스를 명명할 때 사용\n",
    "    - ex) ThisPascalCase\n",
    "- camelCase\n",
    "    - 처음은 소문자로 시작하고 이후의 모든 단어의 첫 글자는 대문자\n",
    "    - 파이썬에서는 거의 사용하지 않는다\n",
    "    - ex) thisCamelCase"
   ]
  },
  {
   "cell_type": "code",
   "execution_count": null,
   "id": "b988bc3e",
   "metadata": {},
   "outputs": [],
   "source": []
  }
 ],
 "metadata": {
  "kernelspec": {
   "display_name": "Python 3 (ipykernel)",
   "language": "python",
   "name": "python3"
  },
  "language_info": {
   "codemirror_mode": {
    "name": "ipython",
    "version": 3
   },
   "file_extension": ".py",
   "mimetype": "text/x-python",
   "name": "python",
   "nbconvert_exporter": "python",
   "pygments_lexer": "ipython3",
   "version": "3.9.7"
  }
 },
 "nbformat": 4,
 "nbformat_minor": 5
}
