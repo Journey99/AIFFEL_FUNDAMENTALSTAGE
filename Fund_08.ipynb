{
 "cells": [
  {
   "cell_type": "markdown",
   "id": "f0029d1b",
   "metadata": {},
   "source": [
    "# 13. 당신의 행운의 숫자는? 나만의 n면체 주사위 위젯 만들기"
   ]
  },
  {
   "cell_type": "markdown",
   "id": "7e5882f3",
   "metadata": {},
   "source": [
    "## 학습 목표\n",
    "- 파이썬 클래스 문법을 익힙니다\n",
    "- 파이썬 클래스를 활용해 객체 지향 프로그래밍에 대해 학습합니다"
   ]
  },
  {
   "cell_type": "markdown",
   "id": "3f4bb12d",
   "metadata": {},
   "source": [
    "## 13.2 객체 지향 프로그래밍 (1) 객체란?"
   ]
  },
  {
   "cell_type": "markdown",
   "id": "b8701c9f",
   "metadata": {},
   "source": [
    "### 객체\n",
    "- 파이썬에서는 부울(bool), 정수, 실수, 문자열, 배열, 딕셔너리, 함수, 모듈, 프로그램.. 등 모든 것이 객체"
   ]
  },
  {
   "cell_type": "markdown",
   "id": "660f8b6b",
   "metadata": {},
   "source": [
    "### 변수"
   ]
  },
  {
   "cell_type": "code",
   "execution_count": 1,
   "id": "403cba7e",
   "metadata": {},
   "outputs": [
    {
     "data": {
      "text/plain": [
       "3"
      ]
     },
     "execution_count": 1,
     "metadata": {},
     "output_type": "execute_result"
    }
   ],
   "source": [
    "myvar = 3\n",
    "myvar"
   ]
  },
  {
   "cell_type": "markdown",
   "id": "48da293b",
   "metadata": {},
   "source": [
    "'cat'이 담긴 문자열 타입의 객체를 생성하고 myword라는 변수(객체)에 할당, 문자열 객체를 참조"
   ]
  },
  {
   "cell_type": "code",
   "execution_count": 2,
   "id": "25591b80",
   "metadata": {},
   "outputs": [
    {
     "data": {
      "text/plain": [
       "'cat'"
      ]
     },
     "execution_count": 2,
     "metadata": {},
     "output_type": "execute_result"
    }
   ],
   "source": [
    "myword = 'cat'\n",
    "myword"
   ]
  },
  {
   "cell_type": "code",
   "execution_count": 3,
   "id": "883b59e5",
   "metadata": {},
   "outputs": [
    {
     "data": {
      "text/plain": [
       "'CAT'"
      ]
     },
     "execution_count": 3,
     "metadata": {},
     "output_type": "execute_result"
    }
   ],
   "source": [
    "myword.upper()"
   ]
  },
  {
   "cell_type": "code",
   "execution_count": 4,
   "id": "0b5a9d84",
   "metadata": {},
   "outputs": [
    {
     "data": {
      "text/plain": [
       "'CAT'"
      ]
     },
     "execution_count": 4,
     "metadata": {},
     "output_type": "execute_result"
    }
   ],
   "source": [
    "'cat'.upper()"
   ]
  },
  {
   "cell_type": "code",
   "execution_count": 5,
   "id": "6e69fbe9",
   "metadata": {},
   "outputs": [
    {
     "data": {
      "text/plain": [
       "4"
      ]
     },
     "execution_count": 5,
     "metadata": {},
     "output_type": "execute_result"
    }
   ],
   "source": [
    "var = 4\n",
    "var"
   ]
  },
  {
   "cell_type": "markdown",
   "id": "d52cd05f",
   "metadata": {},
   "source": [
    "#### id()\n",
    "- 파이썬 내장함수로, 프로그램이 돌아가고 있는 동안 객체의 고유값을 반환\n",
    "- 메모리 주소 또는 그냥 객체마다 부여된 유일한 값이라고 생각하면 된다"
   ]
  },
  {
   "cell_type": "code",
   "execution_count": 6,
   "id": "f4fda8e5",
   "metadata": {},
   "outputs": [
    {
     "data": {
      "text/plain": [
       "(139830739671440, 139830739671440)"
      ]
     },
     "execution_count": 6,
     "metadata": {},
     "output_type": "execute_result"
    }
   ],
   "source": [
    "id(var), id(4)"
   ]
  },
  {
   "cell_type": "markdown",
   "id": "ac3aa9b9",
   "metadata": {},
   "source": [
    "### 얕은 복사, 깊은 복사\n",
    "- https://docs.python.org/3/library/copy.html\n",
    "- 얕은 복사는 원본 객체의 주소를 복사하고, 깊은 복사는 원본 객체의 값을 복사"
   ]
  },
  {
   "cell_type": "code",
   "execution_count": 7,
   "id": "a5915bfa",
   "metadata": {},
   "outputs": [
    {
     "data": {
      "text/plain": [
       "[1, 2, 3]"
      ]
     },
     "execution_count": 7,
     "metadata": {},
     "output_type": "execute_result"
    }
   ],
   "source": [
    "mylist = [1,2,3]\n",
    "var = mylist\n",
    "var"
   ]
  },
  {
   "cell_type": "code",
   "execution_count": 8,
   "id": "701fecf4",
   "metadata": {},
   "outputs": [
    {
     "name": "stdout",
     "output_type": "stream",
     "text": [
      "[1, 2, 3, 4]\n"
     ]
    }
   ],
   "source": [
    "mylist.append(4)\n",
    "print(mylist)"
   ]
  },
  {
   "cell_type": "code",
   "execution_count": 9,
   "id": "6e186d1f",
   "metadata": {},
   "outputs": [
    {
     "name": "stdout",
     "output_type": "stream",
     "text": [
      "[1, 2, 3, 4]\n"
     ]
    }
   ],
   "source": [
    "print(var)"
   ]
  },
  {
   "cell_type": "code",
   "execution_count": 10,
   "id": "76e261ea",
   "metadata": {},
   "outputs": [
    {
     "name": "stdout",
     "output_type": "stream",
     "text": [
      "139830652230592 139830652230592\n"
     ]
    }
   ],
   "source": [
    "print(id(mylist), id(var))"
   ]
  },
  {
   "cell_type": "markdown",
   "id": "4c2d8f64",
   "metadata": {},
   "source": [
    "### 요약\n",
    "- 파이썬에서는 모든 것(부울, 정수, 실수, 데이터구조(list,tuple,dict,set...), 함수, 프로그램, 모듈)이 객체다.\n",
    "- 객체는 상태(state)를 나타내는 속성(attribute)과 동작(behavior)을 나타내는 메서드(method)가 있다.\n",
    "- 객체의 속성은 변수로 구현된다. 객체의 메서드는 함수로 구현된다."
   ]
  },
  {
   "cell_type": "markdown",
   "id": "b223f6f5",
   "metadata": {},
   "source": [
    "## 13.4 클래스 기본 문법 (1) 클래스 선언 및 인스턴스화"
   ]
  },
  {
   "cell_type": "markdown",
   "id": "1f20c799",
   "metadata": {},
   "source": [
    "### 클래스 선언\n",
    "- Car라는 클래스는 type 유형의 객체\n",
    "- Car()가 호출될 때 Car 타입의 객체가 생성"
   ]
  },
  {
   "cell_type": "code",
   "execution_count": 11,
   "id": "30059273",
   "metadata": {},
   "outputs": [
    {
     "name": "stdout",
     "output_type": "stream",
     "text": [
      "93851629688688\n",
      "93851629688688\n",
      "139830652279200\n",
      "139830651847248\n",
      "<class 'type'>\n",
      "<class '__main__.Car'>\n"
     ]
    }
   ],
   "source": [
    "class Car:\n",
    "    pass\n",
    "\n",
    "class Car():\n",
    "    pass\n",
    "\n",
    "#id(Car)는 여러번 호출해도 같은 값이 얻어집니다. \n",
    "print(id(Car))\n",
    "print(id(Car))\n",
    "\n",
    "#id(Car())는 Car()가 호출될 때마다 다른 값이 얻어집니다. \n",
    "print(id(Car()))\n",
    "print(id(Car()))\n",
    "\n",
    "# 두 객체의 type을 살펴봅니다. \n",
    "print(type(Car))\n",
    "print(type(Car()))"
   ]
  },
  {
   "cell_type": "markdown",
   "id": "4c93c417",
   "metadata": {},
   "source": [
    "### 클래스 사용 - 객체 인스턴스화\n",
    "- 클래스로 객체를 만들어 주는걸 인스턴스화\n",
    "- 인스턴스화는 선언한 클래스 이름에 괄호를 적어주고 생성된 인스턴스를 적당한 변수에 할당해서 사용"
   ]
  },
  {
   "cell_type": "code",
   "execution_count": 12,
   "id": "e9984efb",
   "metadata": {},
   "outputs": [
    {
     "name": "stdout",
     "output_type": "stream",
     "text": [
      "139830651850320\n",
      "139830652279872\n"
     ]
    }
   ],
   "source": [
    "mycar = Car()\n",
    "mycar2 = Car()\n",
    "print(id(mycar))\n",
    "print(id(mycar2))"
   ]
  },
  {
   "cell_type": "markdown",
   "id": "c7d43c7d",
   "metadata": {},
   "source": [
    "#### 참고\n",
    "- 클래스명 표기법 : 카멜 케이스\n",
    "    - 각 단어의 앞 글자를 대문자로\n",
    "    - MyCar\n",
    "- 함수명 표기법 : 스네이크 케이스\n",
    "    - 단어는 소문자로 쓰고 각 단어의 연결은 언더바 사용\n",
    "    - my_car"
   ]
  },
  {
   "cell_type": "markdown",
   "id": "097cf7fd",
   "metadata": {},
   "source": [
    "## 13.5 클래스 기본 문법 (2) 클래스 속성과 메서드"
   ]
  },
  {
   "cell_type": "markdown",
   "id": "1b125031",
   "metadata": {},
   "source": [
    "### 클래스의 속성과 메서드\n",
    "- 클래스의 속성은 상태(state)를 표현. 속성은 변수로 나타낸다\n",
    "- 클래스의 메서드는 동작(behavior)을 표현. 메서드는 def 키워드로 나타낸다"
   ]
  },
  {
   "cell_type": "code",
   "execution_count": 13,
   "id": "b14ff0b5",
   "metadata": {},
   "outputs": [],
   "source": [
    "class Car:\n",
    "    color = 'red'\n",
    "    categor = 'sports car'\n",
    "    \n",
    "    def drive(self):\n",
    "        print(\"I'm driving\")\n",
    "        \n",
    "    def accel(self, speed_up, current_speed=10):\n",
    "        self.speed_up = speed_up\n",
    "        self.current_speed = current_speed + speed_up\n",
    "        print(\"speed up\", self.speed_up, \"driving at\", self.current_speed)"
   ]
  },
  {
   "cell_type": "markdown",
   "id": "6b88d984",
   "metadata": {},
   "source": [
    "- 속성\n",
    "    - 클래스의 상태는 속성이라고 부르며, 변수로 선언\n",
    "    - color에는 'red'를 category에는 'sports car'를 할당\n",
    "- 메서드\n",
    "    - 동작은 메서드로 나타내고 메서드 선언은 함수와 똑같이 def 키워드를 이용\n",
    "    - 클래스의 메서드는 첫 번째 인자는 self 값을 적어 주어야 한다\n",
    "   "
   ]
  },
  {
   "cell_type": "markdown",
   "id": "df412fb4",
   "metadata": {},
   "source": [
    "### 클래스의 속성과 메서드 사용"
   ]
  },
  {
   "cell_type": "markdown",
   "id": "f07ca865",
   "metadata": {},
   "source": [
    "###  속성\n",
    "- 클래스의 속성에 접근하기 위해서는 인스턴스 객체에 . 을 쓰고 그 뒤에 속성명을 적는다"
   ]
  },
  {
   "cell_type": "code",
   "execution_count": 14,
   "id": "1086b28c",
   "metadata": {},
   "outputs": [],
   "source": [
    "mycar = Car()"
   ]
  },
  {
   "cell_type": "code",
   "execution_count": 15,
   "id": "f324a0ce",
   "metadata": {},
   "outputs": [
    {
     "data": {
      "text/plain": [
       "'red'"
      ]
     },
     "execution_count": 15,
     "metadata": {},
     "output_type": "execute_result"
    }
   ],
   "source": [
    "mycar.color"
   ]
  },
  {
   "cell_type": "markdown",
   "id": "831eae4c",
   "metadata": {},
   "source": [
    "### 메서드\n",
    "- 메서드를 호출하는 방법은 속성 접근과 유사. 인스턴스 객체에 .을 쓰고 그 뒤에 메서드 명을 적어준다\n",
    "- 함수를 호출하는 것과 동일하게 함수 이름을 쓰고 소괄호 \"()\"를 적어준다\n",
    "- 메서드를 호출할 때는 self 인자를 명시적으로 전달해 주지 않아도 된다\n",
    "- self라는 단어는 클래스를 인스턴스화 한 인스턴스 객체를 가리킨다\n",
    "- 메서드를 호출할 때, 우리가 명시적으로 인자를 넣지는 않지만 파이썬 내부적으로는 (=파이썬 인터프리터에서는) 인자 한 개를 사용하고 있고, 그 인자는 파이썬 클래스에 의해 선언된 객체 자신(self)이다"
   ]
  },
  {
   "cell_type": "code",
   "execution_count": 16,
   "id": "e4b16c99",
   "metadata": {},
   "outputs": [
    {
     "name": "stdout",
     "output_type": "stream",
     "text": [
      "I'm driving\n"
     ]
    }
   ],
   "source": [
    "mycar.drive()"
   ]
  },
  {
   "cell_type": "code",
   "execution_count": 17,
   "id": "3b89e900",
   "metadata": {},
   "outputs": [
    {
     "name": "stdout",
     "output_type": "stream",
     "text": [
      "speed up 5 driving at 15\n"
     ]
    }
   ],
   "source": [
    "mycar.accel(5)"
   ]
  },
  {
   "cell_type": "markdown",
   "id": "5aca92e7",
   "metadata": {},
   "source": [
    "클래스 메서드를 정의할 때 self인자를 사용하지 않으면 에러 발생"
   ]
  },
  {
   "cell_type": "code",
   "execution_count": 18,
   "id": "dff29b63",
   "metadata": {},
   "outputs": [],
   "source": [
    "class Test:\n",
    "    def run1(self):\n",
    "        print(\"run1\")\n",
    "\n",
    "    def run2():\n",
    "        print(\"run2\")\n",
    "\n",
    "t = Test()"
   ]
  },
  {
   "cell_type": "code",
   "execution_count": 19,
   "id": "f35bc7b5",
   "metadata": {},
   "outputs": [
    {
     "name": "stdout",
     "output_type": "stream",
     "text": [
      "run1\n"
     ]
    }
   ],
   "source": [
    "t.run1()"
   ]
  },
  {
   "cell_type": "code",
   "execution_count": 20,
   "id": "97b559b4",
   "metadata": {},
   "outputs": [
    {
     "ename": "TypeError",
     "evalue": "run2() takes 0 positional arguments but 1 was given",
     "output_type": "error",
     "traceback": [
      "\u001b[0;31m---------------------------------------------------------------------------\u001b[0m",
      "\u001b[0;31mTypeError\u001b[0m                                 Traceback (most recent call last)",
      "\u001b[0;32m/tmp/ipykernel_13/2830249385.py\u001b[0m in \u001b[0;36m<module>\u001b[0;34m\u001b[0m\n\u001b[0;32m----> 1\u001b[0;31m \u001b[0mt\u001b[0m\u001b[0;34m.\u001b[0m\u001b[0mrun2\u001b[0m\u001b[0;34m(\u001b[0m\u001b[0;34m)\u001b[0m\u001b[0;34m\u001b[0m\u001b[0;34m\u001b[0m\u001b[0m\n\u001b[0m",
      "\u001b[0;31mTypeError\u001b[0m: run2() takes 0 positional arguments but 1 was given"
     ]
    }
   ],
   "source": [
    "t.run2()"
   ]
  },
  {
   "cell_type": "markdown",
   "id": "59ac3803",
   "metadata": {},
   "source": [
    "### 접두사 self\n",
    "- 인스턴스의 속성으로 사용하고 싶은 변수는 self. 을 서준다\n",
    "- self 인자를 통해 선언된 객체의 값이란 의미\n",
    "- 객체 안에서 self를 사용하면 인스턴스 객체의 고유한 속성을 나타낼 수 있다\n",
    "- 클래스가 아닌 self, 즉 인스턴스화된 객체 자신의 속성이란 뜻"
   ]
  },
  {
   "cell_type": "code",
   "execution_count": 27,
   "id": "5887cfe0",
   "metadata": {},
   "outputs": [],
   "source": [
    "class Test2:\n",
    "    def run1(self, a):\n",
    "        self.a = float(a) * 10\n",
    "        print(self.a)\n",
    "\n",
    "    def run2(self, b):\n",
    "        b = float(b) + 10\n",
    "        print(self.b)\n",
    "        \n",
    "t = Test2()"
   ]
  },
  {
   "cell_type": "code",
   "execution_count": 28,
   "id": "89266628",
   "metadata": {},
   "outputs": [
    {
     "name": "stdout",
     "output_type": "stream",
     "text": [
      "10.0\n"
     ]
    }
   ],
   "source": [
    "t.run1(1)"
   ]
  },
  {
   "cell_type": "code",
   "execution_count": 29,
   "id": "70e4f222",
   "metadata": {},
   "outputs": [
    {
     "ename": "AttributeError",
     "evalue": "'Test2' object has no attribute 'b'",
     "output_type": "error",
     "traceback": [
      "\u001b[0;31m---------------------------------------------------------------------------\u001b[0m",
      "\u001b[0;31mAttributeError\u001b[0m                            Traceback (most recent call last)",
      "\u001b[0;32m/tmp/ipykernel_13/25985708.py\u001b[0m in \u001b[0;36m<module>\u001b[0;34m\u001b[0m\n\u001b[0;32m----> 1\u001b[0;31m \u001b[0mt\u001b[0m\u001b[0;34m.\u001b[0m\u001b[0mrun2\u001b[0m\u001b[0;34m(\u001b[0m\u001b[0;36m1\u001b[0m\u001b[0;34m)\u001b[0m\u001b[0;34m\u001b[0m\u001b[0;34m\u001b[0m\u001b[0m\n\u001b[0m",
      "\u001b[0;32m/tmp/ipykernel_13/3234681881.py\u001b[0m in \u001b[0;36mrun2\u001b[0;34m(self, b)\u001b[0m\n\u001b[1;32m      6\u001b[0m     \u001b[0;32mdef\u001b[0m \u001b[0mrun2\u001b[0m\u001b[0;34m(\u001b[0m\u001b[0mself\u001b[0m\u001b[0;34m,\u001b[0m \u001b[0mb\u001b[0m\u001b[0;34m)\u001b[0m\u001b[0;34m:\u001b[0m\u001b[0;34m\u001b[0m\u001b[0;34m\u001b[0m\u001b[0m\n\u001b[1;32m      7\u001b[0m         \u001b[0mb\u001b[0m \u001b[0;34m=\u001b[0m \u001b[0mfloat\u001b[0m\u001b[0;34m(\u001b[0m\u001b[0mb\u001b[0m\u001b[0;34m)\u001b[0m \u001b[0;34m+\u001b[0m \u001b[0;36m10\u001b[0m\u001b[0;34m\u001b[0m\u001b[0;34m\u001b[0m\u001b[0m\n\u001b[0;32m----> 8\u001b[0;31m         \u001b[0mprint\u001b[0m\u001b[0;34m(\u001b[0m\u001b[0mself\u001b[0m\u001b[0;34m.\u001b[0m\u001b[0mb\u001b[0m\u001b[0;34m)\u001b[0m\u001b[0;34m\u001b[0m\u001b[0;34m\u001b[0m\u001b[0m\n\u001b[0m\u001b[1;32m      9\u001b[0m \u001b[0;34m\u001b[0m\u001b[0m\n\u001b[1;32m     10\u001b[0m \u001b[0mt\u001b[0m \u001b[0;34m=\u001b[0m \u001b[0mTest2\u001b[0m\u001b[0;34m(\u001b[0m\u001b[0;34m)\u001b[0m\u001b[0;34m\u001b[0m\u001b[0;34m\u001b[0m\u001b[0m\n",
      "\u001b[0;31mAttributeError\u001b[0m: 'Test2' object has no attribute 'b'"
     ]
    }
   ],
   "source": [
    "t.run2(1)"
   ]
  },
  {
   "cell_type": "markdown",
   "id": "4d719956",
   "metadata": {},
   "source": [
    "### 요약\n",
    "- self는 자기 자신\n",
    "- 클래스에 의해 생성된 객체를 가리킨다\n",
    "- 클래스의 메서드는 인자로 해당 인스턴스(self)를 받아야 한다\n",
    "- 메서드를 호출할 때는 self인자를 전달하지 않는다\n",
    "- 인스턴스 변수를 정의할 때에는 접수사 self.을 붙여준다"
   ]
  },
  {
   "cell_type": "markdown",
   "id": "9fd252ca",
   "metadata": {},
   "source": [
    "## 13.6 클래스 기본 문법 (3) 생성자"
   ]
  },
  {
   "cell_type": "markdown",
   "id": "f9664115",
   "metadata": {},
   "source": [
    "### 생성자 __ init \\__\n",
    "- 클래스에 의해 만든 인스턴스 객체의 속성값을 초기화"
   ]
  },
  {
   "cell_type": "code",
   "execution_count": 30,
   "id": "2bd59388",
   "metadata": {},
   "outputs": [],
   "source": [
    "class Car():\n",
    "    color = 'red'\n",
    "    category = 'sports car'\n",
    "    \n",
    "    def drive(self):\n",
    "        print(\"I'm driving\")\n",
    "        \n",
    "    def accel(self, speed_up, current_speed=10):\n",
    "        self.speed_up = speed_up\n",
    "        self.current_speed = current_speed + self.speed_up\n",
    "        print(\"speed up\", self.speed_up, \"driving at\", self.current_speed)"
   ]
  },
  {
   "cell_type": "markdown",
   "id": "e1d3dde1",
   "metadata": {},
   "source": [
    "아래는 Car 클래스 인스턴스의 color 와 category를 초기화하도록"
   ]
  },
  {
   "cell_type": "code",
   "execution_count": 31,
   "id": "b169be3e",
   "metadata": {},
   "outputs": [],
   "source": [
    "class Car2:\n",
    "    def __init__(self, color, category):\n",
    "        self.color = color\n",
    "        self.category = category\n",
    "\n",
    "    def drive(self):\n",
    "        print(\"I'm driving\")\n",
    "\n",
    "    def accel(self, speed_up, current_speed=10):\n",
    "        self.speed_up = speed_up\n",
    "        self.current_speed = current_speed + self.speed_up\n",
    "        print(\"speed up\", self.speed_up, \"driving at\", self.current_speed)"
   ]
  },
  {
   "cell_type": "markdown",
   "id": "c53c5d00",
   "metadata": {},
   "source": [
    "#### 설명\n",
    "- \\__ init \\__ 메서드 안에 인자를 전달함으로써 인스턴스 객체의 속성을 초기화할 수 있다\n",
    "- 즉, \\__ init \\__ 메서드 안에 정의된 속성(변수) color와 category는 클래스를 인스턴스화할 때 값을 설정할 수 있습니다."
   ]
  },
  {
   "cell_type": "code",
   "execution_count": 32,
   "id": "8c491023",
   "metadata": {},
   "outputs": [],
   "source": [
    "# 인스턴스 객체 선언\n",
    "car1 = Car()\n",
    "car2 = Car2('yellow','sedan')"
   ]
  },
  {
   "cell_type": "code",
   "execution_count": 33,
   "id": "cfd883ed",
   "metadata": {},
   "outputs": [
    {
     "data": {
      "text/plain": [
       "'red'"
      ]
     },
     "execution_count": 33,
     "metadata": {},
     "output_type": "execute_result"
    }
   ],
   "source": [
    "car1.color"
   ]
  },
  {
   "cell_type": "code",
   "execution_count": 34,
   "id": "965baba4",
   "metadata": {},
   "outputs": [
    {
     "data": {
      "text/plain": [
       "'yellow'"
      ]
     },
     "execution_count": 34,
     "metadata": {},
     "output_type": "execute_result"
    }
   ],
   "source": [
    "car2.color"
   ]
  },
  {
   "cell_type": "code",
   "execution_count": 35,
   "id": "6be2f21e",
   "metadata": {},
   "outputs": [
    {
     "data": {
      "text/plain": [
       "'sports car'"
      ]
     },
     "execution_count": 35,
     "metadata": {},
     "output_type": "execute_result"
    }
   ],
   "source": [
    "car1.category"
   ]
  },
  {
   "cell_type": "code",
   "execution_count": 36,
   "id": "76ad5434",
   "metadata": {},
   "outputs": [
    {
     "data": {
      "text/plain": [
       "'sedan'"
      ]
     },
     "execution_count": 36,
     "metadata": {},
     "output_type": "execute_result"
    }
   ],
   "source": [
    "car2.category"
   ]
  },
  {
   "cell_type": "code",
   "execution_count": 37,
   "id": "fcd6a090",
   "metadata": {},
   "outputs": [],
   "source": [
    "# 키워드 인자를 지정할 수도 있다\n",
    "class Car2():\n",
    "    def __init__(self, color='red', category='sports car'):\n",
    "        self.color = color\n",
    "        self.category = category"
   ]
  },
  {
   "cell_type": "markdown",
   "id": "02d1ff01",
   "metadata": {},
   "source": [
    "### 생성자 요약\n",
    "- \\__ init \\__ 이라고 쓰고, \"던더(Double Under) 이닛\"이라고 발음\n",
    "- 다른 객체 지향 언어를 알고 있는 독자라면 생성자라는 말을 들으면 객체 인스턴스화와 초기화 2가지 작업을 생각할 수 있다\n",
    "- 파이썬의 생성자는 초기화만 수행합니다. 그럼 객체 인스턴스화는 누가 할까요? 기억나시나요? 네, 바로 클래스 사용 시 변수 할당을 통해 이루어 진다\n",
    "- 그리고 이 \\__ init \\__ 처럼 앞뒤에 언더바(_)가 두 개씩 있는 메서드를 매직 메서드 라고 한다\n"
   ]
  },
  {
   "cell_type": "markdown",
   "id": "5d18ce17",
   "metadata": {},
   "source": [
    "## 13.7 클래스 기본 문법 (4) 클래스 변수와 인스턴스 변수\n",
    "- 클래스에서 변수를 선언하는 방법은 2가지\n",
    "    - 보통 변수와 동일하게 변수명을 쓰고 값을 할당하는 방법\n",
    "    - \\__ init \\__ 메서드 안에 self. 와 함께 설정하는 방법"
   ]
  },
  {
   "cell_type": "code",
   "execution_count": 38,
   "id": "3a74726a",
   "metadata": {},
   "outputs": [],
   "source": [
    "class Car:\n",
    "    Manufacture = \"India\"\n",
    "    \n",
    "    def __init__(self, color, category='sedan'):\n",
    "        self.color = color\n",
    "        self.category = category"
   ]
  },
  {
   "cell_type": "markdown",
   "id": "378b2e47",
   "metadata": {},
   "source": [
    "Manufacture 같은 변수를 클래스 변수. self.color와 같은 변수를 인스턴스 변수"
   ]
  },
  {
   "cell_type": "code",
   "execution_count": 39,
   "id": "760ebc95",
   "metadata": {},
   "outputs": [
    {
     "name": "stdout",
     "output_type": "stream",
     "text": [
      "India red sports car\n",
      "India white sedan\n"
     ]
    }
   ],
   "source": [
    "car1 = Car('red', 'sports car')\n",
    "car2 = Car('white')\n",
    "print(car1.Manufacture, car1.color, car1.category)\n",
    "print(car2.Manufacture, car2.color, car2.category)"
   ]
  },
  {
   "cell_type": "markdown",
   "id": "5c11a0c0",
   "metadata": {},
   "source": [
    "### 클래스 변수\n",
    "- 클래스에 바로 선언된 속성을 클래스 변수라고 하며 클래스에 의해 생성된 모든 객체에서 같은 값을 조회할 때 가능\n",
    "- Manufacture는 클래스 변수\n",
    "- Manufacture 속성은 car1과 car2가 공유"
   ]
  },
  {
   "cell_type": "markdown",
   "id": "6246197e",
   "metadata": {},
   "source": [
    "### 인스턴스 변수\n",
    "- \\__ init \\__() 안에서 self를 사용해 선언된 변수를 인스턴스 변수라고 한다. 객체가 인스턴스화될 때마다 새로운 값이 할당되며 서로 다른 객체 간에는 값을 공유할 수 없다\n",
    "- color와 category는 인스턴스 변수"
   ]
  },
  {
   "cell_type": "markdown",
   "id": "b968375d",
   "metadata": {},
   "source": [
    "## 13.8 클래스, 조금 더 알아보기 - 상속"
   ]
  },
  {
   "cell_type": "markdown",
   "id": "6e394e56",
   "metadata": {},
   "source": [
    "### 상속\n",
    "- 기존의 클래스와 거의 같은 클래스인데, 메서드 기능 몇 개만 추가하고 싶을 때"
   ]
  },
  {
   "cell_type": "code",
   "execution_count": 40,
   "id": "8b7cda10",
   "metadata": {},
   "outputs": [],
   "source": [
    "class Car:\n",
    "    Manufacture = \"India\"\n",
    "\n",
    "    def __init__(self, color='red', category='sedan'):\n",
    "        self.color = color\n",
    "        self.category = category\n",
    "\n",
    "    def drive(self):\n",
    "        print(\"I'm driving\")\n",
    "\n",
    "    def accel(self, speed_up, current_speed=10):\n",
    "        self.speed_up = speed_up\n",
    "        self.current_speed = current_speed + self.speed_up\n",
    "        print(\"speed up\", self.speed_up, \"driving at\", self.current_speed)"
   ]
  },
  {
   "cell_type": "markdown",
   "id": "6d3275c3",
   "metadata": {},
   "source": [
    "Car 클래스의 기능은 유지한 채 maker 속성만 추가된 새로운 클래스 NewCar를 선언"
   ]
  },
  {
   "cell_type": "code",
   "execution_count": 41,
   "id": "7fe87161",
   "metadata": {},
   "outputs": [
    {
     "name": "stdout",
     "output_type": "stream",
     "text": [
      "I'm driving\n",
      "speed up 10 driving at 20\n"
     ]
    }
   ],
   "source": [
    "class NewCar(Car):\n",
    "    pass\n",
    "\n",
    "car = NewCar()\n",
    "car.drive()\n",
    "car.accel(10)"
   ]
  },
  {
   "cell_type": "code",
   "execution_count": 42,
   "id": "f33e5314",
   "metadata": {},
   "outputs": [
    {
     "data": {
      "text/plain": [
       "'Porsche'"
      ]
     },
     "execution_count": 42,
     "metadata": {},
     "output_type": "execute_result"
    }
   ],
   "source": [
    "class NewCar(Car):\n",
    "    maker = 'Porsche'\n",
    "    \n",
    "car= NewCar()\n",
    "car.maker"
   ]
  },
  {
   "cell_type": "markdown",
   "id": "95b05c98",
   "metadata": {},
   "source": [
    "### 상속 사용하기\n",
    "- 메서드 추가하기(add)\n",
    "- 메서드 재정의하기(override)\n",
    "- 부모 메서드 호출하기(super())"
   ]
  },
  {
   "cell_type": "markdown",
   "id": "1249314a",
   "metadata": {},
   "source": [
    "### (1) 메서드 추가하기"
   ]
  },
  {
   "cell_type": "code",
   "execution_count": 43,
   "id": "8b82fb85",
   "metadata": {},
   "outputs": [],
   "source": [
    "class NewCar(Car):\n",
    "    def fly(self):\n",
    "        print(\"I'm flying!! This is the new car!!\")"
   ]
  },
  {
   "cell_type": "markdown",
   "id": "49b4c2bd",
   "metadata": {},
   "source": [
    "### (2) 메서드 오버라이드\n",
    "- 기존에 있는 메서드를 변경하는 것"
   ]
  },
  {
   "cell_type": "code",
   "execution_count": 44,
   "id": "ff4d410a",
   "metadata": {},
   "outputs": [],
   "source": [
    "class NewCar(Car):\n",
    "    def fly(self):\n",
    "        print(\"I'm flying!! This is the new car!!\")\n",
    "\n",
    "    def drive(self):\n",
    "        print(\"I'm driving and can fly\")"
   ]
  },
  {
   "cell_type": "markdown",
   "id": "db90097c",
   "metadata": {},
   "source": [
    "### (3) 부모 메서드 호출하기 super()\n",
    "- 부모 메서드 호출은 super() 라는 함수를 이용\n",
    "- super() 는 파이썬 내장함수로 자식 클래스에서 부모 클래스의 메서들르 호출하고 싶을 때 사용"
   ]
  },
  {
   "cell_type": "code",
   "execution_count": 45,
   "id": "00f75997",
   "metadata": {},
   "outputs": [],
   "source": [
    "class NewCar(Car):\n",
    "    def __init__(self, color, category, maker):\n",
    "        super().__init__(color, category)\n",
    "        self.maker = maker\n",
    "        \n",
    "    def fly(self):\n",
    "        print(\"I'm flying!! This is the new car!!\")\n",
    "\n",
    "    def accel(self, speed_up, level=1, current_speed=10):\n",
    "        self.boost[level] = {1 : 0, 2 : 30, 3 : 50}\n",
    "        self.speed_up = speed_up + self.boost[level]\n",
    "        self.current_speed = current_speed + self.speed_up\n",
    "        print(\"speed up\", self.speed_up, \"driving at\", self.current_speed)"
   ]
  },
  {
   "cell_type": "markdown",
   "id": "98372435",
   "metadata": {},
   "source": [
    "부모 클래스의 변경사항이 그대로 자식 클래스에 반영"
   ]
  },
  {
   "cell_type": "code",
   "execution_count": 46,
   "id": "b602de60",
   "metadata": {},
   "outputs": [
    {
     "name": "stdout",
     "output_type": "stream",
     "text": [
      "2020Y sports car\n"
     ]
    }
   ],
   "source": [
    "class Car:\n",
    "    Manufacture = \"India\"\n",
    "\n",
    "    def __init__(self, color='red', category='sedan'):\n",
    "        self.color = color \n",
    "        self.category = '2020Y '+ category\n",
    "\n",
    "\n",
    "class NewCar(Car):\n",
    "    def __init__(self, color, category, maker):\n",
    "        super().__init__(color, category)\n",
    "        self.maker = maker\n",
    "\n",
    "newcar = NewCar('red','sports car', 'Kia')\n",
    "print(newcar.category)"
   ]
  },
  {
   "cell_type": "markdown",
   "id": "5f5436ae",
   "metadata": {},
   "source": [
    "### 전체 요약\n",
    "1. 클래스 선언\n",
    "2. 클래스 사용\n",
    "    - 객체의 인스턴스\n",
    "3. 클래스는 동작과 상태를 갖는다\n",
    "    - 상태(State) : 속성(Attribute)로 표현, 일명 변수\n",
    "    - 동작(Behavior) : Methode 로 표현, 일명 함수\n",
    "    - 객체는 동작은 공유하지만 상태는 공유하지 않는다\n",
    "4. 생성자 \\__ init \\__\n",
    "5. 클래스 변수와 인스턴스 변ㅅ\n",
    "    - 클래스에 선언된 속성은 클래스 변수라고 하며 이 클래스에 의해 생성된 모든 객체에 대해 같은 속성(값)을 갖는다\n",
    "    - 객체가 인스턴스화될 때마다 새로운 값이 할당되며 서로 다른 객체 간에는 속성(값)을 공유할 수 없다.\n",
    "6. 상속\n",
    "    - 메서드 추가, 메서드 오버라이드, 부모 메서드 호출하기\n"
   ]
  },
  {
   "cell_type": "markdown",
   "id": "9b311c21",
   "metadata": {},
   "source": [
    "## 13.9 n면체 주사위 만들기 (1) 기획"
   ]
  },
  {
   "cell_type": "markdown",
   "id": "496277f0",
   "metadata": {},
   "source": [
    "### 기능\n",
    "- 주사위의 면의 개수 n을 입력할 수 있다\n",
    "- 주사위를 던지면 1~n 눈의 수 중에서 랜덤으로 값을 출력한다"
   ]
  },
  {
   "cell_type": "markdown",
   "id": "75419222",
   "metadata": {},
   "source": [
    "## 13.10 n면체 주사위 만들기 (2) 주 프로그램 - main 함수"
   ]
  },
  {
   "cell_type": "code",
   "execution_count": 47,
   "id": "76c69e27",
   "metadata": {},
   "outputs": [],
   "source": [
    "def main():\n",
    "    n = get_inputs()\n",
    "    mydice = FunnyDice(n)\n",
    "    mydice.throw()\n",
    "    print(\"행운의 숫자는? {}\".format(mydice.getval()))"
   ]
  },
  {
   "cell_type": "markdown",
   "id": "d53a56b6",
   "metadata": {},
   "source": [
    "## 13-11. n면체 주사위 만들기 (3) FunnyDice 클래스"
   ]
  },
  {
   "cell_type": "code",
   "execution_count": 49,
   "id": "b98b2dfa",
   "metadata": {},
   "outputs": [],
   "source": [
    "from random import randrange\n",
    "\n",
    "class FunnyDice():\n",
    "    def __init__(self, n=6):\n",
    "        self.n = int(n)\n",
    "        self.numbers = list(range(1, n+1))     # 주사위의 눈들\n",
    "        self.index = randrange(0, self.n)      # number 리스트의 인덱스\n",
    "        self.val = self.numbers[self.index]    # self.val 은 주사위의 눈\n",
    "    \n",
    "    def throw(self):\n",
    "        self.index = randrange(0, self.n)\n",
    "        self.val = self.numbers[self.index]\n",
    "    \n",
    "    def getval(self):\n",
    "        return self.val\n",
    "    \n",
    "    # 사용자가 주사위의 눈을 세팅할 수 있게끔 하는 메서드\n",
    "    # 만약 범위 밖의 숫자를 세팅하려고 하면 에러를 발생시킴\n",
    "    def setval(self, val):\n",
    "        if val <= self.n:\n",
    "            self.val = val\n",
    "            \n",
    "        else:\n",
    "            msg = \"주사위에 없는 숫자입니다. 주사위는 1 ~ {0}까지 있습니다. \".format(self.n)\n",
    "            raise ValueError(msg)\n",
    "    "
   ]
  },
  {
   "cell_type": "markdown",
   "id": "92a36bd2",
   "metadata": {},
   "source": [
    "## 13-12. n면체 주사위 만들기 (4) FunnyDice 클래스 테스트, get_input 함수"
   ]
  },
  {
   "cell_type": "code",
   "execution_count": 54,
   "id": "98621b04",
   "metadata": {},
   "outputs": [
    {
     "name": "stdout",
     "output_type": "stream",
     "text": [
      "2\n"
     ]
    }
   ],
   "source": [
    "mydice = FunnyDice()\n",
    "mydice.throw()\n",
    "print(mydice.getval())\n",
    "mydice.setval(3)"
   ]
  },
  {
   "cell_type": "markdown",
   "id": "70c362f5",
   "metadata": {},
   "source": [
    "### get_inputs() 함수 만들기"
   ]
  },
  {
   "cell_type": "code",
   "execution_count": 55,
   "id": "c7f86875",
   "metadata": {},
   "outputs": [],
   "source": [
    "def get_inputs():\n",
    "    n = int(input(\"주사위 면의 개수를 입력하세요 : \"))\n",
    "    return n"
   ]
  },
  {
   "cell_type": "markdown",
   "id": "531fb57f",
   "metadata": {},
   "source": [
    "## 13.13 n면체 주사위 만들기 (5) 완성 코드"
   ]
  },
  {
   "cell_type": "code",
   "execution_count": 56,
   "id": "9c3c6423",
   "metadata": {},
   "outputs": [
    {
     "name": "stdout",
     "output_type": "stream",
     "text": [
      "주사위 면의 개수를 입력하세요: 77\n",
      "행운의 숫자는? 31\n"
     ]
    }
   ],
   "source": [
    "# funnydice.py\n",
    "\n",
    "from random import randrange\n",
    "\n",
    "class FunnyDice:\n",
    "    def __init__(self, n=6):\n",
    "        self.n = n\n",
    "        self.options = list(range(1, n+1))\n",
    "        self.index = randrange(0, self.n)\n",
    "        self.val = self.options[self.index]\n",
    "    \n",
    "    def throw(self):\n",
    "        self.index = randrange(0, self.n)\n",
    "        self.val = self.options[self.index]\n",
    "    \n",
    "    def getval(self):\n",
    "        return self.val\n",
    "    \n",
    "    def setval(self, val):\n",
    "        if val <= self.n:\n",
    "            self.val = val\n",
    "        else:\n",
    "            msg = \"주사위에 없는 숫자입니다. 주사위는 1 ~ {0}까지 있습니다. \".format(self.n)\n",
    "            raise ValueError(msg)\n",
    "\n",
    "def get_inputs():\n",
    "    n = int(input(\"주사위 면의 개수를 입력하세요: \"))\n",
    "    return n\n",
    "\n",
    "def main():\n",
    "    n = get_inputs()\n",
    "    mydice = FunnyDice(n)\n",
    "    mydice.throw()\n",
    "    print(\"행운의 숫자는? {0}\".format(mydice.getval()))\n",
    "\n",
    "if __name__ == '__main__':\n",
    "    main()"
   ]
  },
  {
   "cell_type": "code",
   "execution_count": null,
   "id": "c6ae07be",
   "metadata": {},
   "outputs": [],
   "source": []
  }
 ],
 "metadata": {
  "kernelspec": {
   "display_name": "Python 3 (ipykernel)",
   "language": "python",
   "name": "python3"
  },
  "language_info": {
   "codemirror_mode": {
    "name": "ipython",
    "version": 3
   },
   "file_extension": ".py",
   "mimetype": "text/x-python",
   "name": "python",
   "nbconvert_exporter": "python",
   "pygments_lexer": "ipython3",
   "version": "3.9.7"
  }
 },
 "nbformat": 4,
 "nbformat_minor": 5
}
